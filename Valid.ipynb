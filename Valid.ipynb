{
  "cells": [
    {
      "cell_type": "markdown",
      "metadata": {
        "id": "view-in-github",
        "colab_type": "text"
      },
      "source": [
        "<a href=\"https://colab.research.google.com/github/gzguevara/amex_kaggle/blob/master/Valid.ipynb\" target=\"_parent\"><img src=\"https://colab.research.google.com/assets/colab-badge.svg\" alt=\"Open In Colab\"/></a>"
      ]
    },
    {
      "cell_type": "markdown",
      "metadata": {
        "id": "ObMQ3a0ysa8T"
      },
      "source": [
        "# Import Drive and XGB"
      ]
    },
    {
      "cell_type": "code",
      "execution_count": 5,
      "metadata": {
        "colab": {
          "base_uri": "https://localhost:8080/"
        },
        "id": "R1HH8LtCr7HY",
        "outputId": "5cbce504-f224-4863-cfb1-9bfbfa8c29a2"
      },
      "outputs": [
        {
          "output_type": "stream",
          "name": "stdout",
          "text": [
            "Mounted at /content/drive\n"
          ]
        }
      ],
      "source": [
        "from google.colab import drive\n",
        "drive.mount('/content/drive')\n",
        "\n",
        "!pip uninstall xgboost\n",
        "!pip install xgboost"
      ]
    },
    {
      "cell_type": "markdown",
      "metadata": {
        "id": "QadLq80csfOx"
      },
      "source": [
        "# Imports"
      ]
    },
    {
      "cell_type": "code",
      "execution_count": 2,
      "metadata": {
        "id": "yos6IF2wsOw5"
      },
      "outputs": [],
      "source": [
        "import pandas as pd\n",
        "import numpy  as np  \n",
        "\n",
        "import xgboost as xgb\n",
        "\n",
        "import sys\n",
        "\n",
        "import cupy\n",
        "# for cupu memory managmet\n",
        "mempool        = cupy.get_default_memory_pool()\n",
        "pinned_mempool = cupy.get_default_pinned_memory_pool()\n",
        "\n",
        "# Paths\n",
        "test_dir    = '/content/drive/MyDrive/KaggleAMEX/Data/test.parquet'\n",
        "train_dir    = '/content/drive/MyDrive/KaggleAMEX/Data/train.parquet'\n",
        "model_dir   = '/content/drive/MyDrive/KaggleAMEX/Models'\n",
        "sub_dir     = '/content/drive/MyDrive/KaggleAMEX/Data/sample_submission.csv'\n",
        "results_dir = '/content/drive/MyDrive/KaggleAMEX/Results'\n",
        "freq_dir    = '/content/drive/MyDrive/KaggleAMEX/Data/test/frequency.csv'\n",
        "\n",
        "#Parameters\n",
        "SEED, FOLDS = 42, 5\n"
      ]
    },
    {
      "cell_type": "markdown",
      "metadata": {
        "id": "0pGDK_UP5Qcl"
      },
      "source": [
        "# Read Function"
      ]
    },
    {
      "cell_type": "code",
      "execution_count": 3,
      "metadata": {
        "id": "v7dMy4mU3SLy"
      },
      "outputs": [],
      "source": [
        "# The following features have been computed earlier in the notebook 'feature_engineering'\n",
        "def read_test(range, feature_order):\n",
        "\n",
        "    frequency = pd.read_csv(freq_dir, index_col=0)\n",
        "    customers = frequency.loc[frequency.frequency.isin(range)].index.values\n",
        "    \n",
        "    # num - mean, std, min, max, last, first  cat - last, unique\n",
        "    dir = '/content/drive/MyDrive/KaggleAMEX/Data/test/base_variables_test.parquet'\n",
        "    df  = pd.read_parquet(dir)\n",
        "    df  = df.loc[customers, [x for x in df.columns if x in feature_order]]\n",
        "    \n",
        "    # replace categorial\n",
        "    dir = '/content/drive/MyDrive/KaggleAMEX/Data/test/base_variables_cat_woe_test.parquet'\n",
        "    new = pd.read_parquet(dir)\n",
        "    new = new.loc[customers, [x for x in new.columns if x in feature_order]]\n",
        "    df[new.columns]  = new\n",
        "    print('Done base', df.shape)\n",
        "\n",
        "    # categorial & binary state changes\n",
        "    dir = '/content/drive/MyDrive/KaggleAMEX/Data/test/state_changes_test.parquet'\n",
        "    new = pd.read_parquet(dir)\n",
        "    new = new.loc[customers, [x for x in new.columns if x in feature_order]]\n",
        "    df  = pd.concat([new, df], axis=1)\n",
        "    print('Done state changes', df.shape)\n",
        "    \n",
        "    # p_b_s_r_d variables corr and cat/bin sum \n",
        "    dir = '/content/drive/MyDrive/KaggleAMEX/Data/test/p_b_s_r_d_test.parquet'\n",
        "    new = pd.read_parquet(dir)\n",
        "    new = new.loc[customers, [x for x in new.columns if x in feature_order]]\n",
        "    df  = pd.concat([new, df], axis=1)\n",
        "    print('Done p_b_s_r_d variables', df.shape)\n",
        "    \n",
        "    # count na & not na values\n",
        "    dir = '/content/drive/MyDrive/KaggleAMEX/Data/test/mean_na_test.parquet'\n",
        "    new = pd.read_parquet(dir)\n",
        "    new = new.loc[customers, [x for x in new.columns if x in feature_order]]\n",
        "    df  = pd.concat([new, df], axis=1)\n",
        "    print('Done count na variables', df.shape)\n",
        "\n",
        "    # non linear numerical\n",
        "    dir = '/content/drive/MyDrive/KaggleAMEX/Data/test/nonlinear_test.parquet'\n",
        "    new = pd.read_parquet(dir)\n",
        "    new = new.loc[customers, [x for x in new.columns if x in feature_order]]\n",
        "    df  = pd.concat([new, df], axis=1)\n",
        "    print('Done non linear', df.shape)\n",
        "\n",
        "    # First & second difference\n",
        "    dir = '/content/drive/MyDrive/KaggleAMEX/Data/test/diffs_test.parquet'\n",
        "    new = pd.read_parquet(dir)\n",
        "    new = new.loc[customers, [x for x in new.columns if x in feature_order]]\n",
        "    df  = pd.concat([new, df], axis=1)\n",
        "    print('Done diff_1 variables', df.shape)\n",
        "    \n",
        "    # Sum woe numerical\n",
        "    dir = '/content/drive/MyDrive/KaggleAMEX/Data/test/num_woe_sum_test.parquet'\n",
        "    new = pd.read_parquet(dir)\n",
        "    new = new.loc[customers, [x for x in new.columns if x in feature_order]]\n",
        "    df  = pd.concat([new, df], axis=1)\n",
        "    print('Done sum woe', df.shape)\n",
        "\n",
        "    # Advanced\n",
        "    dir = '/content/drive/MyDrive/KaggleAMEX/Data/test/advanced_test.parquet'\n",
        "    new = pd.read_parquet(dir)\n",
        "    new = new.loc[customers, [x for x in new.columns if x in feature_order]]\n",
        "    df  = pd.concat([new, df], axis=1)\n",
        "    print('Done advanced features', df.shape)\n",
        "\n",
        "    return df"
      ]
    },
    {
      "cell_type": "code",
      "source": [
        "current_test = read_test(list(range(1,14)), features.order.to_list())"
      ],
      "metadata": {
        "id": "E9U9cz4yKtlg"
      },
      "execution_count": null,
      "outputs": []
    },
    {
      "cell_type": "markdown",
      "metadata": {
        "id": "uZb7ywskQhsx"
      },
      "source": [
        "# Predict Customer Groups"
      ]
    },
    {
      "cell_type": "markdown",
      "source": [
        "This loop predicts outcomes based on different models for different groups of customers."
      ],
      "metadata": {
        "id": "iwfJxLcIEgJv"
      }
    },
    {
      "cell_type": "code",
      "execution_count": null,
      "metadata": {
        "id": "1MCV9Tmo5bTf"
      },
      "outputs": [],
      "source": [
        "submission = pd.read_csv(sub_dir)\n",
        "ranges     = [[1], [2,3,4,5,6,7,8,9,10,11,12], [13]]\n",
        "model      = xgb.Booster()\n",
        "frequency  = pd.read_csv(freq_dir, index_col=0)\n",
        "\n",
        "for freq, cus_range in enumerate(ranges):\n",
        "\n",
        "    features    = pd.read_csv(f'{model_dir}/freq_{freq+1}/features.csv', index_col=0)\n",
        "    customers   = frequency.loc[frequency.frequency.isin(cus_range)].index.values\n",
        "    predictions = pd.DataFrame()\n",
        "\n",
        "    for model_type in ['avg', 'oof']:\n",
        "\n",
        "        print('\\n', f'freq {freq} model_type {model_type}', '\\n')\n",
        "\n",
        "        feature_order   = features[f'order_{model_type}'].to_list()\n",
        "        feature_weights = features[f'weights_{model_type}'].to_list()\n",
        "        \n",
        "        current_test = read_test(cus_range, feature_order)\n",
        "        current_test = current_test.reindex(columns=feature_order)\n",
        "        current_test = xgb.DMatrix(data=np.array(current_test), feature_weights=feature_weights)\n",
        "\n",
        "        for fold in range(0,FOLDS):\n",
        "            \n",
        "            # Load model\n",
        "            model.load_model(f'{model_dir}/freq_{freq+1}/{model_type}_fold_{fold}.xgb')\n",
        "            # Make prediction\n",
        "            cur_preds = model.predict(current_test, iteration_range=(0, model.best_iteration + 1))\n",
        "            # Append prediction\n",
        "            predictions[f'type_{model_type}_fold_{fold}'] = cur_preds\n",
        "        \n",
        "        # Clean RAM & GPU RAM\n",
        "        del current_test, cur_preds\n",
        "            \n",
        "    submission.loc[customers, 'prediction'] = predictions.median(axis=1).values "
      ]
    },
    {
      "cell_type": "markdown",
      "source": [
        "# Predict All Customers"
      ],
      "metadata": {
        "id": "ndb245m1TY2j"
      }
    },
    {
      "cell_type": "markdown",
      "source": [
        "This loop predicts outcomes for customers based on one model"
      ],
      "metadata": {
        "id": "RDrLKXzYE6Br"
      }
    },
    {
      "cell_type": "code",
      "source": [
        "model       = xgb.Booster()\n",
        "predictions = pd.DataFrame()\n",
        "features    = pd.read_csv(f'{model_dir}/all/features.csv', index_col=0)\n",
        "cus_range   = list(range(1,14))\n",
        "\n",
        "feature_order   = features[f'order'].to_list()\n",
        "feature_weights = features[f'weights'].to_list()\n",
        "\n",
        "current_test = read_test(cus_range, feature_order)\n",
        "current_test = current_test.reindex(columns=feature_order)\n",
        "\n",
        "current_test = xgb.DMatrix(data=np.array(current_test), feature_weights=feature_weights)\n",
        "\n",
        "for model_type in ['avg']:\n",
        "\n",
        "    for fold in range(0,FOLDS):\n",
        "\n",
        "        print(f'Predict {model_type} fold {fold}')\n",
        "        \n",
        "        # Load model\n",
        "        model.load_model(f'{model_dir}/all/{model_type}_fold_{fold}.xgb')\n",
        "        # Make prediction\n",
        "        cur_preds = model.predict(current_test, iteration_range=(0, model.best_iteration + 1))\n",
        "        # Append prediction\n",
        "        predictions[f'type_{model_type}_fold_{fold}'] = cur_preds\n",
        "      \n",
        "  "
      ],
      "metadata": {
        "id": "KS_PY6D5djAR"
      },
      "execution_count": null,
      "outputs": []
    },
    {
      "cell_type": "markdown",
      "metadata": {
        "id": "p0ACW2WZQhsx"
      },
      "source": [
        "# Create Submission CSV"
      ]
    },
    {
      "cell_type": "code",
      "source": [
        "predictions[['type_avg_fold_0',\t'type_avg_fold_1', 'type_avg_fold_2', 'type_avg_fold_4']].mean(axis=1).plot(kind='hist', bins=200)"
      ],
      "metadata": {
        "colab": {
          "base_uri": "https://localhost:8080/",
          "height": 283
        },
        "id": "MwC0QE7i0QG9",
        "outputId": "fb4611b3-ebf8-4226-ce13-9624f8a26c11"
      },
      "execution_count": 19,
      "outputs": [
        {
          "output_type": "execute_result",
          "data": {
            "text/plain": [
              "<matplotlib.axes._subplots.AxesSubplot at 0x7f816f228450>"
            ]
          },
          "metadata": {},
          "execution_count": 19
        },
        {
          "output_type": "display_data",
          "data": {
            "text/plain": [
              "<Figure size 432x288 with 1 Axes>"
            ],
            "image/png": "[encoded data removed]"
          },
          "metadata": {
            "needs_background": "light"
          }
        }
      ]
    },
    {
      "cell_type": "code",
      "source": [
        "submission = pd.read_csv(sub_dir)"
      ],
      "metadata": {
        "id": "8CCTmnPfAX2M"
      },
      "execution_count": 16,
      "outputs": []
    },
    {
      "cell_type": "code",
      "source": [
        "submission.prediction = predictions.prediction_2"
      ],
      "metadata": {
        "id": "JiG_9m6_AlKA"
      },
      "execution_count": 61,
      "outputs": []
    },
    {
      "cell_type": "code",
      "execution_count": 62,
      "metadata": {
        "colab": {
          "base_uri": "https://localhost:8080/",
          "height": 206
        },
        "id": "EARg6mgeQhsx",
        "outputId": "20b62eb4-6764-4923-a90d-6c26240e2abe"
      },
      "outputs": [
        {
          "output_type": "execute_result",
          "data": {
            "text/plain": [
              "                                         customer_ID  prediction\n",
              "0  00000469ba478561f23a92a868bd366de6f6527a684c9a...    0.040339\n",
              "1  00001bf2e77ff879fab36aa4fac689b9ba411dae63ae39...    0.001177\n",
              "2  0000210045da4f81e5f122c6bde5c2a617d03eef67f82c...    0.039301\n",
              "3  00003b41e58ede33b8daf61ab56d9952f17c9ad1c3976c...    0.479780\n",
              "4  00004b22eaeeeb0ec976890c1d9bfc14fd9427e98c4ee9...    0.904219"
            ],
            "text/html": [
              "\n",
              "  <div id=\"df-b7207bff-1bf8-426b-a1a3-96991c540c7f\">\n",
              "    <div class=\"colab-df-container\">\n",
              "      <div>\n",
              "<style scoped>\n",
              "    .dataframe tbody tr th:only-of-type {\n",
              "        vertical-align: middle;\n",
              "    }\n",
              "\n",
              "    .dataframe tbody tr th {\n",
              "        vertical-align: top;\n",
              "    }\n",
              "\n",
              "    .dataframe thead th {\n",
              "        text-align: right;\n",
              "    }\n",
              "</style>\n",
              "<table border=\"1\" class=\"dataframe\">\n",
              "  <thead>\n",
              "    <tr style=\"text-align: right;\">\n",
              "      <th></th>\n",
              "      <th>customer_ID</th>\n",
              "      <th>prediction</th>\n",
              "    </tr>\n",
              "  </thead>\n",
              "  <tbody>\n",
              "    <tr>\n",
              "      <th>0</th>\n",
              "      <td>00000469ba478561f23a92a868bd366de6f6527a684c9a...</td>\n",
              "      <td>0.040339</td>\n",
              "    </tr>\n",
              "    <tr>\n",
              "      <th>1</th>\n",
              "      <td>00001bf2e77ff879fab36aa4fac689b9ba411dae63ae39...</td>\n",
              "      <td>0.001177</td>\n",
              "    </tr>\n",
              "    <tr>\n",
              "      <th>2</th>\n",
              "      <td>0000210045da4f81e5f122c6bde5c2a617d03eef67f82c...</td>\n",
              "      <td>0.039301</td>\n",
              "    </tr>\n",
              "    <tr>\n",
              "      <th>3</th>\n",
              "      <td>00003b41e58ede33b8daf61ab56d9952f17c9ad1c3976c...</td>\n",
              "      <td>0.479780</td>\n",
              "    </tr>\n",
              "    <tr>\n",
              "      <th>4</th>\n",
              "      <td>00004b22eaeeeb0ec976890c1d9bfc14fd9427e98c4ee9...</td>\n",
              "      <td>0.904219</td>\n",
              "    </tr>\n",
              "  </tbody>\n",
              "</table>\n",
              "</div>\n",
              "      <button class=\"colab-df-convert\" onclick=\"convertToInteractive('df-b7207bff-1bf8-426b-a1a3-96991c540c7f')\"\n",
              "              title=\"Convert this dataframe to an interactive table.\"\n",
              "              style=\"display:none;\">\n",
              "        \n",
              "  <svg xmlns=\"http://www.w3.org/2000/svg\" height=\"24px\"viewBox=\"0 0 24 24\"\n",
              "       width=\"24px\">\n",
              "    <path d=\"M0 0h24v24H0V0z\" fill=\"none\"/>\n",
              "    <path d=\"M18.56 5.44l.94 2.06.94-2.06 2.06-.94-2.06-.94-.94-2.06-.94 2.06-2.06.94zm-11 1L8.5 8.5l.94-2.06 2.06-.94-2.06-.94L8.5 2.5l-.94 2.06-2.06.94zm10 10l.94 2.06.94-2.06 2.06-.94-2.06-.94-.94-2.06-.94 2.06-2.06.94z\"/><path d=\"M17.41 7.96l-1.37-1.37c-.4-.4-.92-.59-1.43-.59-.52 0-1.04.2-1.43.59L10.3 9.45l-7.72 7.72c-.78.78-.78 2.05 0 2.83L4 21.41c.39.39.9.59 1.41.59.51 0 1.02-.2 1.41-.59l7.78-7.78 2.81-2.81c.8-.78.8-2.07 0-2.86zM5.41 20L4 18.59l7.72-7.72 1.47 1.35L5.41 20z\"/>\n",
              "  </svg>\n",
              "      </button>\n",
              "      \n",
              "  <style>\n",
              "    .colab-df-container {\n",
              "      display:flex;\n",
              "      flex-wrap:wrap;\n",
              "      gap: 12px;\n",
              "    }\n",
              "\n",
              "    .colab-df-convert {\n",
              "      background-color: #E8F0FE;\n",
              "      border: none;\n",
              "      border-radius: 50%;\n",
              "      cursor: pointer;\n",
              "      display: none;\n",
              "      fill: #1967D2;\n",
              "      height: 32px;\n",
              "      padding: 0 0 0 0;\n",
              "      width: 32px;\n",
              "    }\n",
              "\n",
              "    .colab-df-convert:hover {\n",
              "      background-color: #E2EBFA;\n",
              "      box-shadow: 0px 1px 2px rgba(60, 64, 67, 0.3), 0px 1px 3px 1px rgba(60, 64, 67, 0.15);\n",
              "      fill: #174EA6;\n",
              "    }\n",
              "\n",
              "    [theme=dark] .colab-df-convert {\n",
              "      background-color: #3B4455;\n",
              "      fill: #D2E3FC;\n",
              "    }\n",
              "\n",
              "    [theme=dark] .colab-df-convert:hover {\n",
              "      background-color: #434B5C;\n",
              "      box-shadow: 0px 1px 3px 1px rgba(0, 0, 0, 0.15);\n",
              "      filter: drop-shadow(0px 1px 2px rgba(0, 0, 0, 0.3));\n",
              "      fill: #FFFFFF;\n",
              "    }\n",
              "  </style>\n",
              "\n",
              "      <script>\n",
              "        const buttonEl =\n",
              "          document.querySelector('#df-b7207bff-1bf8-426b-a1a3-96991c540c7f button.colab-df-convert');\n",
              "        buttonEl.style.display =\n",
              "          google.colab.kernel.accessAllowed ? 'block' : 'none';\n",
              "\n",
              "        async function convertToInteractive(key) {\n",
              "          const element = document.querySelector('#df-b7207bff-1bf8-426b-a1a3-96991c540c7f');\n",
              "          const dataTable =\n",
              "            await google.colab.kernel.invokeFunction('convertToInteractive',\n",
              "                                                     [key], {});\n",
              "          if (!dataTable) return;\n",
              "\n",
              "          const docLinkHtml = 'Like what you see? Visit the ' +\n",
              "            '<a target=\"_blank\" href=https://colab.research.google.com/notebooks/data_table.ipynb>data table notebook</a>'\n",
              "            + ' to learn more about interactive tables.';\n",
              "          element.innerHTML = '';\n",
              "          dataTable['output_type'] = 'display_data';\n",
              "          await google.colab.output.renderOutput(dataTable, element);\n",
              "          const docLink = document.createElement('div');\n",
              "          docLink.innerHTML = docLinkHtml;\n",
              "          element.appendChild(docLink);\n",
              "        }\n",
              "      </script>\n",
              "    </div>\n",
              "  </div>\n",
              "  "
            ]
          },
          "metadata": {},
          "execution_count": 62
        }
      ],
      "source": [
        "# DISPLAY PREDICTIONS\n",
        "submission.to_csv(f'{results_dir}/submission_xgb.csv',index=False)\n",
        "submission.head()"
      ]
    },
    {
      "cell_type": "code",
      "execution_count": null,
      "metadata": {
        "colab": {
          "base_uri": "https://localhost:8080/",
          "height": 206
        },
        "id": "GTkmfJvTziZB",
        "outputId": "aaedb4e1-af50-4de3-cba1-07b355ea7c00"
      },
      "outputs": [
        {
          "data": {
            "text/html": [
              "\n",
              "  <div id=\"df-e175c6fc-9211-44ce-8ced-d092fa7593c3\">\n",
              "    <div class=\"colab-df-container\">\n",
              "      <div>\n",
              "<style scoped>\n",
              "    .dataframe tbody tr th:only-of-type {\n",
              "        vertical-align: middle;\n",
              "    }\n",
              "\n",
              "    .dataframe tbody tr th {\n",
              "        vertical-align: top;\n",
              "    }\n",
              "\n",
              "    .dataframe thead th {\n",
              "        text-align: right;\n",
              "    }\n",
              "</style>\n",
              "<table border=\"1\" class=\"dataframe\">\n",
              "  <thead>\n",
              "    <tr style=\"text-align: right;\">\n",
              "      <th></th>\n",
              "      <th>customer_ID</th>\n",
              "      <th>prediction</th>\n",
              "    </tr>\n",
              "  </thead>\n",
              "  <tbody>\n",
              "    <tr>\n",
              "      <th>0</th>\n",
              "      <td>00000469ba478561f23a92a868bd366de6f6527a684c9a...</td>\n",
              "      <td>0.039948</td>\n",
              "    </tr>\n",
              "    <tr>\n",
              "      <th>1</th>\n",
              "      <td>00001bf2e77ff879fab36aa4fac689b9ba411dae63ae39...</td>\n",
              "      <td>0.004983</td>\n",
              "    </tr>\n",
              "    <tr>\n",
              "      <th>2</th>\n",
              "      <td>0000210045da4f81e5f122c6bde5c2a617d03eef67f82c...</td>\n",
              "      <td>0.077586</td>\n",
              "    </tr>\n",
              "    <tr>\n",
              "      <th>3</th>\n",
              "      <td>00003b41e58ede33b8daf61ab56d9952f17c9ad1c3976c...</td>\n",
              "      <td>0.506712</td>\n",
              "    </tr>\n",
              "    <tr>\n",
              "      <th>4</th>\n",
              "      <td>00004b22eaeeeb0ec976890c1d9bfc14fd9427e98c4ee9...</td>\n",
              "      <td>0.957867</td>\n",
              "    </tr>\n",
              "  </tbody>\n",
              "</table>\n",
              "</div>\n",
              "      <button class=\"colab-df-convert\" onclick=\"convertToInteractive('df-e175c6fc-9211-44ce-8ced-d092fa7593c3')\"\n",
              "              title=\"Convert this dataframe to an interactive table.\"\n",
              "              style=\"display:none;\">\n",
              "        \n",
              "  <svg xmlns=\"http://www.w3.org/2000/svg\" height=\"24px\"viewBox=\"0 0 24 24\"\n",
              "       width=\"24px\">\n",
              "    <path d=\"M0 0h24v24H0V0z\" fill=\"none\"/>\n",
              "    <path d=\"M18.56 5.44l.94 2.06.94-2.06 2.06-.94-2.06-.94-.94-2.06-.94 2.06-2.06.94zm-11 1L8.5 8.5l.94-2.06 2.06-.94-2.06-.94L8.5 2.5l-.94 2.06-2.06.94zm10 10l.94 2.06.94-2.06 2.06-.94-2.06-.94-.94-2.06-.94 2.06-2.06.94z\"/><path d=\"M17.41 7.96l-1.37-1.37c-.4-.4-.92-.59-1.43-.59-.52 0-1.04.2-1.43.59L10.3 9.45l-7.72 7.72c-.78.78-.78 2.05 0 2.83L4 21.41c.39.39.9.59 1.41.59.51 0 1.02-.2 1.41-.59l7.78-7.78 2.81-2.81c.8-.78.8-2.07 0-2.86zM5.41 20L4 18.59l7.72-7.72 1.47 1.35L5.41 20z\"/>\n",
              "  </svg>\n",
              "      </button>\n",
              "      \n",
              "  <style>\n",
              "    .colab-df-container {\n",
              "      display:flex;\n",
              "      flex-wrap:wrap;\n",
              "      gap: 12px;\n",
              "    }\n",
              "\n",
              "    .colab-df-convert {\n",
              "      background-color: #E8F0FE;\n",
              "      border: none;\n",
              "      border-radius: 50%;\n",
              "      cursor: pointer;\n",
              "      display: none;\n",
              "      fill: #1967D2;\n",
              "      height: 32px;\n",
              "      padding: 0 0 0 0;\n",
              "      width: 32px;\n",
              "    }\n",
              "\n",
              "    .colab-df-convert:hover {\n",
              "      background-color: #E2EBFA;\n",
              "      box-shadow: 0px 1px 2px rgba(60, 64, 67, 0.3), 0px 1px 3px 1px rgba(60, 64, 67, 0.15);\n",
              "      fill: #174EA6;\n",
              "    }\n",
              "\n",
              "    [theme=dark] .colab-df-convert {\n",
              "      background-color: #3B4455;\n",
              "      fill: #D2E3FC;\n",
              "    }\n",
              "\n",
              "    [theme=dark] .colab-df-convert:hover {\n",
              "      background-color: #434B5C;\n",
              "      box-shadow: 0px 1px 3px 1px rgba(0, 0, 0, 0.15);\n",
              "      filter: drop-shadow(0px 1px 2px rgba(0, 0, 0, 0.3));\n",
              "      fill: #FFFFFF;\n",
              "    }\n",
              "  </style>\n",
              "\n",
              "      <script>\n",
              "        const buttonEl =\n",
              "          document.querySelector('#df-e175c6fc-9211-44ce-8ced-d092fa7593c3 button.colab-df-convert');\n",
              "        buttonEl.style.display =\n",
              "          google.colab.kernel.accessAllowed ? 'block' : 'none';\n",
              "\n",
              "        async function convertToInteractive(key) {\n",
              "          const element = document.querySelector('#df-e175c6fc-9211-44ce-8ced-d092fa7593c3');\n",
              "          const dataTable =\n",
              "            await google.colab.kernel.invokeFunction('convertToInteractive',\n",
              "                                                     [key], {});\n",
              "          if (!dataTable) return;\n",
              "\n",
              "          const docLinkHtml = 'Like what you see? Visit the ' +\n",
              "            '<a target=\"_blank\" href=https://colab.research.google.com/notebooks/data_table.ipynb>data table notebook</a>'\n",
              "            + ' to learn more about interactive tables.';\n",
              "          element.innerHTML = '';\n",
              "          dataTable['output_type'] = 'display_data';\n",
              "          await google.colab.output.renderOutput(dataTable, element);\n",
              "          const docLink = document.createElement('div');\n",
              "          docLink.innerHTML = docLinkHtml;\n",
              "          element.appendChild(docLink);\n",
              "        }\n",
              "      </script>\n",
              "    </div>\n",
              "  </div>\n",
              "  "
            ],
            "text/plain": [
              "                                         customer_ID  prediction\n",
              "0  00000469ba478561f23a92a868bd366de6f6527a684c9a...    0.039948\n",
              "1  00001bf2e77ff879fab36aa4fac689b9ba411dae63ae39...    0.004983\n",
              "2  0000210045da4f81e5f122c6bde5c2a617d03eef67f82c...    0.077586\n",
              "3  00003b41e58ede33b8daf61ab56d9952f17c9ad1c3976c...    0.506712\n",
              "4  00004b22eaeeeb0ec976890c1d9bfc14fd9427e98c4ee9...    0.957867"
            ]
          },
          "execution_count": 24,
          "metadata": {},
          "output_type": "execute_result"
        }
      ],
      "source": [
        "# DISPLAY PREDICTIONS\n",
        "submission.to_csv(f'{results_dir}/submission_xgb.csv',index=False)\n",
        "submission.head()"
      ]
    }
  ],
  "metadata": {
    "colab": {
      "collapsed_sections": [],
      "machine_shape": "hm",
      "name": "Valid.ipynb",
      "provenance": [],
      "authorship_tag": "ABX9TyOavAtXuXjC3Z+21Qz/Mo9F",
      "include_colab_link": true
    },
    "gpuClass": "standard",
    "kernelspec": {
      "display_name": "Python 3",
      "name": "python3"
    },
    "language_info": {
      "name": "python"
    },
    "accelerator": "GPU"
  },
  "nbformat": 4,
  "nbformat_minor": 0
}