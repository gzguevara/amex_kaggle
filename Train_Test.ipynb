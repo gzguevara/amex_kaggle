{
  "cells": [
    {
      "cell_type": "markdown",
      "metadata": {
        "id": "view-in-github",
        "colab_type": "text"
      },
      "source": [
        "<a href=\"https://colab.research.google.com/github/gzguevara/amex_kaggle/blob/master/Train_Test.ipynb\" target=\"_parent\"><img src=\"https://colab.research.google.com/assets/colab-badge.svg\" alt=\"Open In Colab\"/></a>"
      ]
    },
    {
      "cell_type": "markdown",
      "metadata": {
        "id": "rrb7n4eJF27U"
      },
      "source": [
        "# Import Drive and XGB"
      ]
    },
    {
      "cell_type": "code",
      "execution_count": 1,
      "metadata": {
        "colab": {
          "base_uri": "https://localhost:8080/"
        },
        "id": "Han3-fXyTN6j",
        "outputId": "c90bdf3e-7b64-4a97-e49f-cdb79681ff3f"
      },
      "outputs": [
        {
          "output_type": "stream",
          "name": "stdout",
          "text": [
            "Mounted at /content/drive\n",
            "Found existing installation: xgboost 0.90\n",
            "Uninstalling xgboost-0.90:\n",
            "  Would remove:\n",
            "    /usr/local/lib/python3.7/dist-packages/xgboost-0.90.dist-info/*\n",
            "    /usr/local/lib/python3.7/dist-packages/xgboost/*\n",
            "    /usr/local/xgboost/libxgboost.so\n",
            "Proceed (y/n)? y\n",
            "  Successfully uninstalled xgboost-0.90\n",
            "Looking in indexes: https://pypi.org/simple, https://us-python.pkg.dev/colab-wheels/public/simple/\n",
            "Collecting xgboost\n",
            "  Downloading xgboost-1.6.2-py3-none-manylinux2014_x86_64.whl (255.9 MB)\n",
            "\u001b[K     |████████████████████████████████| 255.9 MB 34 kB/s \n",
            "\u001b[?25hRequirement already satisfied: scipy in /usr/local/lib/python3.7/dist-packages (from xgboost) (1.7.3)\n",
            "Requirement already satisfied: numpy in /usr/local/lib/python3.7/dist-packages (from xgboost) (1.21.6)\n",
            "Installing collected packages: xgboost\n",
            "Successfully installed xgboost-1.6.2\n"
          ]
        }
      ],
      "source": [
        "from google.colab import drive\n",
        "drive.mount('/content/drive')\n",
        "\n",
        "!pip uninstall xgboost\n",
        "!pip install xgboost"
      ]
    },
    {
      "cell_type": "code",
      "source": [
        "!pip install BetaBoost"
      ],
      "metadata": {
        "colab": {
          "base_uri": "https://localhost:8080/"
        },
        "id": "bz2899jWDPP7",
        "outputId": "349548a9-9b60-4ab9-e7dc-1f462395e97d"
      },
      "execution_count": 2,
      "outputs": [
        {
          "output_type": "stream",
          "name": "stdout",
          "text": [
            "Looking in indexes: https://pypi.org/simple, https://us-python.pkg.dev/colab-wheels/public/simple/\n",
            "Collecting BetaBoost\n",
            "  Downloading BetaBoost-0.0.5.tar.gz (3.9 kB)\n",
            "Requirement already satisfied: xgboost in /usr/local/lib/python3.7/dist-packages (from BetaBoost) (1.6.2)\n",
            "Requirement already satisfied: pandas in /usr/local/lib/python3.7/dist-packages (from BetaBoost) (1.3.5)\n",
            "Requirement already satisfied: numpy in /usr/local/lib/python3.7/dist-packages (from BetaBoost) (1.21.6)\n",
            "Requirement already satisfied: scipy in /usr/local/lib/python3.7/dist-packages (from BetaBoost) (1.7.3)\n",
            "Requirement already satisfied: matplotlib in /usr/local/lib/python3.7/dist-packages (from BetaBoost) (3.2.2)\n",
            "Requirement already satisfied: python-dateutil>=2.1 in /usr/local/lib/python3.7/dist-packages (from matplotlib->BetaBoost) (2.8.2)\n",
            "Requirement already satisfied: kiwisolver>=1.0.1 in /usr/local/lib/python3.7/dist-packages (from matplotlib->BetaBoost) (1.4.4)\n",
            "Requirement already satisfied: pyparsing!=2.0.4,!=2.1.2,!=2.1.6,>=2.0.1 in /usr/local/lib/python3.7/dist-packages (from matplotlib->BetaBoost) (3.0.9)\n",
            "Requirement already satisfied: cycler>=0.10 in /usr/local/lib/python3.7/dist-packages (from matplotlib->BetaBoost) (0.11.0)\n",
            "Requirement already satisfied: typing-extensions in /usr/local/lib/python3.7/dist-packages (from kiwisolver>=1.0.1->matplotlib->BetaBoost) (4.1.1)\n",
            "Requirement already satisfied: six>=1.5 in /usr/local/lib/python3.7/dist-packages (from python-dateutil>=2.1->matplotlib->BetaBoost) (1.15.0)\n",
            "Requirement already satisfied: pytz>=2017.3 in /usr/local/lib/python3.7/dist-packages (from pandas->BetaBoost) (2022.2.1)\n",
            "Building wheels for collected packages: BetaBoost\n",
            "  Building wheel for BetaBoost (setup.py) ... \u001b[?25l\u001b[?25hdone\n",
            "  Created wheel for BetaBoost: filename=BetaBoost-0.0.5-py3-none-any.whl size=4105 sha256=1480a706aaa8e01af7ebe599787202ae71c0167930ba1aba545a5f441fee77c3\n",
            "  Stored in directory: /root/.cache/pip/wheels/fc/01/1b/eda73e1df9c3c8641e196622095ef13729cf408afe9287da3b\n",
            "Successfully built BetaBoost\n",
            "Installing collected packages: BetaBoost\n",
            "Successfully installed BetaBoost-0.0.5\n"
          ]
        }
      ]
    },
    {
      "cell_type": "code",
      "source": [
        "from BetaBoost import BetaBoost as bb\n",
        "import matplotlib.pyplot as plt"
      ],
      "metadata": {
        "id": "B8eeTj6ZDfpZ"
      },
      "execution_count": 3,
      "outputs": []
    },
    {
      "cell_type": "code",
      "source": [
        "def beta_pdf(scalar=1.5, a=26, b=1, scale=80, loc=-68, floor=0.01, n_boosting_rounds=100):\n",
        "    \"\"\"\n",
        "    Get the learning rate from the beta PDF\n",
        "    Returns\n",
        "    -------\n",
        "    lrs : list\n",
        "        the resulting learning rates to use.\n",
        "    \"\"\"\n",
        "    lrs = [scalar*beta.pdf(i,\n",
        "                           a=a, \n",
        "                           b=b, \n",
        "                           scale=scale, \n",
        "                           loc=loc) \n",
        "           + floor for i in range(n_boosting_rounds)]\n",
        "    return lrs"
      ],
      "metadata": {
        "id": "a-eItniuDWMt"
      },
      "execution_count": null,
      "outputs": []
    },
    {
      "cell_type": "code",
      "source": [
        "booster = bb.BetaBoost(n_boosting_rounds=10000, floor= 0.055, scalar=3.5, scale=80, a=5, b=1, loc=-48)\n",
        "plt.plot(booster.beta_kernel())\n",
        "plt.show()"
      ],
      "metadata": {
        "colab": {
          "base_uri": "https://localhost:8080/",
          "height": 265
        },
        "id": "mVNoydcRDiXV",
        "outputId": "a2ccd745-3392-47d4-d6c2-e9d9be333cf1"
      },
      "execution_count": 526,
      "outputs": [
        {
          "output_type": "display_data",
          "data": {
            "text/plain": [
              "<Figure size 432x288 with 1 Axes>"
            ],
            "image/png": "[encoded data removed]"
          },
          "metadata": {
            "needs_background": "light"
          }
        }
      ]
    },
    {
      "cell_type": "code",
      "source": [
        "rate = booster.beta_kernel()"
      ],
      "metadata": {
        "id": "DxyFPFIstGEg"
      },
      "execution_count": 527,
      "outputs": []
    },
    {
      "cell_type": "code",
      "source": [
        "rate = rate[:35] + [0.055] * 80"
      ],
      "metadata": {
        "id": "hddm4Cp-tILT"
      },
      "execution_count": 479,
      "outputs": []
    },
    {
      "cell_type": "code",
      "source": [
        "rate = rate[:50] + [0.3] * 80"
      ],
      "metadata": {
        "id": "8bNmyoTUvXSo"
      },
      "execution_count": 451,
      "outputs": []
    },
    {
      "cell_type": "code",
      "source": [
        "plt.plot(rate)\n",
        "plt.show()"
      ],
      "metadata": {
        "colab": {
          "base_uri": "https://localhost:8080/",
          "height": 265
        },
        "id": "FOOmoLY9tob0",
        "outputId": "feb0db53-20c6-46bd-fe1b-59b87c90e8ef"
      },
      "execution_count": 480,
      "outputs": [
        {
          "output_type": "display_data",
          "data": {
            "text/plain": [
              "<Figure size 432x288 with 1 Axes>"
            ],
            "image/png": "[encoded data removed]"
          },
          "metadata": {
            "needs_background": "light"
          }
        }
      ]
    },
    {
      "cell_type": "code",
      "source": [
        "import random\n",
        "random.uniform(0.05, 0.5)"
      ],
      "metadata": {
        "colab": {
          "base_uri": "https://localhost:8080/"
        },
        "id": "XS2t2nEf2Lp4",
        "outputId": "a910a2d4-732e-4d2c-cc06-a9b84469aeab"
      },
      "execution_count": 513,
      "outputs": [
        {
          "output_type": "execute_result",
          "data": {
            "text/plain": [
              "0.22824465240295155"
            ]
          },
          "metadata": {},
          "execution_count": 513
        }
      ]
    },
    {
      "cell_type": "code",
      "source": [
        "rate = list(np.random.uniform(0.05, 0.5, size=10000))"
      ],
      "metadata": {
        "id": "gsl09v1G22gl"
      },
      "execution_count": 520,
      "outputs": []
    },
    {
      "cell_type": "markdown",
      "metadata": {
        "id": "0_Lz0gyTjumy"
      },
      "source": [
        "# Imports"
      ]
    },
    {
      "cell_type": "code",
      "execution_count": 14,
      "metadata": {
        "id": "7Fj6oq8fQhsm"
      },
      "outputs": [],
      "source": [
        "import pandas as pd\n",
        "import numpy  as np  \n",
        "import cupy\n",
        "# for cupu memory managmet\n",
        "mempool        = cupy.get_default_memory_pool()\n",
        "pinned_mempool = cupy.get_default_pinned_memory_pool()\n",
        "\n",
        "import xgboost as xgb\n",
        "from sklearn.utils import resample\n",
        "from sklearn.model_selection import StratifiedKFold\n",
        "from sklearn.model_selection import train_test_split\n",
        "\n",
        "import sys\n",
        "from importlib import reload #test = reload(test)\n",
        "\n",
        "import matplotlib.pyplot as plt, gc, os\n",
        "import plotly.express as px\n",
        "import seaborn as sns\n",
        "\n",
        "import random\n",
        "import itertools\n",
        "\n",
        "# Paths\n",
        "train_dir   = '/content/drive/MyDrive/KaggleAMEX/Data/train.parquet'\n",
        "impor_dir   = '/content/drive/MyDrive/KaggleAMEX/Importance'\n",
        "targets_dir = '/content/drive/MyDrive/KaggleAMEX/Data/train_labels.csv'\n",
        "\n",
        "#Parameters\n",
        "SEED  = 42\n",
        "FOLDS = 5\n",
        "\n",
        "#Get numerical and catecorical columns \n",
        "\n",
        "cat_features = ['B_30', 'B_38', 'D_117', 'D_126', 'D_63', 'D_64', 'D_66', 'D_68', 'B_33', 'D_92', 'D_103', 'R_27', 'D_114', 'D_116', 'D_129', 'D_139', 'D_140', 'D_143', 'B_8', 'D_51', 'D_54', 'D_65', 'B_16', 'B_22', 'D_72', 'D_78', 'D_79', 'R_9', 'D_82', 'D_107', 'D_122', 'D_125']\n",
        "bin_features = ['R_2', 'S_6', 'R_4', 'R_15', 'S_18', 'D_86', 'D_87', 'B_31', 'R_19', 'B_32', 'S_20', 'R_21', 'R_22', 'R_23', 'D_93', 'D_94', 'R_24', 'R_25', 'D_96', 'D_127', 'R_28', 'D_109', 'D_120', 'D_135', 'D_137', 'R_7', 'R_12', 'R_14', 'D_112']\n",
        "num_features = ['P_2', 'D_39', 'B_1', 'B_2', 'R_1', 'S_3', 'D_41', 'B_3', 'D_42', 'D_43', 'D_44', 'B_4', 'D_45', 'B_5', 'D_46', 'D_47', 'D_48', 'D_49', 'B_6', 'B_7', 'D_50', 'B_9', 'R_3', 'D_52', 'P_3', 'B_10', 'D_53', 'S_5', 'B_11', 'S_7', 'B_12', 'S_8', 'D_55', 'D_56', 'B_13', 'R_5', 'D_58', 'S_9', 'B_14', 'D_59', 'D_60', 'D_61', 'B_15', 'S_11', 'D_62', 'B_17', 'B_18', 'B_19', 'B_20', 'S_12', 'R_6', 'S_13', 'B_21', 'D_69', 'D_70', 'D_71', 'S_15', 'B_23', 'D_73', 'P_4', 'D_74', 'D_75', 'D_76', 'B_24', 'D_77', 'B_25', 'B_26', 'R_8', 'S_16', 'D_80', 'R_10', 'R_11', 'B_27', 'D_81', 'S_17', 'B_28', 'R_13', 'D_83', 'D_84', 'R_16', 'B_29', 'R_17', 'R_18', 'D_88', 'S_19', 'R_20', 'D_89', 'D_91', 'S_22', 'S_23', 'S_24', 'S_25', 'S_26', 'D_102', 'D_104', 'D_105', 'D_106', 'B_36', 'B_37', 'R_26', 'D_108', 'D_110', 'D_111', 'B_39', 'B_40', 'S_27', 'D_113', 'D_115', 'D_118', 'D_119', 'D_121', 'D_123', 'D_124', 'D_128', 'B_41', 'B_42', 'D_130', 'D_131', 'D_132', 'D_133', 'D_134', 'D_136', 'D_138', 'D_141', 'D_142', 'D_144', 'D_145']"
      ]
    },
    {
      "cell_type": "markdown",
      "metadata": {
        "id": "juv-r73KS3a_"
      },
      "source": [
        "# Data"
      ]
    },
    {
      "cell_type": "code",
      "execution_count": 549,
      "metadata": {
        "id": "crYzLkbkPWsP"
      },
      "outputs": [],
      "source": [
        "def process_and_feature_engineer(cus_range, obs):\n",
        "\n",
        "    # Get customer frequency\n",
        "    frequency = pd.read_csv('/content/drive/MyDrive/KaggleAMEX/Data/train/frequency.csv', index_col=0)\n",
        "    customers = frequency.loc[frequency.frequency.isin(cus_range)].index.values\n",
        "    \n",
        "    # num - mean, std, min, max, last\n",
        "    dir = '/content/drive/MyDrive/KaggleAMEX/Data/train/base_variables.parquet'\n",
        "    df  = pd.read_parquet(dir)\n",
        "    df  = df.loc[customers]\n",
        "    print('Done base', df.shape)\n",
        "\n",
        "    # replace categorial\n",
        "    dir = '/content/drive/MyDrive/KaggleAMEX/Data/train/base_variables_cat_woe.parquet'\n",
        "    new = pd.read_parquet(dir)\n",
        "    new = new.loc[customers]\n",
        "    df[new.columns]  = new\n",
        "    print('Done woe categorial', df.shape)\n",
        "\n",
        "    # categorial & binary state changes\n",
        "    dir = '/content/drive/MyDrive/KaggleAMEX/Data/train/state_changes.parquet'\n",
        "    new = pd.read_parquet(dir)\n",
        "    new = new.loc[customers]\n",
        "    df  = pd.concat([new, df], axis=1)\n",
        "    print('Done state changes', df.shape)\n",
        "    \n",
        "    # p_b_s_r_d variables corr and cat/bin sum \n",
        "    dir = '/content/drive/MyDrive/KaggleAMEX/Data/train/p_b_s_r_d.parquet'\n",
        "    new = pd.read_parquet(dir)\n",
        "    new = new.loc[customers]\n",
        "    df  = pd.concat([new, df], axis=1)\n",
        "    print('Done p_b_s_r_d variables', df.shape)\n",
        "\n",
        "    # count na & not na values\n",
        "    dir = '/content/drive/MyDrive/KaggleAMEX/Data/train/mean_na.parquet'\n",
        "    new = pd.read_parquet(dir)\n",
        "    new = new.loc[customers]\n",
        "    df  = pd.concat([new, df], axis=1)\n",
        "    print('Done count na variables', df.shape)\n",
        "\n",
        "    # non linear numerical\n",
        "    dir = '/content/drive/MyDrive/KaggleAMEX/Data/train/nonlinear.parquet'\n",
        "    new = pd.read_parquet(dir)\n",
        "    new = new.loc[customers]\n",
        "    df  = pd.concat([new, df], axis=1)\n",
        "    print('Done non linear', df.shape)\n",
        "\n",
        "    # First & second difference\n",
        "    dir = '/content/drive/MyDrive/KaggleAMEX/Data/train/diffs.parquet'\n",
        "    new = pd.read_parquet(dir)\n",
        "    new = new.loc[customers]\n",
        "    df  = pd.concat([new, df], axis=1)\n",
        "    print('Done diffs variables', df.shape)\n",
        "\n",
        "    # Sum woe numerical\n",
        "    dir = '/content/drive/MyDrive/KaggleAMEX/Data/train/num_woe_sum.parquet'\n",
        "    new = pd.read_parquet(dir)\n",
        "    new = new.loc[customers]\n",
        "    df  = pd.concat([new, df], axis=1)\n",
        "    print('Done sum woe', df.shape)\n",
        "\n",
        "    # Advanced\n",
        "    dir = '/content/drive/MyDrive/KaggleAMEX/Data/train/advanced.parquet'\n",
        "    new = pd.read_parquet(dir)\n",
        "    new = new.loc[customers]\n",
        "    df  = pd.concat([new, df], axis=1)\n",
        "    print('Done advanced features', df.shape)\n",
        "    \n",
        "    # Add targets\n",
        "    targets      = pd.read_csv(targets_dir, usecols = ['target']).astype('int8')\n",
        "    df['target'] = targets.loc[customers]\n",
        "\n",
        "    # Drop na columns\n",
        "    to_drop = [x for x in df.columns if len(df[x].unique())==1]\n",
        "    df.drop(to_drop, axis=1, inplace=True)\n",
        "    print(f'Droped {len(to_drop)} features. New Shape:', df.shape)\n",
        "\n",
        "    # Reset index\n",
        "    df.reset_index(drop=True, inplace=True)\n",
        "    '''\n",
        "    # Downsample majority class\n",
        "    df['freq']  = frequency.frequency\n",
        "    df_majority = df.loc[df.target == 0]\n",
        "    df_minority = df.loc[df.target == 1]\n",
        "\n",
        "    df_majority = resample(df_majority, \n",
        "                          replace      = False,    \n",
        "                          n_samples    =  int(df_majority.shape[0]/100), # df_minority.shape[0], #\n",
        "                          random_state = SEED,\n",
        "                          stratify     = df_minority.freq)\n",
        "    \n",
        "    df_minority = resample(df_minority, \n",
        "                          replace      = False,    \n",
        "                          n_samples    = int(df_minority.shape[0]/100), \n",
        "                          random_state = SEED,\n",
        "                          stratify     = df_minority.freq)\n",
        "    \n",
        "    df = pd.concat([df_majority, df_minority])\n",
        "    df = df.sample(frac=1, random_state=SEED)\n",
        "    df.drop('freq', axis=1, inplace=True)\n",
        "    df.reset_index(drop=True, inplace=True)\n",
        "    print('Downsampled to', df.shape)\n",
        "    '''\n",
        "    return df"
      ]
    },
    {
      "cell_type": "markdown",
      "metadata": {
        "id": "2KOqHWr4Qhso"
      },
      "source": [
        "# Read & Transform Data "
      ]
    },
    {
      "cell_type": "code",
      "execution_count": 550,
      "metadata": {
        "colab": {
          "base_uri": "https://localhost:8080/"
        },
        "id": "sNhMjOowI7P2",
        "outputId": "5f20ecf5-833a-4ceb-d689-0636571e16d9"
      },
      "outputs": [
        {
          "output_type": "stream",
          "name": "stdout",
          "text": [
            "Done base (458913, 637)\n",
            "Done woe categorial (458913, 669)\n",
            "Done state changes (458913, 730)\n",
            "Done p_b_s_r_d variables (458913, 736)\n",
            "Done count na variables (458913, 1112)\n",
            "Done non linear (458913, 1294)\n",
            "Done diffs variables (458913, 1550)\n",
            "Done sum woe (458913, 1677)\n",
            "Done advanced features (458913, 1922)\n"
          ]
        },
        {
          "output_type": "stream",
          "name": "stderr",
          "text": [
            "/usr/local/lib/python3.7/dist-packages/ipykernel_launcher.py:71: PerformanceWarning: DataFrame is highly fragmented.  This is usually the result of calling `frame.insert` many times, which has poor performance.  Consider joining all columns at once using pd.concat(axis=1) instead.  To get a de-fragmented frame, use `newframe = frame.copy()`\n"
          ]
        },
        {
          "output_type": "stream",
          "name": "stdout",
          "text": [
            "Droped 132 features. New Shape: (458913, 1791)\n"
          ]
        }
      ],
      "source": [
        "train = process_and_feature_engineer(cus_range=list(range(1,14)), obs=2000)"
      ]
    },
    {
      "cell_type": "markdown",
      "metadata": {
        "id": "iqSKKYASQhsv"
      },
      "source": [
        "# Extreme Gradient Boost"
      ]
    },
    {
      "cell_type": "markdown",
      "metadata": {
        "id": "8rX6N4YTs4-U"
      },
      "source": [
        "### Custom metric & permutation importance"
      ]
    },
    {
      "cell_type": "code",
      "execution_count": 17,
      "metadata": {
        "id": "MeDwbg2Os4tb"
      },
      "outputs": [],
      "source": [
        "# This is the metric given by rules\n",
        "def amex_metric_mod(y_true, y_pred):\n",
        "\n",
        "    labels     = np.transpose(np.array([y_true, y_pred]))\n",
        "    labels     = labels[labels[:, 1].argsort()[::-1]]\n",
        "    weights    = np.where(labels[:,0]==0, 20, 1)\n",
        "    cut_vals   = labels[np.cumsum(weights) <= int(0.04 * np.sum(weights))]\n",
        "    top_four   = np.sum(cut_vals[:,0]) / np.sum(labels[:,0])\n",
        "\n",
        "    gini = [0,0]\n",
        "    for i in [1,0]:\n",
        "        labels         = np.transpose(np.array([y_true, y_pred]))\n",
        "        labels         = labels[labels[:, i].argsort()[::-1]]\n",
        "        weight         = np.where(labels[:,0]==0, 20, 1)\n",
        "        weight_random  = np.cumsum(weight / np.sum(weight))\n",
        "        total_pos      = np.sum(labels[:, 0] *  weight)\n",
        "        cum_pos_found  = np.cumsum(labels[:, 0] * weight)\n",
        "        lorentz        = cum_pos_found / total_pos\n",
        "        gini[i]        = np.sum((lorentz - weight_random) * weight)\n",
        "\n",
        "\n",
        "    return 0.5 * (gini[1]/gini[0] + top_four)\n",
        "    \n",
        "\n",
        "# Metric for XGB\n",
        "def xgboost_amex_metric_mod(predt: np.ndarray, dtrain: xgb.DMatrix):\n",
        "    y = dtrain.get_label()\n",
        "    return 'AMEXcustom', 1-amex_metric_mod(y, predt)\n",
        "\n",
        "def permutation_importance(train, valid_idx, features, model, kag_mets):\n",
        "\n",
        "    # Permutation importance\n",
        "    x_test  = train.loc[valid_idx, train.columns[:-1]]\n",
        "    y_test  = train.loc[valid_idx, 'target']\n",
        "    metrics = []\n",
        "\n",
        "    for column, feature in enumerate(features):\n",
        "\n",
        "          #Save original feature\n",
        "          original_feature = x_test[feature].copy()\n",
        "          metric = []\n",
        "\n",
        "          for i in range(1):\n",
        "\n",
        "              # Shuffel\n",
        "              x_test[feature] = np.random.permutation(original_feature)\n",
        "\n",
        "              #Build DMatrix\n",
        "              dvalid = xgb.DMatrix(data=cupy.array(x_test))\n",
        "              \n",
        "              #Predict\n",
        "              preds  = model.predict(dvalid, iteration_range=(0, model.best_iteration + 1))\n",
        "              metric.append(kag_mets - amex_metric_mod(y_test, preds))\n",
        "\n",
        "          metrics.append(np.mean(metric))\n",
        "\n",
        "          #Rebuild data\n",
        "          x_test[feature] = original_feature\n",
        "    \n",
        "    return metrics"
      ]
    },
    {
      "cell_type": "markdown",
      "metadata": {
        "id": "wP8vVxNQs3CR"
      },
      "source": [
        "### Get grid & feature order"
      ]
    },
    {
      "cell_type": "code",
      "execution_count": 554,
      "metadata": {
        "colab": {
          "base_uri": "https://localhost:8080/"
        },
        "id": "wZ4A0OlhDfdw",
        "outputId": "1d149eca-46fe-4d82-f0d8-833c4955a703"
      },
      "outputs": [
        {
          "output_type": "stream",
          "name": "stdout",
          "text": [
            "There are 20 different Models. \n",
            " \n",
            "\n"
          ]
        }
      ],
      "source": [
        "learning_rate     = [0.05, 0.055, 0.06, 0.07, 0.08, 0.09, 0.1]          \n",
        "gamma             = [0.17, 0.175, 0.18]\n",
        "\n",
        "max_depth         = [4]                     \n",
        "max_leaves        = [0]             \n",
        "max_bin           = [200]               \n",
        "\n",
        "subsample         = [0.001]   \n",
        "sampling_method   = ['gradient_based']\n",
        "\n",
        "colsample_bytree  = [0.01]             \n",
        "colsample_bylevel = [1]             \n",
        "colsample_bynode  = [1]             \n",
        "                   \n",
        "alpha             = [0, 0.5, 1, 1.5, 2, 2.5, 3]             \n",
        "lambda_           = [1, 1.5, 2, 2.5, 3, 3.5, 4]             \n",
        "\n",
        "min_child_weight  = [1.8, 1.9, 2, 2.1, 2.2]    \n",
        "scale_pos_weight  = [2.862]\n",
        "\n",
        "grow_policy       = ['depthwise']\n",
        "\n",
        "tree_method       = ['gpu_hist']        \n",
        "objective         = ['binary:logistic']\n",
        "predictor         = ['gpu_predictor']\n",
        "seed              = [SEED]\n",
        "\n",
        "booster           = ['dart']\n",
        "sample_type       = ['uniform']\n",
        "normalize_type    = ['tree']\n",
        "rate_drop         = [0.2]\n",
        "skip_drop         = [0.5]\n",
        "\n",
        "# Get Grids for xgb\n",
        "hyper_parms = ['grow_policy', 'learning_rate', 'gamma', 'max_depth', 'min_child_weight', 'subsample', 'sampling_method', 'colsample_bytree', 'colsample_bylevel', 'colsample_bynode', 'lambda', 'alpha', 'scale_pos_weight', 'max_leaves', 'max_bin', 'tree_method', 'objective', 'predictor', 'seed']#, 'booster', 'sample_type', 'normalize_type', 'rate_drop', 'skip_drop']\n",
        "variants    = list(itertools.product(grow_policy, learning_rate, gamma, max_depth, min_child_weight, subsample, sampling_method, colsample_bytree, colsample_bylevel, colsample_bynode, lambda_, alpha, scale_pos_weight, max_leaves, max_bin, tree_method, objective, predictor, seed))#, booster, sample_type, normalize_type, rate_drop, skip_drop))\n",
        "xgb_grid    = [dict(zip(hyper_parms, variant)) for variant in variants]\n",
        "random.shuffle(xgb_grid)\n",
        "xgb_grid = xgb_grid[:20]\n",
        "\n",
        "print(f'There are {len(xgb_grid)} different Models.', '\\n', '\\n')"
      ]
    },
    {
      "cell_type": "code",
      "execution_count": 8,
      "metadata": {
        "id": "QnNVNHUjdsAS"
      },
      "outputs": [],
      "source": [
        "# First Order\n",
        "permu = pd.read_csv('/content/drive/MyDrive/KaggleAMEX/permu_.csv', index_col=0)\n",
        "permu = permu.loc[(np.abs(permu['min']) < permu['max']) & (permu['avg'] > 0 )]\n",
        "permu['weight'] = permu.avg / permu.avg.sum()"
      ]
    },
    {
      "cell_type": "code",
      "execution_count": 34,
      "metadata": {
        "colab": {
          "base_uri": "https://localhost:8080/"
        },
        "id": "wzz1V4s3nwm_",
        "outputId": "92ac6f76-77ea-4cde-ab81-399f11b8e54b"
      },
      "outputs": [
        {
          "output_type": "execute_result",
          "data": {
            "text/plain": [
              "1.3518914144732356e-18"
            ]
          },
          "metadata": {},
          "execution_count": 34
        }
      ],
      "source": [
        "permu.weight.min()"
      ]
    },
    {
      "cell_type": "code",
      "execution_count": 35,
      "metadata": {
        "id": "MLr8h5TPXREt"
      },
      "outputs": [],
      "source": [
        "first = list(zip(permu.index.to_list()  , permu.weight.to_list()))\n",
        "random.shuffle(first)"
      ]
    },
    {
      "cell_type": "code",
      "execution_count": 537,
      "metadata": {
        "id": "xjIdcClLiijC"
      },
      "outputs": [],
      "source": [
        "# Second Order\n",
        "permu = pd.read_csv('/content/drive/MyDrive/KaggleAMEX/permu_.csv', index_col=0)\n",
        "permu = permu.loc[permu.avg > 0.00005]\n",
        "permu['weight'] = permu['max'] / permu['max'].sum()"
      ]
    },
    {
      "cell_type": "code",
      "execution_count": 534,
      "metadata": {
        "colab": {
          "base_uri": "https://localhost:8080/"
        },
        "id": "Ivp0HJQMnyZ0",
        "outputId": "4186f64f-4aee-4eb0-f924-c51c830a719e"
      },
      "outputs": [
        {
          "output_type": "execute_result",
          "data": {
            "text/plain": [
              "1.2540477577147193e-06"
            ]
          },
          "metadata": {},
          "execution_count": 534
        }
      ],
      "source": [
        "permu.weight.min()"
      ]
    },
    {
      "cell_type": "code",
      "execution_count": 538,
      "metadata": {
        "id": "9lIWxTZmitTc"
      },
      "outputs": [],
      "source": [
        "second = list(zip(permu.index.to_list()  , permu.weight.to_list()))\n",
        "#random.shuffle(second)"
      ]
    },
    {
      "cell_type": "code",
      "execution_count": null,
      "metadata": {
        "id": "X3tKANMxjS0-"
      },
      "outputs": [],
      "source": [
        "# Third Order\n",
        "permu = pd.read_csv('/content/drive/MyDrive/KaggleAMEX/permu_.csv', index_col=0)\n",
        "permu = permu.loc[np.abs(permu['min']) * 2 < permu['max']]\n",
        "permu['weight'] = permu.avg / permu.avg.sum()"
      ]
    },
    {
      "cell_type": "code",
      "execution_count": 9,
      "metadata": {
        "colab": {
          "base_uri": "https://localhost:8080/"
        },
        "id": "vsElCrI7n0RX",
        "outputId": "9af2a072-f5c4-43e6-9dc5-077d5ca72cb4"
      },
      "outputs": [
        {
          "output_type": "execute_result",
          "data": {
            "text/plain": [
              "8.978500655317275e-05"
            ]
          },
          "metadata": {},
          "execution_count": 9
        }
      ],
      "source": [
        "permu.weight.min()"
      ]
    },
    {
      "cell_type": "code",
      "execution_count": null,
      "metadata": {
        "id": "wB4h4dETkrGg"
      },
      "outputs": [],
      "source": [
        "# Zip\n",
        "third = list(zip(permu.index.to_list()  , permu.weight.to_list()))\n",
        "random.shuffle(third)"
      ]
    },
    {
      "cell_type": "code",
      "execution_count": 539,
      "metadata": {
        "colab": {
          "base_uri": "https://localhost:8080/"
        },
        "id": "DMt2IfBDkzMe",
        "outputId": "5ff00177-18ea-4f46-c97d-7766ca0774c8"
      },
      "outputs": [
        {
          "output_type": "execute_result",
          "data": {
            "text/plain": [
              "1263"
            ]
          },
          "metadata": {},
          "execution_count": 539
        }
      ],
      "source": [
        "len(second) # len(first), , len(third)"
      ]
    },
    {
      "cell_type": "code",
      "execution_count": 540,
      "metadata": {
        "id": "qDZB8FzClGnW"
      },
      "outputs": [],
      "source": [
        "orders = [second]"
      ]
    },
    {
      "cell_type": "markdown",
      "metadata": {
        "id": "P9_RnCF-1wvV"
      },
      "source": [
        "### Search & Permutation Importance"
      ]
    },
    {
      "cell_type": "code",
      "execution_count": 555,
      "metadata": {
        "colab": {
          "base_uri": "https://localhost:8080/",
          "height": 461
        },
        "id": "iMAdr01JQhsw",
        "scrolled": true,
        "outputId": "399a6282-4d4d-445f-809e-eddd80ecd381"
      },
      "outputs": [
        {
          "output_type": "stream",
          "name": "stdout",
          "text": [
            "##### Order with 1264 features - Model 0 - Fold 0 #####\n",
            "########################################################\n",
            "[0]\tvalid-logloss:0.65170\tvalid-AMEXcustom:0.56500\n",
            "[500]\tvalid-logloss:5.94925\tvalid-AMEXcustom:0.55849\n"
          ]
        },
        {
          "output_type": "error",
          "ename": "KeyboardInterrupt",
          "evalue": "ignored",
          "traceback": [
            "\u001b[0;31m---------------------------------------------------------------------------\u001b[0m",
            "\u001b[0;31mKeyboardInterrupt\u001b[0m                         Traceback (most recent call last)",
            "\u001b[0;32m<ipython-input-555-ca74dc50be90>\u001b[0m in \u001b[0;36m<module>\u001b[0;34m\u001b[0m\n\u001b[1;32m     44\u001b[0m                                     \u001b[0mnum_boost_round\u001b[0m       \u001b[0;34m=\u001b[0m \u001b[0;36m10000\u001b[0m\u001b[0;34m,\u001b[0m\u001b[0;34m\u001b[0m\u001b[0;34m\u001b[0m\u001b[0m\n\u001b[1;32m     45\u001b[0m                                     \u001b[0mearly_stopping_rounds\u001b[0m \u001b[0;34m=\u001b[0m \u001b[0;36m1000\u001b[0m\u001b[0;34m,\u001b[0m\u001b[0;34m\u001b[0m\u001b[0;34m\u001b[0m\u001b[0m\n\u001b[0;32m---> 46\u001b[0;31m                                     verbose_eval          = 500)\n\u001b[0m\u001b[1;32m     47\u001b[0m \u001b[0;34m\u001b[0m\u001b[0m\n\u001b[1;32m     48\u001b[0m                   \u001b[0;31m# Save model\u001b[0m\u001b[0;34m\u001b[0m\u001b[0;34m\u001b[0m\u001b[0;34m\u001b[0m\u001b[0m\n",
            "\u001b[0;32m/usr/local/lib/python3.7/dist-packages/xgboost/core.py\u001b[0m in \u001b[0;36minner_f\u001b[0;34m(*args, **kwargs)\u001b[0m\n\u001b[1;32m    573\u001b[0m         \u001b[0;32mfor\u001b[0m \u001b[0mk\u001b[0m\u001b[0;34m,\u001b[0m \u001b[0marg\u001b[0m \u001b[0;32min\u001b[0m \u001b[0mzip\u001b[0m\u001b[0;34m(\u001b[0m\u001b[0msig\u001b[0m\u001b[0;34m.\u001b[0m\u001b[0mparameters\u001b[0m\u001b[0;34m,\u001b[0m \u001b[0margs\u001b[0m\u001b[0;34m)\u001b[0m\u001b[0;34m:\u001b[0m\u001b[0;34m\u001b[0m\u001b[0;34m\u001b[0m\u001b[0m\n\u001b[1;32m    574\u001b[0m             \u001b[0mkwargs\u001b[0m\u001b[0;34m[\u001b[0m\u001b[0mk\u001b[0m\u001b[0;34m]\u001b[0m \u001b[0;34m=\u001b[0m \u001b[0marg\u001b[0m\u001b[0;34m\u001b[0m\u001b[0;34m\u001b[0m\u001b[0m\n\u001b[0;32m--> 575\u001b[0;31m         \u001b[0;32mreturn\u001b[0m \u001b[0mf\u001b[0m\u001b[0;34m(\u001b[0m\u001b[0;34m**\u001b[0m\u001b[0mkwargs\u001b[0m\u001b[0;34m)\u001b[0m\u001b[0;34m\u001b[0m\u001b[0;34m\u001b[0m\u001b[0m\n\u001b[0m\u001b[1;32m    576\u001b[0m \u001b[0;34m\u001b[0m\u001b[0m\n\u001b[1;32m    577\u001b[0m     \u001b[0;32mreturn\u001b[0m \u001b[0minner_f\u001b[0m\u001b[0;34m\u001b[0m\u001b[0;34m\u001b[0m\u001b[0m\n",
            "\u001b[0;32m/usr/local/lib/python3.7/dist-packages/xgboost/training.py\u001b[0m in \u001b[0;36mtrain\u001b[0;34m(params, dtrain, num_boost_round, evals, obj, feval, maximize, early_stopping_rounds, evals_result, verbose_eval, xgb_model, callbacks, custom_metric)\u001b[0m\n\u001b[1;32m    179\u001b[0m         \u001b[0;32mif\u001b[0m \u001b[0mcb_container\u001b[0m\u001b[0;34m.\u001b[0m\u001b[0mbefore_iteration\u001b[0m\u001b[0;34m(\u001b[0m\u001b[0mbst\u001b[0m\u001b[0;34m,\u001b[0m \u001b[0mi\u001b[0m\u001b[0;34m,\u001b[0m \u001b[0mdtrain\u001b[0m\u001b[0;34m,\u001b[0m \u001b[0mevals\u001b[0m\u001b[0;34m)\u001b[0m\u001b[0;34m:\u001b[0m\u001b[0;34m\u001b[0m\u001b[0;34m\u001b[0m\u001b[0m\n\u001b[1;32m    180\u001b[0m             \u001b[0;32mbreak\u001b[0m\u001b[0;34m\u001b[0m\u001b[0;34m\u001b[0m\u001b[0m\n\u001b[0;32m--> 181\u001b[0;31m         \u001b[0mbst\u001b[0m\u001b[0;34m.\u001b[0m\u001b[0mupdate\u001b[0m\u001b[0;34m(\u001b[0m\u001b[0mdtrain\u001b[0m\u001b[0;34m,\u001b[0m \u001b[0mi\u001b[0m\u001b[0;34m,\u001b[0m \u001b[0mobj\u001b[0m\u001b[0;34m)\u001b[0m\u001b[0;34m\u001b[0m\u001b[0;34m\u001b[0m\u001b[0m\n\u001b[0m\u001b[1;32m    182\u001b[0m         \u001b[0;32mif\u001b[0m \u001b[0mcb_container\u001b[0m\u001b[0;34m.\u001b[0m\u001b[0mafter_iteration\u001b[0m\u001b[0;34m(\u001b[0m\u001b[0mbst\u001b[0m\u001b[0;34m,\u001b[0m \u001b[0mi\u001b[0m\u001b[0;34m,\u001b[0m \u001b[0mdtrain\u001b[0m\u001b[0;34m,\u001b[0m \u001b[0mevals\u001b[0m\u001b[0;34m)\u001b[0m\u001b[0;34m:\u001b[0m\u001b[0;34m\u001b[0m\u001b[0;34m\u001b[0m\u001b[0m\n\u001b[1;32m    183\u001b[0m             \u001b[0;32mbreak\u001b[0m\u001b[0;34m\u001b[0m\u001b[0;34m\u001b[0m\u001b[0m\n",
            "\u001b[0;32m/usr/local/lib/python3.7/dist-packages/xgboost/core.py\u001b[0m in \u001b[0;36mupdate\u001b[0;34m(self, dtrain, iteration, fobj)\u001b[0m\n\u001b[1;32m   1778\u001b[0m             _check_call(_LIB.XGBoosterUpdateOneIter(self.handle,\n\u001b[1;32m   1779\u001b[0m                                                     \u001b[0mctypes\u001b[0m\u001b[0;34m.\u001b[0m\u001b[0mc_int\u001b[0m\u001b[0;34m(\u001b[0m\u001b[0miteration\u001b[0m\u001b[0;34m)\u001b[0m\u001b[0;34m,\u001b[0m\u001b[0;34m\u001b[0m\u001b[0;34m\u001b[0m\u001b[0m\n\u001b[0;32m-> 1780\u001b[0;31m                                                     dtrain.handle))\n\u001b[0m\u001b[1;32m   1781\u001b[0m         \u001b[0;32melse\u001b[0m\u001b[0;34m:\u001b[0m\u001b[0;34m\u001b[0m\u001b[0;34m\u001b[0m\u001b[0m\n\u001b[1;32m   1782\u001b[0m             \u001b[0mpred\u001b[0m \u001b[0;34m=\u001b[0m \u001b[0mself\u001b[0m\u001b[0;34m.\u001b[0m\u001b[0mpredict\u001b[0m\u001b[0;34m(\u001b[0m\u001b[0mdtrain\u001b[0m\u001b[0;34m,\u001b[0m \u001b[0moutput_margin\u001b[0m\u001b[0;34m=\u001b[0m\u001b[0;32mTrue\u001b[0m\u001b[0;34m,\u001b[0m \u001b[0mtraining\u001b[0m\u001b[0;34m=\u001b[0m\u001b[0;32mTrue\u001b[0m\u001b[0;34m)\u001b[0m\u001b[0;34m\u001b[0m\u001b[0;34m\u001b[0m\u001b[0m\n",
            "\u001b[0;31mKeyboardInterrupt\u001b[0m: "
          ]
        }
      ],
      "source": [
        "# Out-of-fold predictions & permutation  importances\n",
        "oof_cols  = [f'fold_{i}' for i in range(FOLDS)] + ['avg', 'oof']\n",
        "oof       = pd.DataFrame(columns = oof_cols)\n",
        "#premu_imp = pd.DataFrame()\n",
        "\n",
        "# Get feature order & weights\n",
        "for order_num, order in enumerate(orders):\n",
        "\n",
        "      weights     = [x[1] for x in order]\n",
        "      features    = [x[0] for x in order]\n",
        "      train       = train[features + ['target']]\n",
        "      #premu_order = pd.DataFrame(index=train.columns[:-1])\n",
        "      \n",
        "      # Start grid search\n",
        "      for model_num, xgb_parms in enumerate(xgb_grid):\n",
        "\n",
        "            kag_mets  = []\n",
        "            oof_model = pd.DataFrame()\n",
        "\n",
        "            # Start cross validation\n",
        "            skf = StratifiedKFold(n_splits=FOLDS, shuffle=True, random_state=SEED)\n",
        "            for fold, (train_idx, valid_idx) in enumerate(skf.split(train, train.target)):\n",
        "                \n",
        "                  print(f'##### Order with {train.shape[1]} features - Model {model_num} - Fold {fold} #####')\n",
        "                  print('########################################################')\n",
        "                  \n",
        "                  # Train and valid set for given fold       \n",
        "                  x_valid = train.loc[valid_idx, train.columns[:-1]]\n",
        "                  y_valid = train.loc[valid_idx, 'target']\n",
        "                  dvalid  = xgb.DMatrix(data=x_valid, label=y_valid, feature_names=features)\n",
        "                  \n",
        "                  x_train = cupy.array(train.loc[train_idx, train.columns[:-1]])\n",
        "                  y_train = cupy.array(train.loc[train_idx, 'target'])\n",
        "                  dtrain  = xgb.DeviceQuantileDMatrix(data=x_train, label=y_train, feature_names=features, feature_weights=weights)\n",
        "\n",
        "                  # Train model\n",
        "                  model = xgb.train(params                = xgb_parms,\n",
        "                                    dtrain                = dtrain,\n",
        "                                    evals                 = [(dvalid,'valid')],\n",
        "                                    custom_metric         = xgboost_amex_metric_mod,\n",
        "                                    num_boost_round       = 10000,\n",
        "                                    early_stopping_rounds = 1000,\n",
        "                                    verbose_eval          = 500)\n",
        "                \n",
        "                  # Save model\n",
        "                  #model_dir = '/content/drive/MyDrive/KaggleAMEX/Models/all'\n",
        "                  #model.save_model(f'{model_dir}/avg_fold_{fold}.xgb')\n",
        "                  #model.save_model(f'{model_dir}/oof_fold_{fold}.xgb')\n",
        "                    \n",
        "                  # Validation - Infer out-of-fold\n",
        "                  preds     = model.predict(dvalid, iteration_range=(0, model.best_iteration + 1))\n",
        "                  df        = pd.DataFrame(data=preds, index=valid_idx, columns=['oof'])\n",
        "                  oof_model = pd.concat([oof_model, df], axis = 0)\n",
        "\n",
        "                  # Kaggle metric\n",
        "                  kag_mets.append(amex_metric_mod(y_valid, preds))\n",
        "                  curr_best = np.max([oof[f'fold_{fold}'].max(), kag_mets[-1]])\n",
        "                  print(f'Metric = {kag_mets[-1]}, Best = {curr_best}', '\\n')\n",
        "                  \n",
        "                  # Skip if no significant improvment\n",
        "                  #if kag_mets[-1] + 0.01 < curr_best: break\n",
        "                  \n",
        "                  # Permutation importance\n",
        "                  #premu_order[f'order_{order_num}_grid_{model_num}_fold_{fold}'] = permutation_importance(train, valid_idx, train.columns[:-1], model, kag_mets[-1])\n",
        "                  \n",
        "                  # Clean RAM & GPU RAM\n",
        "                  del y_train, x_train, y_valid, x_valid, dtrain, dvalid, train_idx, valid_idx\n",
        "                  mempool.free_all_blocks(), pinned_mempool.free_all_blocks(), gc.collect()\n",
        "                    \n",
        "            # Skip if fold not compleat\n",
        "            if len(kag_mets) != 5: continue\n",
        "          \n",
        "            # Metrics\n",
        "            kag_mets.append(np.mean(kag_mets))\n",
        "            kag_mets.append(amex_metric_mod(train.target.values, oof_model.sort_index().oof.values))\n",
        "            oof.loc[f'order_{order_num}_model_{model_num}'] = kag_mets\n",
        "            print(f'avg: {kag_mets[-2]}, Max: {oof.avg.max()}')\n",
        "            print(f'oof: {kag_mets[-1]}, Max: {oof.oof.max()}', '\\n', '\\n', '\\n')\n",
        "            \n",
        "      #premu_imp = pd.concat([premu_order,premu_imp], axis=1)\n",
        "\n",
        "# Average over folds\n",
        "#premu_imp['avg'] = premu_imp.mean(axis=1)\n",
        "#premu_imp.sort_values('avg', ascending=False, inplace=True)\n",
        "oof.sort_values('oof', ascending=False, inplace=True)"
      ]
    },
    {
      "cell_type": "code",
      "execution_count": 20,
      "metadata": {
        "colab": {
          "base_uri": "https://localhost:8080/"
        },
        "id": "FRjl-oRXCdwe",
        "outputId": "b52d1f1d-ffb4-469d-9f19-0ccd799c5317"
      },
      "outputs": [
        {
          "output_type": "execute_result",
          "data": {
            "text/plain": [
              "{'grow_policy': 'depthwise',\n",
              " 'learning_rate': 0.055,\n",
              " 'gamma': 0.15,\n",
              " 'max_depth': 5,\n",
              " 'min_child_weight': 2,\n",
              " 'subsample': 0.5,\n",
              " 'sampling_method': 'gradient_based',\n",
              " 'colsample_bytree': 0.05,\n",
              " 'colsample_bylevel': 1,\n",
              " 'colsample_bynode': 1,\n",
              " 'lambda': 2.5,\n",
              " 'alpha': 3,\n",
              " 'scale_pos_weight': 2.862,\n",
              " 'max_leaves': 0,\n",
              " 'max_bin': 200,\n",
              " 'tree_method': 'gpu_hist',\n",
              " 'objective': 'binary:logistic',\n",
              " 'predictor': 'gpu_predictor',\n",
              " 'seed': 42}"
            ]
          },
          "metadata": {},
          "execution_count": 20
        }
      ],
      "source": [
        "#oof 0.794615\n",
        "xgb_grid[6]"
      ]
    },
    {
      "cell_type": "code",
      "execution_count": null,
      "metadata": {
        "id": "p8SBDkaYs7ZX"
      },
      "outputs": [],
      "source": [
        "premu_imp['med'] = premu_imp.median(axis=1)\n",
        "premu_imp['avg'] = premu_imp.mean(axis=1)\n",
        "premu_imp['max'] = premu_imp.max(axis=1)\n",
        "premu_imp['min'] = premu_imp.min(axis=1)"
      ]
    },
    {
      "cell_type": "code",
      "execution_count": null,
      "metadata": {
        "colab": {
          "base_uri": "https://localhost:8080/",
          "height": 387
        },
        "id": "Zc8YicBuQupw",
        "outputId": "a3692ab8-ea57-48e7-8767-40b5eb5808ff"
      },
      "outputs": [
        {
          "data": {
            "text/plain": [
              "<seaborn.axisgrid.FacetGrid at 0x7f23d558a290>"
            ]
          },
          "execution_count": 95,
          "metadata": {},
          "output_type": "execute_result"
        },
        {
          "data": {
            "image/png": "[encoded data removed]",
            "text/plain": [
              "<Figure size 1260x360 with 1 Axes>"
            ]
          },
          "metadata": {},
          "output_type": "display_data"
        }
      ],
      "source": [
        "sns.displot(premu_imp.loc[(premu_imp['max'] > 0.001) & (premu_imp['avg'] > 0.0001)], x='avg', bins=350, height=5, legend=False,  aspect=3.5, )"
      ]
    },
    {
      "cell_type": "code",
      "execution_count": null,
      "metadata": {
        "id": "KUDa_WboAwM0"
      },
      "outputs": [],
      "source": [
        "premu_imp.to_csv('/content/drive/MyDrive/KaggleAMEX/permu_.csv')"
      ]
    },
    {
      "cell_type": "markdown",
      "metadata": {
        "id": "pyV1SFNx006n"
      },
      "source": [
        "# Save Parameter & Feature Order"
      ]
    },
    {
      "cell_type": "code",
      "execution_count": null,
      "metadata": {
        "id": "M7DaLkbe0pni"
      },
      "outputs": [],
      "source": [
        "# order_0_model_104 0.726660 order_0_model_187 0.723227"
      ]
    },
    {
      "cell_type": "code",
      "execution_count": null,
      "metadata": {
        "id": "bGxfvq_vRJO_"
      },
      "outputs": [],
      "source": [
        "parameter     = pd.DataFrame([xgb_grid[7], xgb_grid[7]], index = ['avg', 'oof'])\n",
        "\n",
        "order_avg   = [x[0] for x in orders[0]]\n",
        "weights_avg = [x[1] for x in orders[0]]\n",
        "\n",
        "order_oof   = [x[0] for x in orders[0]]\n",
        "weights_oof = [x[1] for x in orders[0]]\n",
        "\n",
        "feature_order = pd.DataFrame(list(zip(order_avg, weights_avg, order_oof, weights_oof)), columns=['order_avg', 'weights_avg', 'order_oof', 'weights_oof'])"
      ]
    },
    {
      "cell_type": "code",
      "execution_count": null,
      "metadata": {
        "id": "Mho5u8_SwBT_"
      },
      "outputs": [],
      "source": [
        "parameter.to_csv('/content/drive/MyDrive/KaggleAMEX/Models/freq_3/parameters.csv') \n",
        "feature_order.to_csv('/content/drive/MyDrive/KaggleAMEX/Models/freq_3/features.csv')"
      ]
    },
    {
      "cell_type": "code",
      "execution_count": null,
      "metadata": {
        "id": "WbDAQITWzYcr"
      },
      "outputs": [],
      "source": [
        "parameter = pd.read_csv('/content/drive/MyDrive/KaggleAMEX/Models/freq_3/parameters.csv', index_col=0)\n",
        "order     = pd.read_csv('/content/drive/MyDrive/KaggleAMEX/Models/freq_3/features.csv', index_col=0)"
      ]
    },
    {
      "cell_type": "markdown",
      "metadata": {
        "id": "OPVVjUz5Byxx"
      },
      "source": [
        "# Feature Importance"
      ]
    },
    {
      "cell_type": "markdown",
      "metadata": {
        "id": "yzD_A0XoJxaT"
      },
      "source": [
        "https://towardsdatascience.com/be-careful-when-interpreting-your-features-importance-in-xgboost-6e16132588e7\n",
        "\n",
        "Gain - The relative contribution of the corresponding feature to the model. This is calculated by taking each feature’s contribution for each tree in the model. A higher value of this metric when compared to another feature implies it is more important for generating a prediction.\n",
        "\n",
        "Coverage - The relative number of observations related to this feature. For example, if you have 100 observations, 4 features and 3 trees, and suppose feature1 is used to decide the leaf node for 10, 5, and 2 observations in tree1, tree2 and tree3 respectively; then the metric will count cover for this feature as 10+5+2 = 17 observations. This will be calculated for all the 4 features and the cover will be 17 expressed as a percentage for all features’ cover metrics.\n",
        "\n",
        "Weight - The percentage representing the relative number of times a particular feature occurs in the trees of the model. In the above example, if feature1 occurred in 2 splits, 1 split and 3 splits in each of tree1, tree2 and tree3; then the weight for feature1 will be 2+1+3 = 6. The frequency for feature1 is calculated as its percentage weight over weights of all features."
      ]
    },
    {
      "cell_type": "code",
      "execution_count": null,
      "metadata": {
        "id": "n3ByAb_HGhUQ"
      },
      "outputs": [],
      "source": [
        "importance_types = ['cover', 'gain', 'weight', 'total_gain', 'total_cover']"
      ]
    },
    {
      "cell_type": "code",
      "execution_count": null,
      "metadata": {
        "id": "ipDndrnyLw3R"
      },
      "outputs": [],
      "source": [
        "df = model.get_score(importance_type='cover')\n",
        "df = pd.DataFrame.from_dict(df, orient='index', columns = ['cover'])"
      ]
    },
    {
      "cell_type": "code",
      "execution_count": null,
      "metadata": {
        "id": "ZHAbQxOOOdV3"
      },
      "outputs": [],
      "source": [
        "df = model.get_score(importance_type='gain')\n",
        "df = pd.DataFrame.from_dict(df, orient='index', columns = ['gain'])"
      ]
    }
  ],
  "metadata": {
    "accelerator": "GPU",
    "colab": {
      "collapsed_sections": [
        "0_Lz0gyTjumy",
        "juv-r73KS3a_",
        "8rX6N4YTs4-U",
        "OPVVjUz5Byxx"
      ],
      "machine_shape": "hm",
      "name": "Train/Test.ipynb",
      "provenance": [],
      "include_colab_link": true
    },
    "gpuClass": "standard",
    "kernelspec": {
      "display_name": "Python 3",
      "language": "python",
      "name": "python3"
    },
    "language_info": {
      "codemirror_mode": {
        "name": "ipython",
        "version": 3
      },
      "file_extension": ".py",
      "mimetype": "text/x-python",
      "name": "python",
      "nbconvert_exporter": "python",
      "pygments_lexer": "ipython3",
      "version": "3.6.4"
    }
  },
  "nbformat": 4,
  "nbformat_minor": 0
}