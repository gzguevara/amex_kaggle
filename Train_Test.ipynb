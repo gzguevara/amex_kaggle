{
  "cells": [
    {
      "cell_type": "markdown",
      "metadata": {
        "id": "view-in-github",
        "colab_type": "text"
      },
      "source": [
        "<a href=\"https://colab.research.google.com/github/gzguevara/amex_kaggle/blob/master/Train_Test.ipynb\" target=\"_parent\"><img src=\"https://colab.research.google.com/assets/colab-badge.svg\" alt=\"Open In Colab\"/></a>"
      ]
    },
    {
      "cell_type": "markdown",
      "metadata": {
        "id": "rrb7n4eJF27U"
      },
      "source": [
        "# Import Drive and XGB"
      ]
    },
    {
      "cell_type": "code",
      "execution_count": 1,
      "metadata": {
        "colab": {
          "base_uri": "https://localhost:8080/"
        },
        "id": "Han3-fXyTN6j",
        "outputId": "a2fd9955-3baa-4f6c-d821-8112218e411a"
      },
      "outputs": [
        {
          "output_type": "stream",
          "name": "stdout",
          "text": [
            "Mounted at /content/drive\n",
            "Found existing installation: xgboost 0.90\n",
            "Uninstalling xgboost-0.90:\n",
            "  Would remove:\n",
            "    /usr/local/lib/python3.7/dist-packages/xgboost-0.90.dist-info/*\n",
            "    /usr/local/lib/python3.7/dist-packages/xgboost/*\n",
            "    /usr/local/xgboost/libxgboost.so\n",
            "Proceed (y/n)? y\n",
            "  Successfully uninstalled xgboost-0.90\n",
            "Looking in indexes: https://pypi.org/simple, https://us-python.pkg.dev/colab-wheels/public/simple/\n",
            "Collecting xgboost\n",
            "  Downloading xgboost-1.6.1-py3-none-manylinux2014_x86_64.whl (192.9 MB)\n",
            "\u001b[K     |████████████████████████████████| 192.9 MB 52 kB/s \n",
            "\u001b[?25hRequirement already satisfied: numpy in /usr/local/lib/python3.7/dist-packages (from xgboost) (1.21.6)\n",
            "Requirement already satisfied: scipy in /usr/local/lib/python3.7/dist-packages (from xgboost) (1.7.3)\n",
            "Installing collected packages: xgboost\n",
            "Successfully installed xgboost-1.6.1\n"
          ]
        }
      ],
      "source": [
        "from google.colab import drive\n",
        "drive.mount('/content/drive')\n",
        "\n",
        "!pip uninstall xgboost\n",
        "!pip install xgboost\n",
        "\n",
        "#!pip install import_ipynb\n",
        "#import import_ipynb"
      ]
    },
    {
      "cell_type": "markdown",
      "metadata": {
        "id": "0_Lz0gyTjumy"
      },
      "source": [
        "# Imports"
      ]
    },
    {
      "cell_type": "code",
      "execution_count": 11,
      "metadata": {
        "id": "7Fj6oq8fQhsm"
      },
      "outputs": [],
      "source": [
        "import pandas as pd\n",
        "import numpy  as np  \n",
        "import cupy\n",
        "# for cupu memory managmet\n",
        "mempool        = cupy.get_default_memory_pool()\n",
        "pinned_mempool = cupy.get_default_pinned_memory_pool()\n",
        "\n",
        "import xgboost as xgb\n",
        "from sklearn.utils import resample\n",
        "from sklearn.model_selection import StratifiedKFold\n",
        "from sklearn.model_selection import train_test_split\n",
        "\n",
        "import sys\n",
        "from importlib import reload #test = reload(test)\n",
        "\n",
        "import matplotlib.pyplot as plt, gc, os\n",
        "import plotly.express as px\n",
        "import seaborn as sns\n",
        "\n",
        "import random\n",
        "import itertools\n",
        "\n",
        "# Paths\n",
        "train_dir   = '/content/drive/MyDrive/KaggleAMEX/Data/train.parquet'\n",
        "impor_dir   = '/content/drive/MyDrive/KaggleAMEX/Importance'\n",
        "targets_dir = '/content/drive/MyDrive/KaggleAMEX/Data/train_labels.csv'\n",
        "\n",
        "#Parameters\n",
        "SEED  = 42\n",
        "FOLDS = 5\n",
        "\n",
        "#Get numerical and catecorical columns \n",
        "\n",
        "cat_features = ['B_30', 'B_38', 'D_117', 'D_126', 'D_63', 'D_64', 'D_66', 'D_68', 'B_33', 'D_92', 'D_103', 'R_27', 'D_114', 'D_116', 'D_129', 'D_139', 'D_140', 'D_143', 'B_8', 'D_51', 'D_54', 'D_65', 'B_16', 'B_22', 'D_72', 'D_78', 'D_79', 'R_9', 'D_82', 'D_107', 'D_122', 'D_125']\n",
        "bin_features = ['R_2', 'S_6', 'R_4', 'R_15', 'S_18', 'D_86', 'D_87', 'B_31', 'R_19', 'B_32', 'S_20', 'R_21', 'R_22', 'R_23', 'D_93', 'D_94', 'R_24', 'R_25', 'D_96', 'D_127', 'R_28', 'D_109', 'D_120', 'D_135', 'D_137', 'R_7', 'R_12', 'R_14', 'D_112']\n",
        "num_features = ['P_2', 'D_39', 'B_1', 'B_2', 'R_1', 'S_3', 'D_41', 'B_3', 'D_42', 'D_43', 'D_44', 'B_4', 'D_45', 'B_5', 'D_46', 'D_47', 'D_48', 'D_49', 'B_6', 'B_7', 'D_50', 'B_9', 'R_3', 'D_52', 'P_3', 'B_10', 'D_53', 'S_5', 'B_11', 'S_7', 'B_12', 'S_8', 'D_55', 'D_56', 'B_13', 'R_5', 'D_58', 'S_9', 'B_14', 'D_59', 'D_60', 'D_61', 'B_15', 'S_11', 'D_62', 'B_17', 'B_18', 'B_19', 'B_20', 'S_12', 'R_6', 'S_13', 'B_21', 'D_69', 'D_70', 'D_71', 'S_15', 'B_23', 'D_73', 'P_4', 'D_74', 'D_75', 'D_76', 'B_24', 'D_77', 'B_25', 'B_26', 'R_8', 'S_16', 'D_80', 'R_10', 'R_11', 'B_27', 'D_81', 'S_17', 'B_28', 'R_13', 'D_83', 'D_84', 'R_16', 'B_29', 'R_17', 'R_18', 'D_88', 'S_19', 'R_20', 'D_89', 'D_91', 'S_22', 'S_23', 'S_24', 'S_25', 'S_26', 'D_102', 'D_104', 'D_105', 'D_106', 'B_36', 'B_37', 'R_26', 'D_108', 'D_110', 'D_111', 'B_39', 'B_40', 'S_27', 'D_113', 'D_115', 'D_118', 'D_119', 'D_121', 'D_123', 'D_124', 'D_128', 'B_41', 'B_42', 'D_130', 'D_131', 'D_132', 'D_133', 'D_134', 'D_136', 'D_138', 'D_141', 'D_142', 'D_144', 'D_145']"
      ]
    },
    {
      "cell_type": "markdown",
      "metadata": {
        "id": "juv-r73KS3a_"
      },
      "source": [
        "# Data"
      ]
    },
    {
      "cell_type": "code",
      "execution_count": 83,
      "metadata": {
        "id": "crYzLkbkPWsP"
      },
      "outputs": [],
      "source": [
        "def process_and_feature_engineer(cus_range, obs):\n",
        "\n",
        "    # 13\n",
        "    frequency = pd.read_csv('/content/drive/MyDrive/KaggleAMEX/Data/train/frequency.csv', index_col=0)\n",
        "    customers = frequency.loc[frequency.frequency.isin(cus_range)].index.values\n",
        "    \n",
        "    # num - mean, std, min, max, last, first  cat - last, unique\n",
        "    dir = '/content/drive/MyDrive/KaggleAMEX/Data/train/base_variables.parquet'\n",
        "    df  = pd.read_parquet(dir)\n",
        "    df  = df.loc[customers]\n",
        "    # replace categorial\n",
        "    dir = '/content/drive/MyDrive/KaggleAMEX/Data/train/base_variables_cat_woe.parquet'\n",
        "    new = pd.read_parquet(dir)\n",
        "    new = new.loc[customers]\n",
        "    df[new.columns] = new\n",
        "    print('Done base', df.shape)\n",
        "    \n",
        "    # p_b_s_r_d variables corr and cat/bin sum \n",
        "    dir = '/content/drive/MyDrive/KaggleAMEX/Data/train/p_b_s_r_d.parquet'\n",
        "    new = pd.read_parquet(dir)\n",
        "    new = new.loc[customers, ['R_sum_num', 'S_bin_sum', 'D_bin_sum', 'R_bin_sum', 'B_cat_sum', 'D_cat_sum']]\n",
        "    df  = pd.concat([new, df], axis=1)\n",
        "    print('Done p_b_s_r_d variables', df.shape)\n",
        "    \n",
        "    # count na & not na values\n",
        "    dir = '/content/drive/MyDrive/KaggleAMEX/Data/train/na_dummies.parquet' #('/content/drive/MyDrive/KaggleAMEX/Data/mean_na.parquet')\n",
        "    new = pd.read_parquet(dir)\n",
        "    new = new.loc[customers]\n",
        "    df  = pd.concat([new, df], axis=1)\n",
        "    print('Done count na variables', df.shape)\n",
        "\n",
        "    # non linear numerical\n",
        "    dir = '/content/drive/MyDrive/KaggleAMEX/Data/train/nonlinear.parquet'\n",
        "    new = pd.read_parquet(dir)\n",
        "    new = new.loc[customers]\n",
        "    df  = pd.concat([new, df], axis=1)\n",
        "    print('Done non linear', df.shape)\n",
        "\n",
        "    # First difference of last values \n",
        "    dir = '/content/drive/MyDrive/KaggleAMEX/Data/train/first_diff.parquet'\n",
        "    new = pd.read_parquet(dir)\n",
        "    new = new.loc[customers]\n",
        "    df  = pd.concat([new, df], axis=1)\n",
        "    print('Done diff_1 variables', df.shape)\n",
        "    \n",
        "    # Sum woe numerical\n",
        "    dir = '/content/drive/MyDrive/KaggleAMEX/Data/train/num_woe_sum.parquet'\n",
        "    new = pd.read_parquet(dir)\n",
        "    new = new.loc[customers]\n",
        "    df  = pd.concat([new, df], axis=1)\n",
        "    print('Done sum woe', df.shape)\n",
        "\n",
        "    # Advanced\n",
        "    dir = '/content/drive/MyDrive/KaggleAMEX/Data/train/advanced.parquet'\n",
        "    new = pd.read_parquet(dir)\n",
        "    new = new.loc[customers]\n",
        "    df  = pd.concat([new, df], axis=1)\n",
        "    print('Done advanced features', df.shape)\n",
        "\n",
        "    # Add targets\n",
        "    targets      = pd.read_csv(targets_dir, usecols = ['target']).astype('int8')\n",
        "    df['target'] = targets.loc[customers]\n",
        "\n",
        "    # Drop na columns\n",
        "    to_drop = [x for x in df.columns if len(df[x].unique())==1]\n",
        "    df.drop(to_drop, axis=1, inplace=True)\n",
        "    print(f'Droped {len(to_drop)} features. New Shape:', df.shape)\n",
        "\n",
        "    # Reset index\n",
        "    df.reset_index(drop=True, inplace=True)\n",
        "\n",
        "    # Downsample majority class\n",
        "    df_majority = df.loc[df.target == 0]\n",
        "    df_minority = df.loc[df.target == 1]\n",
        "\n",
        "    df_majority = resample(df_majority, \n",
        "                          replace      = False,    \n",
        "                          n_samples    = int(obs/2),  #df_minority.shape[0],\n",
        "                          random_state = SEED)\n",
        "    \n",
        "    df_minority = resample(df_minority, \n",
        "                          replace      = False,    \n",
        "                          n_samples    = int(obs/2), \n",
        "                          random_state = SEED)\n",
        "    \n",
        "    df = pd.concat([df_majority, df_minority])\n",
        "    df = df.sample(frac=1, random_state=SEED).reset_index(drop=True)\n",
        "    print('Downsampled to', df.shape)\n",
        "\n",
        "    return df"
      ]
    },
    {
      "cell_type": "markdown",
      "metadata": {
        "id": "2KOqHWr4Qhso"
      },
      "source": [
        "# Read & Transform Data "
      ]
    },
    {
      "cell_type": "code",
      "execution_count": 84,
      "metadata": {
        "colab": {
          "base_uri": "https://localhost:8080/"
        },
        "id": "sNhMjOowI7P2",
        "outputId": "364c1c3b-be87-468b-a7ea-c1410414f481"
      },
      "outputs": [
        {
          "output_type": "stream",
          "name": "stdout",
          "text": [
            "Done base (67759, 829)\n",
            "Done p_b_s_r_d variables (67759, 835)\n",
            "Done count na variables (67759, 1024)\n",
            "Done non linear (67759, 1206)\n",
            "Done diff_1 variables (67759, 1352)\n",
            "Done sum woe (67759, 1479)\n",
            "Done advanced features (67759, 1724)\n",
            "Droped 72 features. New Shape: (67759, 1652)\n",
            "Downsampled to (6000, 1652)\n"
          ]
        }
      ],
      "source": [
        "train = process_and_feature_engineer(cus_range=list(range(2,13)), obs=6000)"
      ]
    },
    {
      "cell_type": "markdown",
      "metadata": {
        "id": "iqSKKYASQhsv"
      },
      "source": [
        "# Extreme Gradient Boost"
      ]
    },
    {
      "cell_type": "markdown",
      "metadata": {
        "id": "8rX6N4YTs4-U"
      },
      "source": [
        "### Custom metric & permutation importance"
      ]
    },
    {
      "cell_type": "code",
      "execution_count": 4,
      "metadata": {
        "id": "MeDwbg2Os4tb"
      },
      "outputs": [],
      "source": [
        "# This is the metric given by rules\n",
        "def amex_metric_mod(y_true, y_pred):\n",
        "\n",
        "    labels     = np.transpose(np.array([y_true, y_pred]))\n",
        "    labels     = labels[labels[:, 1].argsort()[::-1]]\n",
        "    weights    = np.where(labels[:,0]==0, 20, 1)\n",
        "    cut_vals   = labels[np.cumsum(weights) <= int(0.04 * np.sum(weights))]\n",
        "    top_four   = np.sum(cut_vals[:,0]) / np.sum(labels[:,0])\n",
        "\n",
        "    gini = [0,0]\n",
        "    for i in [1,0]:\n",
        "        labels         = np.transpose(np.array([y_true, y_pred]))\n",
        "        labels         = labels[labels[:, i].argsort()[::-1]]\n",
        "        weight         = np.where(labels[:,0]==0, 20, 1)\n",
        "        weight_random  = np.cumsum(weight / np.sum(weight))\n",
        "        total_pos      = np.sum(labels[:, 0] *  weight)\n",
        "        cum_pos_found  = np.cumsum(labels[:, 0] * weight)\n",
        "        lorentz        = cum_pos_found / total_pos\n",
        "        gini[i]        = np.sum((lorentz - weight_random) * weight)\n",
        "\n",
        "\n",
        "    return 0.5 * (gini[1]/gini[0] + top_four)\n",
        "    \n",
        "\n",
        "# Metric for XGB\n",
        "def xgboost_amex_metric_mod(predt: np.ndarray, dtrain: xgb.DMatrix):\n",
        "    y = dtrain.get_label()\n",
        "    return 'AMEXcustom', 1-amex_metric_mod(y, predt)\n",
        "\n",
        "def permutation_importance(train, valid_idx, features, model, kag_mets):\n",
        "\n",
        "    # Permutation importance\n",
        "    x_test  = train.loc[valid_idx, train.columns[:-1]]\n",
        "    y_test  = train.loc[valid_idx, 'target']\n",
        "    metrics = []\n",
        "\n",
        "    for column, feature in enumerate(features):\n",
        "\n",
        "          #Save original feature\n",
        "          original_feature = x_test[feature].copy()\n",
        "          metric = []\n",
        "\n",
        "          for i in range(1):\n",
        "\n",
        "              # Shuffel\n",
        "              x_test[feature] = np.random.permutation(original_feature)\n",
        "\n",
        "              #Build DMatrix\n",
        "              dvalid = xgb.DMatrix(data=cupy.array(x_test))\n",
        "              \n",
        "              #Predict\n",
        "              preds  = model.predict(dvalid, iteration_range=(0, model.best_iteration + 1))\n",
        "              metric.append(kag_mets - amex_metric_mod(y_test, preds))\n",
        "\n",
        "          metrics.append(np.mean(metric))\n",
        "\n",
        "          #Rebuild data\n",
        "          x_test[feature] = original_feature\n",
        "    \n",
        "    return metrics"
      ]
    },
    {
      "cell_type": "markdown",
      "metadata": {
        "id": "wP8vVxNQs3CR"
      },
      "source": [
        "### Get grid & feature order"
      ]
    },
    {
      "cell_type": "code",
      "execution_count": 87,
      "metadata": {
        "colab": {
          "base_uri": "https://localhost:8080/"
        },
        "id": "wZ4A0OlhDfdw",
        "outputId": "a111f0eb-c6c0-407f-835d-81a37a8fe24d"
      },
      "outputs": [
        {
          "output_type": "stream",
          "name": "stdout",
          "text": [
            "There are 2 different Models. \n",
            " \n",
            "\n"
          ]
        }
      ],
      "source": [
        "learning_rate     = [0.015, 0.02, 0.025, 0.03, 0.035, 0.04, 0.045, 0.05, 0.055, 0.06]          \n",
        "gamma             = [0, 0.005, 0.01, 0.0115, 0.012, 0.0125, 0.013, 0.0135, 0.03]\n",
        "\n",
        "max_depth         = [4,5,6]                     \n",
        "max_leaves        = [0, 20, 30]             \n",
        "max_bin           = [200]               \n",
        "\n",
        "subsample         = [0.2, 0.3, 0.4]   \n",
        "sampling_method   = ['gradient_based'] #'uniform', \n",
        "\n",
        "colsample_bytree  = [1]             \n",
        "colsample_bylevel = [1]             \n",
        "colsample_bynode  = [0.1, 0.2, 0.3, 0.4]             \n",
        "                   \n",
        "alpha             = [0, 0.5, 1, 1.25, 1.5, 1.75, 2]             \n",
        "lambda_           = [1, 1.25, 1.5, 1.75, 2, 2.5, 2.75, 3]             \n",
        "\n",
        "min_child_weight  = [1.25, 1.5, 1.75]    \n",
        "scale_pos_weight  = [1]\n",
        "\n",
        "grow_policy       = ['depthwise']\n",
        "\n",
        "tree_method       = ['gpu_hist']        \n",
        "objective         = ['binary:logistic']\n",
        "predictor         = ['gpu_predictor']\n",
        "seed              = [SEED]\n",
        "\n",
        "booster           = ['dart']\n",
        "sample_type       = ['uniform', 'weighted']\n",
        "normalize_type    = ['tree', 'forest']\n",
        "rate_drop         = [0.1, 0.2]\n",
        "skip_drop         = [0.5, 0.6]\n",
        "\n",
        "\n",
        "# Get Grids for xgb\n",
        "hyper_parms = ['grow_policy', 'learning_rate', 'gamma', 'max_depth', 'min_child_weight', 'subsample', 'sampling_method', 'colsample_bytree', 'colsample_bylevel', 'colsample_bynode', 'lambda', 'alpha', 'scale_pos_weight', 'max_leaves', 'max_bin', 'tree_method', 'objective', 'predictor', 'seed']#, 'booster', 'sample_type', 'normalize_type', 'rate_drop', 'skip_drop']\n",
        "variants    = list(itertools.product(grow_policy, learning_rate, gamma, max_depth, min_child_weight, subsample, sampling_method, colsample_bytree, colsample_bylevel, colsample_bynode, lambda_, alpha, scale_pos_weight, max_leaves, max_bin, tree_method, objective, predictor, seed))#, booster, sample_type, normalize_type, rate_drop, skip_drop))\n",
        "xgb_grid    = [dict(zip(hyper_parms, variant)) for variant in variants]\n",
        "random.shuffle(xgb_grid)\n",
        "xgb_grid = xgb_grid[:2]\n",
        "\n",
        "print(f'There are {len(xgb_grid)} different Models.', '\\n', '\\n')"
      ]
    },
    {
      "cell_type": "code",
      "source": [
        "premu_order = premu_order.loc[premu_order.avg > 0].copy()"
      ],
      "metadata": {
        "id": "46JAyWi-6jLT"
      },
      "execution_count": 30,
      "outputs": []
    },
    {
      "cell_type": "code",
      "source": [
        "train = train[premu_order.index.to_list() + ['target']]"
      ],
      "metadata": {
        "id": "61cqAz0V6q5E"
      },
      "execution_count": 32,
      "outputs": []
    },
    {
      "cell_type": "code",
      "source": [
        "premu_order['weight'] = [0] * premu_order.shape[0]"
      ],
      "metadata": {
        "id": "MUJTKPhG9kNc"
      },
      "execution_count": 33,
      "outputs": []
    },
    {
      "cell_type": "code",
      "source": [
        "premu_order['weight'] = premu_order['avg']"
      ],
      "metadata": {
        "id": "9fq50y0Z9rI4"
      },
      "execution_count": 34,
      "outputs": []
    },
    {
      "cell_type": "code",
      "source": [
        "premu_order.loc[premu_order.avg>0.00065, 'weight'] = premu_order.loc[premu_order.avg>0.00065, 'weight'] + 0.01"
      ],
      "metadata": {
        "id": "os016MMP-5Ly"
      },
      "execution_count": 37,
      "outputs": []
    },
    {
      "cell_type": "code",
      "source": [
        "premu_order['weight'] = premu_order.weight / premu_order.weight.sum()"
      ],
      "metadata": {
        "id": "_1DNf2_c_zFi"
      },
      "execution_count": 38,
      "outputs": []
    },
    {
      "cell_type": "code",
      "source": [
        "# Get orders\n",
        "orders  = []\n",
        "\n",
        "weights = [1/len(train.columns[:-1])] * len(train.columns[:-1]) #premu_order.weight.to_list()     # \n",
        "cols    = train.columns[:-1].to_list()   #train.columns[:-1].to_list() \n",
        "\n",
        "join = list(zip(cols, weights))\n",
        "\n",
        "for order in range(3):\n",
        "\n",
        "  random.shuffle(join)\n",
        "  orders.append(join.copy())\n",
        "\n",
        "print(f'There are {len(orders)} different order.', '\\n', '\\n')"
      ],
      "metadata": {
        "colab": {
          "base_uri": "https://localhost:8080/"
        },
        "id": "MLr8h5TPXREt",
        "outputId": "329a6173-bb27-4e02-814f-07bbc4cecc9a"
      },
      "execution_count": 86,
      "outputs": [
        {
          "output_type": "stream",
          "name": "stdout",
          "text": [
            "There are 3 different order. \n",
            " \n",
            "\n"
          ]
        }
      ]
    },
    {
      "cell_type": "markdown",
      "source": [
        "### Search & Permutation Importance"
      ],
      "metadata": {
        "id": "P9_RnCF-1wvV"
      }
    },
    {
      "cell_type": "code",
      "execution_count": null,
      "metadata": {
        "id": "iMAdr01JQhsw",
        "scrolled": true,
        "colab": {
          "base_uri": "https://localhost:8080/"
        },
        "outputId": "91219f34-0627-417c-9b69-70ca6186c4f7"
      },
      "outputs": [
        {
          "output_type": "stream",
          "name": "stdout",
          "text": [
            "########### Order 0 Model 0 Fold 0 #############\n",
            "##################################################\n",
            "[0]\tvalid-logloss:0.66938\tvalid-AMEXcustom:0.57004\n",
            "[468]\tvalid-logloss:0.37789\tvalid-AMEXcustom:0.36623\n",
            "Metric = 0.6412575175529853, Best = nan \n",
            "\n",
            "########### Order 0 Model 0 Fold 1 #############\n",
            "##################################################\n",
            "[0]\tvalid-logloss:0.66774\tvalid-AMEXcustom:0.57168\n",
            "[500]\tvalid-logloss:0.35190\tvalid-AMEXcustom:0.35559\n",
            "[838]\tvalid-logloss:0.37238\tvalid-AMEXcustom:0.35666\n",
            "Metric = 0.6525496176103385, Best = nan \n",
            "\n"
          ]
        }
      ],
      "source": [
        "# Out-of-fold predictions & permutation  importances\n",
        "oof_cols  = [f'fold_{i}' for i in range(FOLDS)] + ['avg', 'oof']\n",
        "oof       = pd.DataFrame(columns = oof_cols)\n",
        "premu_imp = pd.DataFrame()\n",
        "\n",
        "# Get feature order & weights\n",
        "for order_num, order in enumerate(orders):\n",
        "\n",
        "      weights     = [x[1] for x in order]\n",
        "      features    = [x[0] for x in order]\n",
        "      train       = train[features + ['target']]\n",
        "      premu_order = pd.DataFrame(index=train.columns[:-1])\n",
        "\n",
        "      # Start grid search\n",
        "      for model_num, xgb_parms in enumerate(xgb_grid):\n",
        "\n",
        "            kag_mets  = []\n",
        "            oof_model = pd.DataFrame()\n",
        "\n",
        "            # Start cross validation\n",
        "            skf = StratifiedKFold(n_splits=FOLDS, shuffle=True, random_state=11)\n",
        "            for fold, (train_idx, valid_idx) in enumerate(skf.split(train, train.target)):\n",
        "                \n",
        "                  print(f'########### Order {order_num} Model {model_num} Fold {fold} #############')\n",
        "                  print('##################################################')\n",
        "                  \n",
        "                  # Train and valid set for given fold       \n",
        "                  x_valid = cupy.array(train.loc[valid_idx, train.columns[:-1]])\n",
        "                  y_valid = cupy.array(train.loc[valid_idx, 'target'])\n",
        "                  dvalid  = xgb.DMatrix(data=x_valid, label=y_valid)\n",
        "                  \n",
        "                  x_train = cupy.array(train.loc[train_idx, train.columns[:-1]])\n",
        "                  y_train = cupy.array(train.loc[train_idx, 'target'])\n",
        "                  dtrain  = xgb.DeviceQuantileDMatrix(data=x_train, label=y_train, feature_weights=weights)\n",
        "\n",
        "                  # Train model\n",
        "                  model = xgb.train(params                = xgb_parms,\n",
        "                                    dtrain                = dtrain,\n",
        "                                    evals                 = [(dvalid,'valid')],\n",
        "                                    custom_metric         = xgboost_amex_metric_mod,\n",
        "                                    num_boost_round       = 10000,\n",
        "                                    early_stopping_rounds = 300,\n",
        "                                    verbose_eval          = 500)\n",
        "                \n",
        "                  # Save model\n",
        "                  model_dir = '/content/drive/MyDrive/KaggleAMEX/Models/freq_3'\n",
        "                  model.save_model(f'{model_dir}/avg_fold_{fold}.xgb')\n",
        "                          \n",
        "                  # Validation - Infer out-of-fold\n",
        "                  preds     = model.predict(dvalid, iteration_range=(0, model.best_iteration + 1))\n",
        "                  df        = pd.DataFrame(data=preds, index=valid_idx, columns=['oof'])\n",
        "                  oof_model = pd.concat([oof_model, df], axis = 0)\n",
        "\n",
        "                  # Kaggle metric\n",
        "                  kag_mets.append(amex_metric_mod(y_valid.get(), preds))\n",
        "                  curr_best = np.max([oof[f'fold_{fold}'].max(), kag_mets[-1]])\n",
        "                  print(f'Metric = {kag_mets[-1]}, Best = {curr_best}', '\\n')\n",
        "                  \n",
        "                  # Skip if no significant improvment\n",
        "                  #if kag_mets[-1] + 0.011 < curr_best: break\n",
        "                  \n",
        "                  # Permutation importance\n",
        "                  premu_order[f'order_{order_num}_grid_{model_num}_fold_{fold}'] = permutation_importance(train, valid_idx, train.columns[:-1], model, kag_mets[-1])\n",
        "                  \n",
        "                  # Clean RAM & GPU RAM\n",
        "                  del y_train, x_train, y_valid, x_valid, dtrain, dvalid, train_idx, valid_idx\n",
        "                  mempool.free_all_blocks(), pinned_mempool.free_all_blocks(), gc.collect()\n",
        "                    \n",
        "            # Skip if fold not compleat\n",
        "            if len(kag_mets) != 5: continue\n",
        "          \n",
        "            # Metrics\n",
        "            kag_mets.append(np.mean(kag_mets))\n",
        "            kag_mets.append(amex_metric_mod(train.target.values, oof_model.sort_index().oof.values))\n",
        "            oof.loc[f'order_{order_num}_model_{model_num}'] = kag_mets\n",
        "            print(f'avg: {kag_mets[-2]}, Max: {oof.avg.max()}')\n",
        "            print(f'oof: {kag_mets[-1]}, Max: {oof.oof.max()}', '\\n', '\\n', '\\n')\n",
        "            \n",
        "      #premu_imp = pd.concat([premu_order,premu_imp], axis=1)\n",
        "\n",
        "# Average over folds\n",
        "premu_imp['avg'] = premu_imp.mean(axis=1)\n",
        "premu_imp.sort_values('avg', ascending=False, inplace=True)\n",
        "oof.sort_values('oof', ascending=False, inplace=True)"
      ]
    },
    {
      "cell_type": "code",
      "source": [
        "oof.sort_values('avg', ascending=False) # order_0_model_36 0.7456882519734114  order_0_model_135 0.742896"
      ],
      "metadata": {
        "colab": {
          "base_uri": "https://localhost:8080/",
          "height": 81
        },
        "id": "kZRwc9epSqok",
        "outputId": "c1eff1d4-18e3-4597-98ef-92da6a37f59e"
      },
      "execution_count": 58,
      "outputs": [
        {
          "output_type": "execute_result",
          "data": {
            "text/plain": [
              "                   fold_0    fold_1    fold_2    fold_3    fold_4       avg  \\\n",
              "order_0_model_0  0.733118  0.747534  0.752498  0.732293  0.759088  0.744906   \n",
              "\n",
              "                      oof  \n",
              "order_0_model_0  0.742896  "
            ],
            "text/html": [
              "\n",
              "  <div id=\"df-05058ed4-beb6-47a7-996f-04a307af7db2\">\n",
              "    <div class=\"colab-df-container\">\n",
              "      <div>\n",
              "<style scoped>\n",
              "    .dataframe tbody tr th:only-of-type {\n",
              "        vertical-align: middle;\n",
              "    }\n",
              "\n",
              "    .dataframe tbody tr th {\n",
              "        vertical-align: top;\n",
              "    }\n",
              "\n",
              "    .dataframe thead th {\n",
              "        text-align: right;\n",
              "    }\n",
              "</style>\n",
              "<table border=\"1\" class=\"dataframe\">\n",
              "  <thead>\n",
              "    <tr style=\"text-align: right;\">\n",
              "      <th></th>\n",
              "      <th>fold_0</th>\n",
              "      <th>fold_1</th>\n",
              "      <th>fold_2</th>\n",
              "      <th>fold_3</th>\n",
              "      <th>fold_4</th>\n",
              "      <th>avg</th>\n",
              "      <th>oof</th>\n",
              "    </tr>\n",
              "  </thead>\n",
              "  <tbody>\n",
              "    <tr>\n",
              "      <th>order_0_model_0</th>\n",
              "      <td>0.733118</td>\n",
              "      <td>0.747534</td>\n",
              "      <td>0.752498</td>\n",
              "      <td>0.732293</td>\n",
              "      <td>0.759088</td>\n",
              "      <td>0.744906</td>\n",
              "      <td>0.742896</td>\n",
              "    </tr>\n",
              "  </tbody>\n",
              "</table>\n",
              "</div>\n",
              "      <button class=\"colab-df-convert\" onclick=\"convertToInteractive('df-05058ed4-beb6-47a7-996f-04a307af7db2')\"\n",
              "              title=\"Convert this dataframe to an interactive table.\"\n",
              "              style=\"display:none;\">\n",
              "        \n",
              "  <svg xmlns=\"http://www.w3.org/2000/svg\" height=\"24px\"viewBox=\"0 0 24 24\"\n",
              "       width=\"24px\">\n",
              "    <path d=\"M0 0h24v24H0V0z\" fill=\"none\"/>\n",
              "    <path d=\"M18.56 5.44l.94 2.06.94-2.06 2.06-.94-2.06-.94-.94-2.06-.94 2.06-2.06.94zm-11 1L8.5 8.5l.94-2.06 2.06-.94-2.06-.94L8.5 2.5l-.94 2.06-2.06.94zm10 10l.94 2.06.94-2.06 2.06-.94-2.06-.94-.94-2.06-.94 2.06-2.06.94z\"/><path d=\"M17.41 7.96l-1.37-1.37c-.4-.4-.92-.59-1.43-.59-.52 0-1.04.2-1.43.59L10.3 9.45l-7.72 7.72c-.78.78-.78 2.05 0 2.83L4 21.41c.39.39.9.59 1.41.59.51 0 1.02-.2 1.41-.59l7.78-7.78 2.81-2.81c.8-.78.8-2.07 0-2.86zM5.41 20L4 18.59l7.72-7.72 1.47 1.35L5.41 20z\"/>\n",
              "  </svg>\n",
              "      </button>\n",
              "      \n",
              "  <style>\n",
              "    .colab-df-container {\n",
              "      display:flex;\n",
              "      flex-wrap:wrap;\n",
              "      gap: 12px;\n",
              "    }\n",
              "\n",
              "    .colab-df-convert {\n",
              "      background-color: #E8F0FE;\n",
              "      border: none;\n",
              "      border-radius: 50%;\n",
              "      cursor: pointer;\n",
              "      display: none;\n",
              "      fill: #1967D2;\n",
              "      height: 32px;\n",
              "      padding: 0 0 0 0;\n",
              "      width: 32px;\n",
              "    }\n",
              "\n",
              "    .colab-df-convert:hover {\n",
              "      background-color: #E2EBFA;\n",
              "      box-shadow: 0px 1px 2px rgba(60, 64, 67, 0.3), 0px 1px 3px 1px rgba(60, 64, 67, 0.15);\n",
              "      fill: #174EA6;\n",
              "    }\n",
              "\n",
              "    [theme=dark] .colab-df-convert {\n",
              "      background-color: #3B4455;\n",
              "      fill: #D2E3FC;\n",
              "    }\n",
              "\n",
              "    [theme=dark] .colab-df-convert:hover {\n",
              "      background-color: #434B5C;\n",
              "      box-shadow: 0px 1px 3px 1px rgba(0, 0, 0, 0.15);\n",
              "      filter: drop-shadow(0px 1px 2px rgba(0, 0, 0, 0.3));\n",
              "      fill: #FFFFFF;\n",
              "    }\n",
              "  </style>\n",
              "\n",
              "      <script>\n",
              "        const buttonEl =\n",
              "          document.querySelector('#df-05058ed4-beb6-47a7-996f-04a307af7db2 button.colab-df-convert');\n",
              "        buttonEl.style.display =\n",
              "          google.colab.kernel.accessAllowed ? 'block' : 'none';\n",
              "\n",
              "        async function convertToInteractive(key) {\n",
              "          const element = document.querySelector('#df-05058ed4-beb6-47a7-996f-04a307af7db2');\n",
              "          const dataTable =\n",
              "            await google.colab.kernel.invokeFunction('convertToInteractive',\n",
              "                                                     [key], {});\n",
              "          if (!dataTable) return;\n",
              "\n",
              "          const docLinkHtml = 'Like what you see? Visit the ' +\n",
              "            '<a target=\"_blank\" href=https://colab.research.google.com/notebooks/data_table.ipynb>data table notebook</a>'\n",
              "            + ' to learn more about interactive tables.';\n",
              "          element.innerHTML = '';\n",
              "          dataTable['output_type'] = 'display_data';\n",
              "          await google.colab.output.renderOutput(dataTable, element);\n",
              "          const docLink = document.createElement('div');\n",
              "          docLink.innerHTML = docLinkHtml;\n",
              "          element.appendChild(docLink);\n",
              "        }\n",
              "      </script>\n",
              "    </div>\n",
              "  </div>\n",
              "  "
            ]
          },
          "metadata": {},
          "execution_count": 58
        }
      ]
    },
    {
      "cell_type": "code",
      "source": [
        "premu_imp['avg'] = premu_imp.mean(axis=1)\n",
        "premu_imp.sort_values('avg', ascending=False, inplace=True)\n",
        "oof.sort_values('oof', ascending=False, inplace=True)"
      ],
      "metadata": {
        "id": "XoqQJPPJdGd4"
      },
      "execution_count": null,
      "outputs": []
    },
    {
      "cell_type": "code",
      "source": [
        "premu_order['avg'] = premu_order.mean(axis=1)"
      ],
      "metadata": {
        "id": "W9tkYiP_9nAa"
      },
      "execution_count": 23,
      "outputs": []
    },
    {
      "cell_type": "code",
      "source": [
        "sns.displot(premu_order, x='avg', bins=150, height=5, legend=False,  aspect=3.5)"
      ],
      "metadata": {
        "colab": {
          "base_uri": "https://localhost:8080/",
          "height": 321
        },
        "id": "Zc8YicBuQupw",
        "outputId": "afdcbc7d-3e15-43ae-e33f-1348890e39c2"
      },
      "execution_count": 24,
      "outputs": [
        {
          "output_type": "execute_result",
          "data": {
            "text/plain": [
              "<seaborn.axisgrid.FacetGrid at 0x7fcae1981d90>"
            ]
          },
          "metadata": {},
          "execution_count": 24
        },
        {
          "output_type": "display_data",
          "data": {
            "text/plain": [
              "<Figure size 1260x360 with 1 Axes>"
            ],
            "image/png": "[encoded data removed]"
          },
          "metadata": {
            "needs_background": "light"
          }
        }
      ]
    },
    {
      "cell_type": "code",
      "source": [
        "premu_order.sort_values('avg', ascending=False, inplace=True)"
      ],
      "metadata": {
        "id": "lzuTzBIx4CR8"
      },
      "execution_count": 25,
      "outputs": []
    },
    {
      "cell_type": "code",
      "source": [
        "premu_order.loc[premu_order.avg <= 0]"
      ],
      "metadata": {
        "colab": {
          "base_uri": "https://localhost:8080/",
          "height": 488
        },
        "id": "ul-6n805xKrI",
        "outputId": "a68859c0-7088-4c4c-9e6f-0695a66c2637"
      },
      "execution_count": 29,
      "outputs": [
        {
          "output_type": "execute_result",
          "data": {
            "text/plain": [
              "                      order_0_grid_0_fold_0  order_0_grid_0_fold_1  \\\n",
              "B_15_sum_na                        0.000000               0.000000   \n",
              "R_20_max                           0.000000               0.000000   \n",
              "D_119_sum_na                       0.000000               0.000000   \n",
              "R_13_sum_woe                       0.000000               0.000000   \n",
              "R_18_diff_1                        0.000000               0.000000   \n",
              "...                                     ...                    ...   \n",
              "D_44_last_m_B_2_mean               0.000000               0.002028   \n",
              "R_1_t_B_7_max                     -0.000060              -0.000012   \n",
              "R_1_last_m_B_2_mean                0.001008              -0.000080   \n",
              "P_2_mean_m_R_1_std                 0.000028              -0.006120   \n",
              "P_2_t_B_10_last                   -0.000044               0.000072   \n",
              "\n",
              "                      order_0_grid_0_fold_2  order_0_grid_0_fold_3  \\\n",
              "B_15_sum_na                        0.000000               0.000000   \n",
              "R_20_max                           0.000000               0.000000   \n",
              "D_119_sum_na                       0.000000               0.000000   \n",
              "R_13_sum_woe                       0.000000               0.000000   \n",
              "R_18_diff_1                        0.000000               0.000000   \n",
              "...                                     ...                    ...   \n",
              "D_44_last_m_B_2_mean               0.001004               0.000000   \n",
              "R_1_t_B_7_max                      0.000028               0.000012   \n",
              "R_1_last_m_B_2_mean               -0.000040               0.000068   \n",
              "P_2_mean_m_R_1_std                 0.000004              -0.000024   \n",
              "P_2_t_B_10_last                    0.000000              -0.000020   \n",
              "\n",
              "                      order_0_grid_0_fold_4  order_0_grid_1_fold_0  \\\n",
              "B_15_sum_na                        0.000000               0.000000   \n",
              "R_20_max                           0.000000               0.000000   \n",
              "D_119_sum_na                       0.000000               0.000000   \n",
              "R_13_sum_woe                       0.000000               0.000000   \n",
              "R_18_diff_1                        0.000000               0.000000   \n",
              "...                                     ...                    ...   \n",
              "D_44_last_m_B_2_mean               0.000096              -0.000144   \n",
              "R_1_t_B_7_max                      0.000092               0.000000   \n",
              "R_1_last_m_B_2_mean                0.000132              -0.001108   \n",
              "P_2_mean_m_R_1_std                 0.000000              -0.000004   \n",
              "P_2_t_B_10_last                    0.000228              -0.000108   \n",
              "\n",
              "                      order_0_grid_1_fold_1  order_0_grid_1_fold_2  \\\n",
              "B_15_sum_na                        0.000000               0.000000   \n",
              "R_20_max                           0.000000               0.000000   \n",
              "D_119_sum_na                       0.000000               0.000000   \n",
              "R_13_sum_woe                       0.000000               0.000000   \n",
              "R_18_diff_1                        0.000000               0.000000   \n",
              "...                                     ...                    ...   \n",
              "D_44_last_m_B_2_mean              -0.002136               0.000968   \n",
              "R_1_t_B_7_max                      0.000004              -0.006000   \n",
              "R_1_last_m_B_2_mean                0.002032              -0.000836   \n",
              "P_2_mean_m_R_1_std                -0.000028               0.000024   \n",
              "P_2_t_B_10_last                    0.000000              -0.003056   \n",
              "\n",
              "                      order_0_grid_2_fold_0  order_0_grid_2_fold_1  \\\n",
              "B_15_sum_na                        0.000000               0.000000   \n",
              "R_20_max                           0.000000               0.000000   \n",
              "D_119_sum_na                       0.000000               0.000000   \n",
              "R_13_sum_woe                       0.000000               0.000000   \n",
              "R_18_diff_1                        0.000000               0.000000   \n",
              "...                                     ...                    ...   \n",
              "D_44_last_m_B_2_mean               0.000000              -0.005868   \n",
              "R_1_t_B_7_max                      0.000000               0.000000   \n",
              "R_1_last_m_B_2_mean                0.002032              -0.006124   \n",
              "P_2_mean_m_R_1_std                -0.000080               0.000004   \n",
              "P_2_t_B_10_last                   -0.001004               0.000000   \n",
              "\n",
              "                      order_0_grid_2_fold_2  order_0_grid_5_fold_0       avg  \n",
              "B_15_sum_na                        0.000000               0.000000  0.000000  \n",
              "R_20_max                           0.000000               0.000000  0.000000  \n",
              "D_119_sum_na                       0.000000               0.000000  0.000000  \n",
              "R_13_sum_woe                       0.000000               0.000000  0.000000  \n",
              "R_18_diff_1                        0.000000               0.000000  0.000000  \n",
              "...                                     ...                    ...       ...  \n",
              "D_44_last_m_B_2_mean               0.000952              -0.002301 -0.000450  \n",
              "R_1_t_B_7_max                     -0.000024               0.000028 -0.000494  \n",
              "R_1_last_m_B_2_mean                0.000000              -0.004032 -0.000579  \n",
              "P_2_mean_m_R_1_std                 0.000004              -0.000996 -0.000599  \n",
              "P_2_t_B_10_last                    0.001044              -0.005028 -0.000660  \n",
              "\n",
              "[470 rows x 13 columns]"
            ],
            "text/html": [
              "\n",
              "  <div id=\"df-54109686-564c-4238-bfc5-0f65c60dfdbc\">\n",
              "    <div class=\"colab-df-container\">\n",
              "      <div>\n",
              "<style scoped>\n",
              "    .dataframe tbody tr th:only-of-type {\n",
              "        vertical-align: middle;\n",
              "    }\n",
              "\n",
              "    .dataframe tbody tr th {\n",
              "        vertical-align: top;\n",
              "    }\n",
              "\n",
              "    .dataframe thead th {\n",
              "        text-align: right;\n",
              "    }\n",
              "</style>\n",
              "<table border=\"1\" class=\"dataframe\">\n",
              "  <thead>\n",
              "    <tr style=\"text-align: right;\">\n",
              "      <th></th>\n",
              "      <th>order_0_grid_0_fold_0</th>\n",
              "      <th>order_0_grid_0_fold_1</th>\n",
              "      <th>order_0_grid_0_fold_2</th>\n",
              "      <th>order_0_grid_0_fold_3</th>\n",
              "      <th>order_0_grid_0_fold_4</th>\n",
              "      <th>order_0_grid_1_fold_0</th>\n",
              "      <th>order_0_grid_1_fold_1</th>\n",
              "      <th>order_0_grid_1_fold_2</th>\n",
              "      <th>order_0_grid_2_fold_0</th>\n",
              "      <th>order_0_grid_2_fold_1</th>\n",
              "      <th>order_0_grid_2_fold_2</th>\n",
              "      <th>order_0_grid_5_fold_0</th>\n",
              "      <th>avg</th>\n",
              "    </tr>\n",
              "  </thead>\n",
              "  <tbody>\n",
              "    <tr>\n",
              "      <th>B_15_sum_na</th>\n",
              "      <td>0.000000</td>\n",
              "      <td>0.000000</td>\n",
              "      <td>0.000000</td>\n",
              "      <td>0.000000</td>\n",
              "      <td>0.000000</td>\n",
              "      <td>0.000000</td>\n",
              "      <td>0.000000</td>\n",
              "      <td>0.000000</td>\n",
              "      <td>0.000000</td>\n",
              "      <td>0.000000</td>\n",
              "      <td>0.000000</td>\n",
              "      <td>0.000000</td>\n",
              "      <td>0.000000</td>\n",
              "    </tr>\n",
              "    <tr>\n",
              "      <th>R_20_max</th>\n",
              "      <td>0.000000</td>\n",
              "      <td>0.000000</td>\n",
              "      <td>0.000000</td>\n",
              "      <td>0.000000</td>\n",
              "      <td>0.000000</td>\n",
              "      <td>0.000000</td>\n",
              "      <td>0.000000</td>\n",
              "      <td>0.000000</td>\n",
              "      <td>0.000000</td>\n",
              "      <td>0.000000</td>\n",
              "      <td>0.000000</td>\n",
              "      <td>0.000000</td>\n",
              "      <td>0.000000</td>\n",
              "    </tr>\n",
              "    <tr>\n",
              "      <th>D_119_sum_na</th>\n",
              "      <td>0.000000</td>\n",
              "      <td>0.000000</td>\n",
              "      <td>0.000000</td>\n",
              "      <td>0.000000</td>\n",
              "      <td>0.000000</td>\n",
              "      <td>0.000000</td>\n",
              "      <td>0.000000</td>\n",
              "      <td>0.000000</td>\n",
              "      <td>0.000000</td>\n",
              "      <td>0.000000</td>\n",
              "      <td>0.000000</td>\n",
              "      <td>0.000000</td>\n",
              "      <td>0.000000</td>\n",
              "    </tr>\n",
              "    <tr>\n",
              "      <th>R_13_sum_woe</th>\n",
              "      <td>0.000000</td>\n",
              "      <td>0.000000</td>\n",
              "      <td>0.000000</td>\n",
              "      <td>0.000000</td>\n",
              "      <td>0.000000</td>\n",
              "      <td>0.000000</td>\n",
              "      <td>0.000000</td>\n",
              "      <td>0.000000</td>\n",
              "      <td>0.000000</td>\n",
              "      <td>0.000000</td>\n",
              "      <td>0.000000</td>\n",
              "      <td>0.000000</td>\n",
              "      <td>0.000000</td>\n",
              "    </tr>\n",
              "    <tr>\n",
              "      <th>R_18_diff_1</th>\n",
              "      <td>0.000000</td>\n",
              "      <td>0.000000</td>\n",
              "      <td>0.000000</td>\n",
              "      <td>0.000000</td>\n",
              "      <td>0.000000</td>\n",
              "      <td>0.000000</td>\n",
              "      <td>0.000000</td>\n",
              "      <td>0.000000</td>\n",
              "      <td>0.000000</td>\n",
              "      <td>0.000000</td>\n",
              "      <td>0.000000</td>\n",
              "      <td>0.000000</td>\n",
              "      <td>0.000000</td>\n",
              "    </tr>\n",
              "    <tr>\n",
              "      <th>...</th>\n",
              "      <td>...</td>\n",
              "      <td>...</td>\n",
              "      <td>...</td>\n",
              "      <td>...</td>\n",
              "      <td>...</td>\n",
              "      <td>...</td>\n",
              "      <td>...</td>\n",
              "      <td>...</td>\n",
              "      <td>...</td>\n",
              "      <td>...</td>\n",
              "      <td>...</td>\n",
              "      <td>...</td>\n",
              "      <td>...</td>\n",
              "    </tr>\n",
              "    <tr>\n",
              "      <th>D_44_last_m_B_2_mean</th>\n",
              "      <td>0.000000</td>\n",
              "      <td>0.002028</td>\n",
              "      <td>0.001004</td>\n",
              "      <td>0.000000</td>\n",
              "      <td>0.000096</td>\n",
              "      <td>-0.000144</td>\n",
              "      <td>-0.002136</td>\n",
              "      <td>0.000968</td>\n",
              "      <td>0.000000</td>\n",
              "      <td>-0.005868</td>\n",
              "      <td>0.000952</td>\n",
              "      <td>-0.002301</td>\n",
              "      <td>-0.000450</td>\n",
              "    </tr>\n",
              "    <tr>\n",
              "      <th>R_1_t_B_7_max</th>\n",
              "      <td>-0.000060</td>\n",
              "      <td>-0.000012</td>\n",
              "      <td>0.000028</td>\n",
              "      <td>0.000012</td>\n",
              "      <td>0.000092</td>\n",
              "      <td>0.000000</td>\n",
              "      <td>0.000004</td>\n",
              "      <td>-0.006000</td>\n",
              "      <td>0.000000</td>\n",
              "      <td>0.000000</td>\n",
              "      <td>-0.000024</td>\n",
              "      <td>0.000028</td>\n",
              "      <td>-0.000494</td>\n",
              "    </tr>\n",
              "    <tr>\n",
              "      <th>R_1_last_m_B_2_mean</th>\n",
              "      <td>0.001008</td>\n",
              "      <td>-0.000080</td>\n",
              "      <td>-0.000040</td>\n",
              "      <td>0.000068</td>\n",
              "      <td>0.000132</td>\n",
              "      <td>-0.001108</td>\n",
              "      <td>0.002032</td>\n",
              "      <td>-0.000836</td>\n",
              "      <td>0.002032</td>\n",
              "      <td>-0.006124</td>\n",
              "      <td>0.000000</td>\n",
              "      <td>-0.004032</td>\n",
              "      <td>-0.000579</td>\n",
              "    </tr>\n",
              "    <tr>\n",
              "      <th>P_2_mean_m_R_1_std</th>\n",
              "      <td>0.000028</td>\n",
              "      <td>-0.006120</td>\n",
              "      <td>0.000004</td>\n",
              "      <td>-0.000024</td>\n",
              "      <td>0.000000</td>\n",
              "      <td>-0.000004</td>\n",
              "      <td>-0.000028</td>\n",
              "      <td>0.000024</td>\n",
              "      <td>-0.000080</td>\n",
              "      <td>0.000004</td>\n",
              "      <td>0.000004</td>\n",
              "      <td>-0.000996</td>\n",
              "      <td>-0.000599</td>\n",
              "    </tr>\n",
              "    <tr>\n",
              "      <th>P_2_t_B_10_last</th>\n",
              "      <td>-0.000044</td>\n",
              "      <td>0.000072</td>\n",
              "      <td>0.000000</td>\n",
              "      <td>-0.000020</td>\n",
              "      <td>0.000228</td>\n",
              "      <td>-0.000108</td>\n",
              "      <td>0.000000</td>\n",
              "      <td>-0.003056</td>\n",
              "      <td>-0.001004</td>\n",
              "      <td>0.000000</td>\n",
              "      <td>0.001044</td>\n",
              "      <td>-0.005028</td>\n",
              "      <td>-0.000660</td>\n",
              "    </tr>\n",
              "  </tbody>\n",
              "</table>\n",
              "<p>470 rows × 13 columns</p>\n",
              "</div>\n",
              "      <button class=\"colab-df-convert\" onclick=\"convertToInteractive('df-54109686-564c-4238-bfc5-0f65c60dfdbc')\"\n",
              "              title=\"Convert this dataframe to an interactive table.\"\n",
              "              style=\"display:none;\">\n",
              "        \n",
              "  <svg xmlns=\"http://www.w3.org/2000/svg\" height=\"24px\"viewBox=\"0 0 24 24\"\n",
              "       width=\"24px\">\n",
              "    <path d=\"M0 0h24v24H0V0z\" fill=\"none\"/>\n",
              "    <path d=\"M18.56 5.44l.94 2.06.94-2.06 2.06-.94-2.06-.94-.94-2.06-.94 2.06-2.06.94zm-11 1L8.5 8.5l.94-2.06 2.06-.94-2.06-.94L8.5 2.5l-.94 2.06-2.06.94zm10 10l.94 2.06.94-2.06 2.06-.94-2.06-.94-.94-2.06-.94 2.06-2.06.94z\"/><path d=\"M17.41 7.96l-1.37-1.37c-.4-.4-.92-.59-1.43-.59-.52 0-1.04.2-1.43.59L10.3 9.45l-7.72 7.72c-.78.78-.78 2.05 0 2.83L4 21.41c.39.39.9.59 1.41.59.51 0 1.02-.2 1.41-.59l7.78-7.78 2.81-2.81c.8-.78.8-2.07 0-2.86zM5.41 20L4 18.59l7.72-7.72 1.47 1.35L5.41 20z\"/>\n",
              "  </svg>\n",
              "      </button>\n",
              "      \n",
              "  <style>\n",
              "    .colab-df-container {\n",
              "      display:flex;\n",
              "      flex-wrap:wrap;\n",
              "      gap: 12px;\n",
              "    }\n",
              "\n",
              "    .colab-df-convert {\n",
              "      background-color: #E8F0FE;\n",
              "      border: none;\n",
              "      border-radius: 50%;\n",
              "      cursor: pointer;\n",
              "      display: none;\n",
              "      fill: #1967D2;\n",
              "      height: 32px;\n",
              "      padding: 0 0 0 0;\n",
              "      width: 32px;\n",
              "    }\n",
              "\n",
              "    .colab-df-convert:hover {\n",
              "      background-color: #E2EBFA;\n",
              "      box-shadow: 0px 1px 2px rgba(60, 64, 67, 0.3), 0px 1px 3px 1px rgba(60, 64, 67, 0.15);\n",
              "      fill: #174EA6;\n",
              "    }\n",
              "\n",
              "    [theme=dark] .colab-df-convert {\n",
              "      background-color: #3B4455;\n",
              "      fill: #D2E3FC;\n",
              "    }\n",
              "\n",
              "    [theme=dark] .colab-df-convert:hover {\n",
              "      background-color: #434B5C;\n",
              "      box-shadow: 0px 1px 3px 1px rgba(0, 0, 0, 0.15);\n",
              "      filter: drop-shadow(0px 1px 2px rgba(0, 0, 0, 0.3));\n",
              "      fill: #FFFFFF;\n",
              "    }\n",
              "  </style>\n",
              "\n",
              "      <script>\n",
              "        const buttonEl =\n",
              "          document.querySelector('#df-54109686-564c-4238-bfc5-0f65c60dfdbc button.colab-df-convert');\n",
              "        buttonEl.style.display =\n",
              "          google.colab.kernel.accessAllowed ? 'block' : 'none';\n",
              "\n",
              "        async function convertToInteractive(key) {\n",
              "          const element = document.querySelector('#df-54109686-564c-4238-bfc5-0f65c60dfdbc');\n",
              "          const dataTable =\n",
              "            await google.colab.kernel.invokeFunction('convertToInteractive',\n",
              "                                                     [key], {});\n",
              "          if (!dataTable) return;\n",
              "\n",
              "          const docLinkHtml = 'Like what you see? Visit the ' +\n",
              "            '<a target=\"_blank\" href=https://colab.research.google.com/notebooks/data_table.ipynb>data table notebook</a>'\n",
              "            + ' to learn more about interactive tables.';\n",
              "          element.innerHTML = '';\n",
              "          dataTable['output_type'] = 'display_data';\n",
              "          await google.colab.output.renderOutput(dataTable, element);\n",
              "          const docLink = document.createElement('div');\n",
              "          docLink.innerHTML = docLinkHtml;\n",
              "          element.appendChild(docLink);\n",
              "        }\n",
              "      </script>\n",
              "    </div>\n",
              "  </div>\n",
              "  "
            ]
          },
          "metadata": {},
          "execution_count": 29
        }
      ]
    },
    {
      "cell_type": "code",
      "source": [
        "permu_save = premu_order.copy()"
      ],
      "metadata": {
        "id": "3LA1Ta5L6aKf"
      },
      "execution_count": 20,
      "outputs": []
    },
    {
      "cell_type": "markdown",
      "source": [
        "# Save Parameter & Feature Order"
      ],
      "metadata": {
        "id": "pyV1SFNx006n"
      }
    },
    {
      "cell_type": "code",
      "source": [
        "parameter     = pd.DataFrame([xgb_grid[36], xgb_grid[135]], index = ['avg', 'oof'])\n",
        "\n",
        "order_avg   = [x[0] for x in orders[0]]\n",
        "weights_avg = [x[1] for x in orders[0]]\n",
        "\n",
        "order_oof   = [x[0] for x in orders[0]]\n",
        "weights_oof = [x[1] for x in orders[0]]\n",
        "\n",
        "feature_order = pd.DataFrame(list(zip(order_avg, weights_avg, order_oof, weights_oof)), columns=['order_avg', 'weights_avg', 'order_oof', 'weights_oof'])"
      ],
      "metadata": {
        "id": "bGxfvq_vRJO_"
      },
      "execution_count": 68,
      "outputs": []
    },
    {
      "cell_type": "code",
      "source": [
        "parameter.to_csv('/content/drive/MyDrive/KaggleAMEX/Models/freq_3/parameters.csv')\n",
        "feature_order.to_csv('/content/drive/MyDrive/KaggleAMEX/Models/freq_3/features.csv')"
      ],
      "metadata": {
        "id": "Mho5u8_SwBT_"
      },
      "execution_count": 72,
      "outputs": []
    },
    {
      "cell_type": "code",
      "source": [
        "# [1]    order_1_model_44 - 0.641124 order_2_model_156 - 0.632451\n",
        "# [2-12] order_0_model_16 - 0.671053 order_0_model_152 - 0.669303\n",
        "# [13]   order_0_model_36 - 0.745688 order_0_model_135 - 0.742896"
      ],
      "metadata": {
        "id": "ySeuXKYZ0wN2"
      },
      "execution_count": null,
      "outputs": []
    },
    {
      "cell_type": "markdown",
      "metadata": {
        "id": "OPVVjUz5Byxx"
      },
      "source": [
        "# Feature Importance"
      ]
    },
    {
      "cell_type": "markdown",
      "metadata": {
        "id": "yzD_A0XoJxaT"
      },
      "source": [
        "https://towardsdatascience.com/be-careful-when-interpreting-your-features-importance-in-xgboost-6e16132588e7\n",
        "\n",
        "Gain - The relative contribution of the corresponding feature to the model. This is calculated by taking each feature’s contribution for each tree in the model. A higher value of this metric when compared to another feature implies it is more important for generating a prediction.\n",
        "\n",
        "Coverage - The relative number of observations related to this feature. For example, if you have 100 observations, 4 features and 3 trees, and suppose feature1 is used to decide the leaf node for 10, 5, and 2 observations in tree1, tree2 and tree3 respectively; then the metric will count cover for this feature as 10+5+2 = 17 observations. This will be calculated for all the 4 features and the cover will be 17 expressed as a percentage for all features’ cover metrics.\n",
        "\n",
        "Weight - The percentage representing the relative number of times a particular feature occurs in the trees of the model. In the above example, if feature1 occurred in 2 splits, 1 split and 3 splits in each of tree1, tree2 and tree3; then the weight for feature1 will be 2+1+3 = 6. The frequency for feature1 is calculated as its percentage weight over weights of all features."
      ]
    },
    {
      "cell_type": "code",
      "execution_count": null,
      "metadata": {
        "id": "n3ByAb_HGhUQ"
      },
      "outputs": [],
      "source": [
        "importance_types = ['cover', 'gain', 'weight', 'total_gain', 'total_cover']"
      ]
    },
    {
      "cell_type": "code",
      "execution_count": null,
      "metadata": {
        "id": "ipDndrnyLw3R"
      },
      "outputs": [],
      "source": [
        "df = model.get_score(importance_type='cover')\n",
        "df = pd.DataFrame.from_dict(df, orient='index', columns = ['cover'])"
      ]
    },
    {
      "cell_type": "code",
      "execution_count": null,
      "metadata": {
        "id": "ZHAbQxOOOdV3"
      },
      "outputs": [],
      "source": [
        "df = model.get_score(importance_type='gain')\n",
        "df = pd.DataFrame.from_dict(df, orient='index', columns = ['gain'])"
      ]
    }
  ],
  "metadata": {
    "accelerator": "GPU",
    "colab": {
      "collapsed_sections": [
        "0_Lz0gyTjumy",
        "8rX6N4YTs4-U",
        "OPVVjUz5Byxx"
      ],
      "machine_shape": "hm",
      "name": "Train/Test.ipynb",
      "provenance": [],
      "include_colab_link": true
    },
    "gpuClass": "standard",
    "kernelspec": {
      "display_name": "Python 3",
      "language": "python",
      "name": "python3"
    },
    "language_info": {
      "codemirror_mode": {
        "name": "ipython",
        "version": 3
      },
      "file_extension": ".py",
      "mimetype": "text/x-python",
      "name": "python",
      "nbconvert_exporter": "python",
      "pygments_lexer": "ipython3",
      "version": "3.6.4"
    }
  },
  "nbformat": 4,
  "nbformat_minor": 0
}