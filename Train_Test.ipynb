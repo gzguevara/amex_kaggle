{
  "cells": [
    {
      "cell_type": "markdown",
      "metadata": {
        "id": "view-in-github",
        "colab_type": "text"
      },
      "source": [
        "<a href=\"https://colab.research.google.com/github/gzguevara/amex_kaggle/blob/master/Train_Test.ipynb\" target=\"_parent\"><img src=\"https://colab.research.google.com/assets/colab-badge.svg\" alt=\"Open In Colab\"/></a>"
      ]
    },
    {
      "cell_type": "markdown",
      "metadata": {
        "id": "rrb7n4eJF27U"
      },
      "source": [
        "# Import Drive and XGB"
      ]
    },
    {
      "cell_type": "code",
      "execution_count": null,
      "metadata": {
        "colab": {
          "base_uri": "https://localhost:8080/"
        },
        "id": "Han3-fXyTN6j",
        "outputId": "97041a59-efdd-43a2-f4ba-74f6ed977f60"
      },
      "outputs": [
        {
          "output_type": "stream",
          "name": "stdout",
          "text": [
            "Mounted at /content/drive\n",
            "Found existing installation: xgboost 0.90\n",
            "Uninstalling xgboost-0.90:\n",
            "  Would remove:\n",
            "    /usr/local/lib/python3.7/dist-packages/xgboost-0.90.dist-info/*\n",
            "    /usr/local/lib/python3.7/dist-packages/xgboost/*\n",
            "    /usr/local/xgboost/libxgboost.so\n",
            "Proceed (y/n)? y\n",
            "  Successfully uninstalled xgboost-0.90\n",
            "Looking in indexes: https://pypi.org/simple, https://us-python.pkg.dev/colab-wheels/public/simple/\n",
            "Collecting xgboost\n",
            "  Downloading xgboost-1.6.1-py3-none-manylinux2014_x86_64.whl (192.9 MB)\n",
            "\u001b[K     |████████████████████████████████| 192.9 MB 54 kB/s \n",
            "\u001b[?25hRequirement already satisfied: scipy in /usr/local/lib/python3.7/dist-packages (from xgboost) (1.7.3)\n",
            "Requirement already satisfied: numpy in /usr/local/lib/python3.7/dist-packages (from xgboost) (1.21.6)\n",
            "Installing collected packages: xgboost\n",
            "Successfully installed xgboost-1.6.1\n"
          ]
        }
      ],
      "source": [
        "from google.colab import drive\n",
        "drive.mount('/content/drive')\n",
        "\n",
        "!pip uninstall xgboost\n",
        "!pip install xgboost\n",
        "\n",
        "#!pip install import_ipynb\n",
        "#import import_ipynb"
      ]
    },
    {
      "cell_type": "markdown",
      "metadata": {
        "id": "0_Lz0gyTjumy"
      },
      "source": [
        "# Imports"
      ]
    },
    {
      "cell_type": "code",
      "execution_count": null,
      "metadata": {
        "id": "7Fj6oq8fQhsm"
      },
      "outputs": [],
      "source": [
        "import pandas as pd\n",
        "import numpy  as np  \n",
        "import cupy\n",
        "# for cupu memory managmet\n",
        "mempool        = cupy.get_default_memory_pool()\n",
        "pinned_mempool = cupy.get_default_pinned_memory_pool()\n",
        "\n",
        "import xgboost as xgb\n",
        "from sklearn.model_selection import StratifiedKFold\n",
        "from sklearn.model_selection import train_test_split\n",
        "\n",
        "import sys\n",
        "from importlib import reload #test = reload(test)\n",
        "\n",
        "import matplotlib.pyplot as plt, gc, os\n",
        "import plotly.express as px\n",
        "import seaborn as sns\n",
        "\n",
        "import random\n",
        "import itertools\n",
        "\n",
        "# Paths\n",
        "train_dir   = '/content/drive/MyDrive/KaggleAMEX/Data/train.parquet'\n",
        "impor_dir   = '/content/drive/MyDrive/KaggleAMEX/Importance'\n",
        "targets_dir = '/content/drive/MyDrive/KaggleAMEX/Data/train_labels.csv'\n",
        "\n",
        "model_dir   = '/content/drive/MyDrive/KaggleAMEX/Models/freq_1'\n",
        "#Parameters\n",
        "SEED  = 42\n",
        "FOLDS = 5\n",
        "\n",
        "#Get numerical and catecorical columns \n",
        "cat_features = ['B_30', 'B_38', 'D_117', 'D_126', 'D_63', 'D_64', 'D_66', 'D_68', 'R_2', 'S_6', 'R_4', 'R_15', 'S_18', 'D_86', 'D_87', 'B_31', 'R_19', 'B_32', 'S_20', 'R_21', 'R_22', 'R_23', 'D_93', 'D_94', 'R_24', 'R_25', 'D_96', 'D_127', 'R_28', 'B_33', 'D_92', 'D_103', 'R_27', 'D_109', 'D_114', 'D_116', 'D_120', 'D_129', 'D_135', 'D_137', 'D_139', 'D_140', 'D_143']\n",
        "num_features = ['P_2', 'D_39', 'B_1', 'B_2', 'R_1', 'S_3', 'D_41', 'B_3', 'D_42', 'D_43', 'D_44', 'B_4', 'D_45', 'B_5', 'D_46', 'D_47', 'D_48', 'D_49', 'B_6', 'B_7', 'B_8', 'D_50', 'D_51', 'B_9', 'R_3', 'D_52', 'P_3', 'B_10', 'D_53', 'S_5', 'B_11', 'D_54', 'S_7', 'B_12', 'S_8', 'D_55', 'D_56', 'B_13', 'R_5', 'D_58', 'S_9', 'B_14', 'D_59', 'D_60', 'D_61', 'B_15', 'S_11', 'D_62', 'D_65', 'B_16', 'B_17', 'B_18', 'B_19', 'B_20', 'S_12', 'R_6', 'S_13', 'B_21', 'D_69', 'B_22', 'D_70', 'D_71', 'D_72', 'S_15', 'B_23', 'D_73', 'P_4', 'D_74', 'D_75', 'D_76', 'B_24', 'R_7', 'D_77', 'B_25', 'B_26', 'D_78', 'D_79', 'R_8', 'R_9', 'S_16', 'D_80', 'R_10', 'R_11', 'B_27', 'D_81', 'D_82', 'S_17', 'R_12', 'B_28', 'R_13', 'D_83', 'R_14', 'D_84', 'R_16', 'B_29', 'R_17', 'R_18', 'D_88', 'S_19', 'R_20', 'D_89', 'D_91', 'S_22', 'S_23', 'S_24', 'S_25', 'S_26', 'D_102', 'D_104', 'D_105', 'D_106', 'D_107', 'B_36', 'B_37', 'R_26', 'D_108', 'D_110', 'D_111', 'B_39', 'D_112', 'B_40', 'S_27', 'D_113', 'D_115', 'D_118', 'D_119', 'D_121', 'D_122', 'D_123', 'D_124', 'D_125', 'D_128', 'B_41', 'B_42', 'D_130', 'D_131', 'D_132', 'D_133', 'D_134', 'D_136', 'D_138', 'D_141', 'D_142', 'D_144', 'D_145']\n"
      ]
    },
    {
      "cell_type": "markdown",
      "metadata": {
        "id": "juv-r73KS3a_"
      },
      "source": [
        "# Data"
      ]
    },
    {
      "cell_type": "code",
      "execution_count": null,
      "metadata": {
        "colab": {
          "base_uri": "https://localhost:8080/",
          "height": 71
        },
        "id": "2c7g_dnedgTZ",
        "outputId": "b4019d0e-34d5-48d8-c9a7-585b1a47c97e"
      },
      "outputs": [
        {
          "output_type": "execute_result",
          "data": {
            "text/plain": [
              "\"\\nif cus_range == [1]:\\n\\n      features =  [feature for feature in df.columns if 'last' in feature]\\n      features += [feature for feature in df.columns if 'sum_na' in feature] + ['target']\\n      df       =  df.loc[customers, features]\\n    \\n    elif cus_range == [2]:    df = df.loc[customers]\\n    elif cus_range == [3]:    pass\\n    elif cus_range == [4,12]: pass\\n    else: pass\\n\""
            ],
            "application/vnd.google.colaboratory.intrinsic+json": {
              "type": "string"
            }
          },
          "metadata": {},
          "execution_count": 3
        }
      ],
      "source": [
        "'''\n",
        "if cus_range == [1]:\n",
        "\n",
        "      features =  [feature for feature in df.columns if 'last' in feature]\n",
        "      features += [feature for feature in df.columns if 'sum_na' in feature] + ['target']\n",
        "      df       =  df.loc[customers, features]\n",
        "    \n",
        "    elif cus_range == [2]:    df = df.loc[customers]\n",
        "    elif cus_range == [3]:    pass\n",
        "    elif cus_range == [4,12]: pass\n",
        "    else: pass\n",
        "'''"
      ]
    },
    {
      "cell_type": "code",
      "execution_count": null,
      "metadata": {
        "id": "crYzLkbkPWsP"
      },
      "outputs": [],
      "source": [
        "def process_and_feature_engineer(cus_range):\n",
        "\n",
        "    # 13\n",
        "    frequency = pd.read_csv('/content/drive/MyDrive/KaggleAMEX/Data/frequency.csv', index_col=0)\n",
        "    customers = frequency.loc[frequency.frequency.isin(cus_range)].index.values\n",
        "    \n",
        "    # num - mean, std, min, max, last, first  cat - last, unique\n",
        "    dir = '/content/drive/MyDrive/KaggleAMEX/Data/base_variables.parquet'\n",
        "    df  = pd.read_parquet(dir)\n",
        "    df  = df.loc[customers]\n",
        "    # replace categorial\n",
        "    dir = '/content/drive/MyDrive/KaggleAMEX/Data/base_variables_cat_woe.parquet'\n",
        "    new = pd.read_parquet(dir)\n",
        "    new = new.loc[customers]\n",
        "    df[new.columns] = new\n",
        "    print('Done base', df.shape)\n",
        "    \n",
        "    # Payment variables\n",
        "    dir = '/content/drive/MyDrive/KaggleAMEX/Data/payment_variables.parquet'\n",
        "    new = pd.read_parquet(dir)\n",
        "    new = new.loc[customers]\n",
        "    df  = pd.concat([new, df], axis=1)\n",
        "    print('Done payment variables', df.shape)\n",
        "    \n",
        "    # Risk variables \n",
        "    dir = '/content/drive/MyDrive/KaggleAMEX/Data/risk_variables.parquet'\n",
        "    new = pd.read_parquet(dir)\n",
        "    new = new.loc[customers]\n",
        "    df  = pd.concat([new, df], axis=1)\n",
        "    print('Done risk variables', df.shape)\n",
        "    \n",
        "    # Spend variables \n",
        "    dir = '/content/drive/MyDrive/KaggleAMEX/Data/spend_variables.parquet'\n",
        "    new = pd.read_parquet(dir)\n",
        "    new = new.loc[customers]\n",
        "    df  = pd.concat([new, df], axis=1)\n",
        "    print('Done spend variables', df.shape)\n",
        "    \n",
        "    # Balance variables \n",
        "    dir = '/content/drive/MyDrive/KaggleAMEX/Data/balance_features.parquet'\n",
        "    new = pd.read_parquet(dir)\n",
        "    new = new.loc[customers]\n",
        "    df  = pd.concat([new, df], axis=1)\n",
        "    print('Done balance variables', df.shape)\n",
        "    \n",
        "    # Delinquency variables \n",
        "    dir = '/content/drive/MyDrive/KaggleAMEX/Data/delinquency_features.parquet'\n",
        "    new = pd.read_parquet(dir)\n",
        "    new = new.loc[customers]\n",
        "    df  = pd.concat([new, df], axis=1)\n",
        "    print('Done delinquency variables', df.shape)\n",
        "    \n",
        "    # count na values\n",
        "    dir = '/content/drive/MyDrive/KaggleAMEX/Data/na_dummies.parquet'\n",
        "    new = pd.read_parquet(dir)\n",
        "    new = new.loc[customers]\n",
        "    df  = pd.concat([new, df], axis=1)\n",
        "    print('Done count na variables', df.shape)\n",
        "    \n",
        "    # category changes for cat vars\n",
        "    dir = '/content/drive/MyDrive/KaggleAMEX/Data/cat_changes.parquet'\n",
        "    new = pd.read_parquet(dir)\n",
        "    new = new.loc[customers]\n",
        "    df  = pd.concat([new, df], axis=1)\n",
        "    print('Done cat change variables', df.shape)\n",
        "\n",
        "    # 'last' - 'mean' \n",
        "    dir = '/content/drive/MyDrive/KaggleAMEX/Data/last_m_mean.parquet'\n",
        "    new = pd.read_parquet(dir)\n",
        "    new = new.loc[customers]\n",
        "    df  = pd.concat([new, df], axis=1)\n",
        "    print('Done last - mean variables', df.shape)\n",
        "    \n",
        "    # First difference of last values \n",
        "    dir = '/content/drive/MyDrive/KaggleAMEX/Data/first_diff.parquet'\n",
        "    new = pd.read_parquet(dir)\n",
        "    new = new.loc[customers]\n",
        "    df  = pd.concat([new, df], axis=1)\n",
        "    print('Done diff_1 variables', df.shape)\n",
        "    \n",
        "    '''\n",
        "    # Second difference of last values \n",
        "    dir = '/content/drive/MyDrive/KaggleAMEX/Data/second_diff.parquet'\n",
        "    new = pd.read_parquet(dir) \n",
        "    df  = pd.concat([new, df], axis=1).reset_index(drop=True)\n",
        "\n",
        "    # numerical 'last' - 'first'\n",
        "    dir = '/content/drive/MyDrive/KaggleAMEX/Data/first_last.parquet'\n",
        "    new = pd.read_parquet(dir)\n",
        "    df  = pd.concat([new, df], axis=1).reset_index(drop=True)\n",
        "    '''\n",
        "\n",
        "    # Add targets\n",
        "    targets      = pd.read_csv(targets_dir, usecols = ['target']).astype('int8')\n",
        "    df['target'] = targets.loc[customers]\n",
        "\n",
        "    # Reset index\n",
        "    df.reset_index(drop=True, inplace=True)\n",
        "\n",
        "    return df"
      ]
    },
    {
      "cell_type": "markdown",
      "metadata": {
        "id": "2KOqHWr4Qhso"
      },
      "source": [
        "# Read & Transform Data "
      ]
    },
    {
      "cell_type": "code",
      "execution_count": null,
      "metadata": {
        "colab": {
          "base_uri": "https://localhost:8080/"
        },
        "id": "sNhMjOowI7P2",
        "outputId": "41dd9db1-b280-490b-ec86-f07d41af77c5"
      },
      "outputs": [
        {
          "output_type": "stream",
          "name": "stdout",
          "text": [
            "Done base (6098, 957)\n",
            "Done payment variables (6098, 1050)\n",
            "Done risk variables (6098, 1110)\n",
            "Done spend variables (6098, 1310)\n",
            "Done balance variables (6098, 1743)\n",
            "Done delinquency variables (6098, 2055)\n",
            "Done count na variables (6098, 2244)\n",
            "Done cat change variables (6098, 2287)\n",
            "Done last - mean variables (6098, 2432)\n",
            "Done diff_1 variables (6098, 2578)\n"
          ]
        }
      ],
      "source": [
        "train = process_and_feature_engineer([2])"
      ]
    },
    {
      "cell_type": "code",
      "execution_count": null,
      "metadata": {
        "colab": {
          "base_uri": "https://localhost:8080/"
        },
        "id": "HgGfmedfVOSG",
        "outputId": "5df58b2c-9a14-475f-d5d4-9c67f3b060d0"
      },
      "outputs": [
        {
          "output_type": "stream",
          "name": "stdout",
          "text": [
            "118\n"
          ]
        }
      ],
      "source": [
        "# drop cold with only one value\n",
        "to_drop = [col for col in train.columns if len(train[col].unique()) == 1]\n",
        "print(len(to_drop))\n",
        "train.drop(to_drop, axis=1, inplace=True)"
      ]
    },
    {
      "cell_type": "code",
      "source": [
        "features = pd.read_csv('/content/drive/MyDrive/KaggleAMEX/Models/freq_2/features.csv', index_col=0)"
      ],
      "metadata": {
        "id": "7sdLT5INDnKT"
      },
      "execution_count": null,
      "outputs": []
    },
    {
      "cell_type": "code",
      "source": [
        "train = train[list(features.index.values[:-1]) + ['target']]"
      ],
      "metadata": {
        "id": "-pdlgYS4Dy_K"
      },
      "execution_count": null,
      "outputs": []
    },
    {
      "cell_type": "code",
      "source": [
        "params = pd.read_csv('/content/drive/MyDrive/KaggleAMEX/Models/freq_2/parameters.csv', index_col=0)"
      ],
      "metadata": {
        "id": "4I7xGkP1EQng"
      },
      "execution_count": null,
      "outputs": []
    },
    {
      "cell_type": "code",
      "source": [
        "params.to_dict()['0']"
      ],
      "metadata": {
        "colab": {
          "base_uri": "https://localhost:8080/"
        },
        "id": "Vy5hrEUpEX_z",
        "outputId": "9b96a0e0-225c-4b11-c24b-8fe14bfd1172"
      },
      "execution_count": null,
      "outputs": [
        {
          "output_type": "execute_result",
          "data": {
            "text/plain": [
              "{'alpha': '1',\n",
              " 'booster': 'gbtree',\n",
              " 'colsample_bylevel': '0.8',\n",
              " 'colsample_bynode': '0.7',\n",
              " 'colsample_bytree': '0.8',\n",
              " 'gamma': '0.5',\n",
              " 'lambda': '2.8',\n",
              " 'learning_rate': '0.012',\n",
              " 'max_bin': '180',\n",
              " 'max_depth': '30',\n",
              " 'max_leaves': '30',\n",
              " 'min_child_weight': '2',\n",
              " 'objective': 'binary:logistic',\n",
              " 'predictor': 'gpu_predictor',\n",
              " 'sampling_method': 'gradient_based',\n",
              " 'scale_pos_weight': '1.5',\n",
              " 'seed': '42',\n",
              " 'subsample': '0.6',\n",
              " 'tree_method': 'gpu_hist'}"
            ]
          },
          "metadata": {},
          "execution_count": 25
        }
      ]
    },
    {
      "cell_type": "markdown",
      "metadata": {
        "id": "iqSKKYASQhsv"
      },
      "source": [
        "# Extreme Gradient Boost"
      ]
    },
    {
      "cell_type": "markdown",
      "metadata": {
        "id": "8rX6N4YTs4-U"
      },
      "source": [
        "## Custom metric"
      ]
    },
    {
      "cell_type": "code",
      "execution_count": null,
      "metadata": {
        "id": "MeDwbg2Os4tb"
      },
      "outputs": [],
      "source": [
        "# This is the metric given by rules\n",
        "def amex_metric_mod(y_true, y_pred):\n",
        "\n",
        "    labels     = np.transpose(np.array([y_true, y_pred]))\n",
        "    labels     = labels[labels[:, 1].argsort()[::-1]]\n",
        "    weights    = np.where(labels[:,0]==0, 20, 1)\n",
        "    cut_vals   = labels[np.cumsum(weights) <= int(0.04 * np.sum(weights))]\n",
        "    top_four   = np.sum(cut_vals[:,0]) / np.sum(labels[:,0])\n",
        "\n",
        "    gini = [0,0]\n",
        "    for i in [1,0]:\n",
        "        labels         = np.transpose(np.array([y_true, y_pred]))\n",
        "        labels         = labels[labels[:, i].argsort()[::-1]]\n",
        "        weight         = np.where(labels[:,0]==0, 20, 1)\n",
        "        weight_random  = np.cumsum(weight / np.sum(weight))\n",
        "        total_pos      = np.sum(labels[:, 0] *  weight)\n",
        "        cum_pos_found  = np.cumsum(labels[:, 0] * weight)\n",
        "        lorentz        = cum_pos_found / total_pos\n",
        "        gini[i]        = np.sum((lorentz - weight_random) * weight)\n",
        "\n",
        "\n",
        "    return 0.5 * (gini[1]/gini[0] + top_four)\n",
        "    \n",
        "\n",
        "# Metric for XGB\n",
        "def xgboost_amex_metric_mod(predt: np.ndarray, dtrain: xgb.DMatrix):\n",
        "    y = dtrain.get_label()\n",
        "    return 'AMEXcustom', 1-amex_metric_mod(y, predt)\n",
        "\n",
        "def permutation_importance(train, valid_idx, features, model, kag_mets):\n",
        "\n",
        "    # Permutation importance\n",
        "    x_test  = train.loc[valid_idx, features]\n",
        "    y_test  = train.loc[valid_idx, 'target']\n",
        "    metrics = []\n",
        "\n",
        "    for column, feature in enumerate(features):\n",
        "\n",
        "          #Save original feature\n",
        "          original_feature = x_test[feature].copy()\n",
        "          metric = []\n",
        "\n",
        "          for i in range(2):\n",
        "\n",
        "              # Shuffel\n",
        "              x_test[feature] = np.random.permutation(original_feature)\n",
        "\n",
        "              #Build DMatrix\n",
        "              dvalid = xgb.DeviceQuantileDMatrix(data=cupy.array(x_test), label=y_test)\n",
        "              \n",
        "              #Predict\n",
        "              preds  = model.predict(dvalid, iteration_range=(0, model.best_iteration + 1))\n",
        "              metric.append(kag_mets - amex_metric_mod(y_test, preds))\n",
        "\n",
        "          metrics.append(np.mean(metric))\n",
        "\n",
        "          #Rebuild data\n",
        "          x_test[feature] = original_feature\n",
        "    \n",
        "    return metrics"
      ]
    },
    {
      "cell_type": "markdown",
      "metadata": {
        "id": "wP8vVxNQs3CR"
      },
      "source": [
        "## Grid Search & Permutation Importance"
      ]
    },
    {
      "cell_type": "code",
      "execution_count": null,
      "metadata": {
        "colab": {
          "base_uri": "https://localhost:8080/"
        },
        "id": "wZ4A0OlhDfdw",
        "outputId": "8839c7bf-3dc2-4a42-b1b7-cbfe5e20ab36"
      },
      "outputs": [
        {
          "output_type": "stream",
          "name": "stdout",
          "text": [
            "There are 200 different Models. \n",
            " \n",
            "\n"
          ]
        }
      ],
      "source": [
        "learning_rate     = [0.011, 0.012, 0.013]          \n",
        "gamma             = [0.4, 0.5, 0.6]              \n",
        "max_depth         = [28, 30, 32]             \n",
        "min_child_weight  = [1.9, 2, 2.1]             \n",
        "max_leaves        = [28, 30, 32]             \n",
        "max_bin           = [170, 180, 190]               \n",
        "\n",
        "subsample         = [0.5, 0.6]            \n",
        "sampling_method   = ['gradient_based']      \n",
        "\n",
        "colsample_bytree  = [0.8]             \n",
        "colsample_bylevel = [0.8]              \n",
        "colsample_bynode  = [0.6, 0.7]              \n",
        "                   \n",
        "alpha             = [0.9, 1, 1.1]             \n",
        "lambda_           = [2.7, 2.8, 2.9]             \n",
        "\n",
        "scale_pos_weight  = [1.45, 1.5, 1.55]              \n",
        "\n",
        "tree_method       = ['gpu_hist']        \n",
        "objective         = ['binary:logistic']\n",
        "predictor         = ['gpu_predictor']\n",
        "booster           = ['dart']\n",
        "seed              = [22,42,11]\n",
        "sample_type       = ['uniform', 'weighted']\n",
        "normalize_type    = ['tree', 'forest']\n",
        "rate_drop         = [0.1, 0.2, 0.3]\n",
        "skip_drop         = [0.5, 0.6, 0.7]\n",
        "\n",
        "# Get Grids for xgb\n",
        "hyper_parms = ['learning_rate', 'gamma', 'max_depth', 'min_child_weight', 'subsample', 'sampling_method', 'colsample_bytree', 'colsample_bylevel', 'colsample_bynode', 'lambda', 'alpha', 'scale_pos_weight', 'max_leaves', 'max_bin', 'tree_method', 'objective', 'predictor', 'seed', 'booster', 'sample_type', 'normalize_type', 'rate_drop', 'skip_drop']\n",
        "variants    = list(itertools.product(learning_rate, gamma, max_depth, min_child_weight, subsample, sampling_method, colsample_bytree, colsample_bylevel, colsample_bynode, lambda_, alpha, scale_pos_weight, max_leaves, max_bin, tree_method, objective, predictor, seed, booster, sample_type, normalize_type, rate_drop, skip_drop))\n",
        "xgb_grid    = [dict(zip(hyper_parms, variant)) for variant in variants]\n",
        "random.shuffle(xgb_grid)\n",
        "random.shuffle(xgb_grid)\n",
        "xgb_grid = xgb_grid[:200]\n",
        "\n",
        "print(f'There are {len(xgb_grid)} different Models.', '\\n', '\\n')"
      ]
    },
    {
      "cell_type": "code",
      "execution_count": null,
      "metadata": {
        "colab": {
          "base_uri": "https://localhost:8080/"
        },
        "id": "iMAdr01JQhsw",
        "scrolled": true,
        "outputId": "635104dd-1389-4422-a424-5ec98da295a9"
      },
      "outputs": [
        {
          "output_type": "stream",
          "name": "stdout",
          "text": [
            "############### Model 0 Fold 0 ##################\n",
            "##################################################\n",
            "[0]\tvalid-logloss:0.68842\tvalid-AMEXcustom:0.52791\n",
            "[500]\tvalid-logloss:0.38589\tvalid-AMEXcustom:0.38217\n",
            "[648]\tvalid-logloss:0.37891\tvalid-AMEXcustom:0.38146\n",
            "Metric = 0.6285683595570538, Best = nan \n",
            "\n",
            "############### Model 0 Fold 1 ##################\n",
            "##################################################\n",
            "[0]\tvalid-logloss:0.68861\tvalid-AMEXcustom:0.56074\n",
            "[500]\tvalid-logloss:0.39239\tvalid-AMEXcustom:0.42526\n",
            "[1000]\tvalid-logloss:0.38404\tvalid-AMEXcustom:0.39178\n",
            "[1267]\tvalid-logloss:0.38524\tvalid-AMEXcustom:0.40346\n",
            "Metric = 0.6133459478722374, Best = nan \n",
            "\n",
            "############### Model 0 Fold 2 ##################\n",
            "##################################################\n",
            "[0]\tvalid-logloss:0.68873\tvalid-AMEXcustom:0.63992\n",
            "[500]\tvalid-logloss:0.39914\tvalid-AMEXcustom:0.43596\n",
            "[1000]\tvalid-logloss:0.39163\tvalid-AMEXcustom:0.42665\n",
            "[1164]\tvalid-logloss:0.39210\tvalid-AMEXcustom:0.42790\n",
            "Metric = 0.5781683537759641, Best = nan \n",
            "\n",
            "############### Model 0 Fold 3 ##################\n",
            "##################################################\n",
            "[0]\tvalid-logloss:0.68860\tvalid-AMEXcustom:0.51891\n",
            "[500]\tvalid-logloss:0.37684\tvalid-AMEXcustom:0.36466\n",
            "[1000]\tvalid-logloss:0.35851\tvalid-AMEXcustom:0.35325\n",
            "[1209]\tvalid-logloss:0.35671\tvalid-AMEXcustom:0.36070\n",
            "Metric = 0.6481386908900677, Best = nan \n",
            "\n",
            "############### Model 0 Fold 4 ##################\n",
            "##################################################\n",
            "[0]\tvalid-logloss:0.68824\tvalid-AMEXcustom:0.51592\n",
            "[378]\tvalid-logloss:0.38049\tvalid-AMEXcustom:0.38104\n",
            "Metric = 0.6248594253234646, Best = nan \n",
            "\n",
            "avg: 0.6186161554837576, Max: 0.6186161554837576\n",
            "oof: 0.5926845134811832, Max: 0.5926845134811832 \n",
            " \n",
            " \n",
            "\n",
            "############### Model 1 Fold 0 ##################\n",
            "##################################################\n",
            "[0]\tvalid-logloss:0.68849\tvalid-AMEXcustom:0.52969\n",
            "[500]\tvalid-logloss:0.38458\tvalid-AMEXcustom:0.38605\n",
            "[883]\tvalid-logloss:0.37137\tvalid-AMEXcustom:0.37358\n",
            "Metric = 0.6322939954118234, Best = 0.6322939954118234 \n",
            "\n",
            "############### Model 1 Fold 1 ##################\n",
            "##################################################\n",
            "[0]\tvalid-logloss:0.68858\tvalid-AMEXcustom:0.57163\n",
            "[500]\tvalid-logloss:0.39233\tvalid-AMEXcustom:0.43525\n",
            "[1000]\tvalid-logloss:0.38451\tvalid-AMEXcustom:0.40418\n",
            "[1500]\tvalid-logloss:0.38713\tvalid-AMEXcustom:0.39976\n",
            "[1538]\tvalid-logloss:0.38773\tvalid-AMEXcustom:0.39597\n",
            "Metric = 0.6108433921392449, Best = 0.6133459478722374 \n",
            "\n",
            "############### Model 1 Fold 2 ##################\n",
            "##################################################\n",
            "[0]\tvalid-logloss:0.68889\tvalid-AMEXcustom:0.58629\n",
            "[500]\tvalid-logloss:0.39916\tvalid-AMEXcustom:0.44686\n",
            "[845]\tvalid-logloss:0.39178\tvalid-AMEXcustom:0.43815\n",
            "Metric = 0.5641266617030822, Best = 0.5781683537759641 \n",
            "\n",
            "############### Model 1 Fold 3 ##################\n",
            "##################################################\n",
            "[0]\tvalid-logloss:0.68864\tvalid-AMEXcustom:0.60451\n",
            "[500]\tvalid-logloss:0.37681\tvalid-AMEXcustom:0.37556\n",
            "[1000]\tvalid-logloss:0.35857\tvalid-AMEXcustom:0.35471\n",
            "[1135]\tvalid-logloss:0.35792\tvalid-AMEXcustom:0.35744\n",
            "Metric = 0.6551782493400968, Best = 0.6551782493400968 \n",
            "\n",
            "############### Model 1 Fold 4 ##################\n",
            "##################################################\n",
            "[0]\tvalid-logloss:0.68821\tvalid-AMEXcustom:0.49616\n",
            "[500]\tvalid-logloss:0.36647\tvalid-AMEXcustom:0.37861\n",
            "[532]\tvalid-logloss:0.36393\tvalid-AMEXcustom:0.37946\n",
            "Metric = 0.6232722387444041, Best = 0.6248594253234646 \n",
            "\n",
            "avg: 0.6171429074677303, Max: 0.6186161554837576\n",
            "oof: 0.6051187861572551, Max: 0.6051187861572551 \n",
            " \n",
            " \n",
            "\n",
            "############### Model 2 Fold 0 ##################\n",
            "##################################################\n",
            "[0]\tvalid-logloss:0.68863\tvalid-AMEXcustom:0.59576\n",
            "[500]\tvalid-logloss:0.38793\tvalid-AMEXcustom:0.38334\n",
            "[686]\tvalid-logloss:0.38190\tvalid-AMEXcustom:0.38292\n",
            "Metric = 0.6246441934787519, Best = 0.6322939954118234 \n",
            "\n",
            "############### Model 2 Fold 1 ##################\n",
            "##################################################\n",
            "[0]\tvalid-logloss:0.68821\tvalid-AMEXcustom:0.55311\n",
            "[500]\tvalid-logloss:0.39429\tvalid-AMEXcustom:0.43252\n",
            "[1000]\tvalid-logloss:0.38731\tvalid-AMEXcustom:0.42284\n",
            "[1127]\tvalid-logloss:0.38603\tvalid-AMEXcustom:0.42474\n",
            "Metric = 0.5820890423957451, Best = 0.6133459478722374 \n",
            "\n",
            "############### Model 3 Fold 0 ##################\n",
            "##################################################\n",
            "[0]\tvalid-logloss:0.68847\tvalid-AMEXcustom:0.54710\n",
            "[500]\tvalid-logloss:0.38855\tvalid-AMEXcustom:0.39120\n",
            "[759]\tvalid-logloss:0.37749\tvalid-AMEXcustom:0.38270\n",
            "Metric = 0.6214973479935089, Best = 0.6322939954118234 \n",
            "\n",
            "############### Model 3 Fold 1 ##################\n",
            "##################################################\n",
            "[0]\tvalid-logloss:0.68865\tvalid-AMEXcustom:0.57079\n",
            "[500]\tvalid-logloss:0.39477\tvalid-AMEXcustom:0.43126\n",
            "[1000]\tvalid-logloss:0.38448\tvalid-AMEXcustom:0.41183\n",
            "[1500]\tvalid-logloss:0.38458\tvalid-AMEXcustom:0.40174\n",
            "[1901]\tvalid-logloss:0.38712\tvalid-AMEXcustom:0.41195\n",
            "Metric = 0.6011180591876946, Best = 0.6133459478722374 \n",
            "\n",
            "############### Model 3 Fold 2 ##################\n",
            "##################################################\n",
            "[0]\tvalid-logloss:0.68884\tvalid-AMEXcustom:0.64130\n",
            "[500]\tvalid-logloss:0.40138\tvalid-AMEXcustom:0.44962\n",
            "[1000]\tvalid-logloss:0.39065\tvalid-AMEXcustom:0.42945\n",
            "[1387]\tvalid-logloss:0.38974\tvalid-AMEXcustom:0.42297\n",
            "Metric = 0.5818931176048676, Best = 0.5818931176048676 \n",
            "\n",
            "############### Model 3 Fold 3 ##################\n",
            "##################################################\n",
            "[0]\tvalid-logloss:0.68863\tvalid-AMEXcustom:0.53058\n",
            "[500]\tvalid-logloss:0.38227\tvalid-AMEXcustom:0.37794\n",
            "[1000]\tvalid-logloss:0.36243\tvalid-AMEXcustom:0.36128\n",
            "[1235]\tvalid-logloss:0.35961\tvalid-AMEXcustom:0.36181\n",
            "Metric = 0.6440213227911316, Best = 0.6551782493400968 \n",
            "\n",
            "############### Model 3 Fold 4 ##################\n",
            "##################################################\n",
            "[0]\tvalid-logloss:0.68842\tvalid-AMEXcustom:0.54412\n",
            "[351]\tvalid-logloss:0.38758\tvalid-AMEXcustom:0.39189\n",
            "Metric = 0.6278123235493964, Best = 0.6278123235493964 \n",
            "\n",
            "avg: 0.6152684342253198, Max: 0.6186161554837576\n",
            "oof: 0.5801048255053151, Max: 0.6051187861572551 \n",
            " \n",
            " \n",
            "\n",
            "############### Model 4 Fold 0 ##################\n",
            "##################################################\n",
            "[0]\tvalid-logloss:0.68849\tvalid-AMEXcustom:0.56756\n",
            "[500]\tvalid-logloss:0.37703\tvalid-AMEXcustom:0.38290\n",
            "[1000]\tvalid-logloss:0.36927\tvalid-AMEXcustom:0.36825\n",
            "[1251]\tvalid-logloss:0.36867\tvalid-AMEXcustom:0.37182\n",
            "Metric = 0.6358463251205395, Best = 0.6358463251205395 \n",
            "\n",
            "############### Model 4 Fold 1 ##################\n",
            "##################################################\n",
            "[0]\tvalid-logloss:0.68869\tvalid-AMEXcustom:0.56219\n",
            "[500]\tvalid-logloss:0.38873\tvalid-AMEXcustom:0.42790\n",
            "[1000]\tvalid-logloss:0.38273\tvalid-AMEXcustom:0.38882\n",
            "[1229]\tvalid-logloss:0.38245\tvalid-AMEXcustom:0.40108\n",
            "Metric = 0.612670703479546, Best = 0.6133459478722374 \n",
            "\n",
            "############### Model 4 Fold 2 ##################\n",
            "##################################################\n",
            "[0]\tvalid-logloss:0.68884\tvalid-AMEXcustom:0.62363\n",
            "[500]\tvalid-logloss:0.39411\tvalid-AMEXcustom:0.44138\n",
            "[1000]\tvalid-logloss:0.38823\tvalid-AMEXcustom:0.42096\n",
            "[1460]\tvalid-logloss:0.38891\tvalid-AMEXcustom:0.42520\n",
            "Metric = 0.5840252964893495, Best = 0.5840252964893495 \n",
            "\n",
            "############### Model 4 Fold 3 ##################\n",
            "##################################################\n",
            "[0]\tvalid-logloss:0.68873\tvalid-AMEXcustom:0.53455\n",
            "[500]\tvalid-logloss:0.36818\tvalid-AMEXcustom:0.37867\n",
            "[829]\tvalid-logloss:0.35748\tvalid-AMEXcustom:0.35762\n",
            "Metric = 0.6470178089200576, Best = 0.6551782493400968 \n",
            "\n",
            "############### Model 4 Fold 4 ##################\n",
            "##################################################\n",
            "[0]\tvalid-logloss:0.68846\tvalid-AMEXcustom:0.52294\n",
            "[405]\tvalid-logloss:0.36563\tvalid-AMEXcustom:0.38568\n",
            "Metric = 0.6242287817866357, Best = 0.6278123235493964 \n",
            "\n",
            "avg: 0.6207577831592257, Max: 0.6207577831592257\n",
            "oof: 0.6012145332361788, Max: 0.6051187861572551 \n",
            " \n",
            " \n",
            "\n",
            "############### Model 5 Fold 0 ##################\n",
            "##################################################\n",
            "[0]\tvalid-logloss:0.68835\tvalid-AMEXcustom:0.56397\n",
            "[500]\tvalid-logloss:0.38448\tvalid-AMEXcustom:0.39435\n",
            "[528]\tvalid-logloss:0.38308\tvalid-AMEXcustom:0.39377\n",
            "Metric = 0.6128469981940005, Best = 0.6358463251205395 \n",
            "\n",
            "############### Model 6 Fold 0 ##################\n",
            "##################################################\n",
            "[0]\tvalid-logloss:0.68775\tvalid-AMEXcustom:0.54473\n",
            "[500]\tvalid-logloss:0.37791\tvalid-AMEXcustom:0.38709\n",
            "[989]\tvalid-logloss:0.36932\tvalid-AMEXcustom:0.38382\n",
            "Metric = 0.6265857520645435, Best = 0.6358463251205395 \n",
            "\n",
            "############### Model 6 Fold 1 ##################\n",
            "##################################################\n",
            "[0]\tvalid-logloss:0.68726\tvalid-AMEXcustom:0.54630\n",
            "[500]\tvalid-logloss:0.38825\tvalid-AMEXcustom:0.43245\n",
            "[1000]\tvalid-logloss:0.38340\tvalid-AMEXcustom:0.41196\n",
            "[1221]\tvalid-logloss:0.38368\tvalid-AMEXcustom:0.41958\n",
            "Metric = 0.5867501751784254, Best = 0.6133459478722374 \n",
            "\n",
            "############### Model 7 Fold 0 ##################\n",
            "##################################################\n",
            "[0]\tvalid-logloss:0.68802\tvalid-AMEXcustom:0.53568\n",
            "[500]\tvalid-logloss:0.37286\tvalid-AMEXcustom:0.36790\n",
            "[1000]\tvalid-logloss:0.36593\tvalid-AMEXcustom:0.35761\n",
            "[1174]\tvalid-logloss:0.36691\tvalid-AMEXcustom:0.36023\n",
            "Metric = 0.646243573837942, Best = 0.646243573837942 \n",
            "\n",
            "############### Model 7 Fold 1 ##################\n",
            "##################################################\n",
            "[0]\tvalid-logloss:0.68807\tvalid-AMEXcustom:0.55179\n",
            "[500]\tvalid-logloss:0.38712\tvalid-AMEXcustom:0.40764\n",
            "[877]\tvalid-logloss:0.38472\tvalid-AMEXcustom:0.40266\n",
            "Metric = 0.6046273566954445, Best = 0.6133459478722374 \n",
            "\n",
            "############### Model 7 Fold 2 ##################\n",
            "##################################################\n",
            "[0]\tvalid-logloss:0.68846\tvalid-AMEXcustom:0.59246\n",
            "[500]\tvalid-logloss:0.39169\tvalid-AMEXcustom:0.43751\n",
            "[1000]\tvalid-logloss:0.38696\tvalid-AMEXcustom:0.42445\n",
            "[1500]\tvalid-logloss:0.38977\tvalid-AMEXcustom:0.41712\n",
            "[1810]\tvalid-logloss:0.39318\tvalid-AMEXcustom:0.41828\n",
            "Metric = 0.5856813374158563, Best = 0.5856813374158563 \n",
            "\n",
            "############### Model 7 Fold 3 ##################\n",
            "##################################################\n",
            "[0]\tvalid-logloss:0.68828\tvalid-AMEXcustom:0.59698\n",
            "[500]\tvalid-logloss:0.36600\tvalid-AMEXcustom:0.36356\n",
            "[750]\tvalid-logloss:0.35892\tvalid-AMEXcustom:0.35818\n",
            "Metric = 0.6471979991149113, Best = 0.6551782493400968 \n",
            "\n",
            "############### Model 7 Fold 4 ##################\n",
            "##################################################\n",
            "[0]\tvalid-logloss:0.68770\tvalid-AMEXcustom:0.50284\n",
            "[233]\tvalid-logloss:0.38265\tvalid-AMEXcustom:0.37996\n",
            "Metric = 0.6256607215554453, Best = 0.6278123235493964 \n",
            "\n",
            "avg: 0.6218821977239198, Max: 0.6218821977239198\n",
            "oof: 0.5685963946128396, Max: 0.6051187861572551 \n",
            " \n",
            " \n",
            "\n",
            "############### Model 8 Fold 0 ##################\n",
            "##################################################\n",
            "[0]\tvalid-logloss:0.68794\tvalid-AMEXcustom:0.57585\n",
            "[500]\tvalid-logloss:0.38912\tvalid-AMEXcustom:0.38893\n",
            "[879]\tvalid-logloss:0.37596\tvalid-AMEXcustom:0.38131\n",
            "Metric = 0.6236094707307931, Best = 0.646243573837942 \n",
            "\n",
            "############### Model 9 Fold 0 ##################\n",
            "##################################################\n",
            "[0]\tvalid-logloss:0.68828\tvalid-AMEXcustom:0.52887\n",
            "[500]\tvalid-logloss:0.38566\tvalid-AMEXcustom:0.38621\n",
            "[1000]\tvalid-logloss:0.37701\tvalid-AMEXcustom:0.37230\n",
            "[1395]\tvalid-logloss:0.37645\tvalid-AMEXcustom:0.38379\n",
            "Metric = 0.6324426492115149, Best = 0.646243573837942 \n",
            "\n",
            "############### Model 9 Fold 1 ##################\n",
            "##################################################\n",
            "[0]\tvalid-logloss:0.68848\tvalid-AMEXcustom:0.56496\n",
            "[500]\tvalid-logloss:0.39262\tvalid-AMEXcustom:0.43218\n",
            "[1000]\tvalid-logloss:0.38438\tvalid-AMEXcustom:0.40808\n",
            "[1500]\tvalid-logloss:0.38307\tvalid-AMEXcustom:0.40618\n",
            "[1559]\tvalid-logloss:0.38299\tvalid-AMEXcustom:0.40344\n",
            "Metric = 0.6000310282774501, Best = 0.6133459478722374 \n",
            "\n",
            "############### Model 9 Fold 2 ##################\n",
            "##################################################\n",
            "[0]\tvalid-logloss:0.68874\tvalid-AMEXcustom:0.57255\n",
            "[500]\tvalid-logloss:0.39713\tvalid-AMEXcustom:0.43617\n",
            "[635]\tvalid-logloss:0.39392\tvalid-AMEXcustom:0.43735\n",
            "Metric = 0.5671522235013355, Best = 0.5856813374158563 \n",
            "\n",
            "############### Model 10 Fold 0 ##################\n",
            "##################################################\n",
            "[0]\tvalid-logloss:0.68777\tvalid-AMEXcustom:0.58594\n",
            "[372]\tvalid-logloss:0.40100\tvalid-AMEXcustom:0.39838\n",
            "Metric = 0.6034383430694303, Best = 0.646243573837942 \n",
            "\n",
            "############### Model 11 Fold 0 ##################\n",
            "##################################################\n",
            "[0]\tvalid-logloss:0.68872\tvalid-AMEXcustom:0.54309\n",
            "[500]\tvalid-logloss:0.38958\tvalid-AMEXcustom:0.37845\n",
            "[881]\tvalid-logloss:0.38199\tvalid-AMEXcustom:0.36910\n",
            "Metric = 0.6354966944577095, Best = 0.646243573837942 \n",
            "\n",
            "############### Model 11 Fold 1 ##################\n",
            "##################################################\n",
            "[0]\tvalid-logloss:0.68856\tvalid-AMEXcustom:0.57250\n"
          ]
        }
      ],
      "source": [
        "# Out-of-fold predictions and feature importances\n",
        "oof_cols    = [f'fold_{i}' for i in range(FOLDS)] + ['avg', 'oof']\n",
        "oof         = pd.DataFrame(columns = oof_cols)\n",
        "importances = pd.DataFrame()\n",
        "premu_imp   = pd.DataFrame(index = train.columns[:-1])\n",
        "\n",
        "for model_num, xgb_parms in enumerate(xgb_grid):\n",
        "\n",
        "    kag_mets         = []\n",
        "    oof_model        = pd.DataFrame() \n",
        "    importance_model = pd.DataFrame(index = [f'f{num}' for num in range(train.shape[1]-1)])\n",
        "\n",
        "    skf = StratifiedKFold(n_splits=FOLDS, shuffle=True, random_state=SEED)\n",
        "    for fold, (train_idx, valid_idx) in enumerate(skf.split(train, train.target)):\n",
        "        \n",
        "        print(f'############### Model {model_num} Fold {fold} ##################')\n",
        "        print('##################################################')\n",
        "        \n",
        "        # Train and valid set for given fold       \n",
        "        x_valid = cupy.array(train.loc[valid_idx, train.columns[:-1]])\n",
        "        y_valid = cupy.array(train.loc[valid_idx, 'target'])\n",
        "        dvalid  = xgb.DMatrix(data=x_valid, label=y_valid)\n",
        "         \n",
        "        x_train = cupy.array(train.loc[train_idx, train.columns[:-1]])\n",
        "        y_train = cupy.array(train.loc[train_idx, 'target'])\n",
        "        dtrain  = xgb.DeviceQuantileDMatrix(data=x_train, label=y_train)\n",
        "\n",
        "        # Train model fold 'k'\n",
        "        model = xgb.train(params                = xgb_parms,\n",
        "                          dtrain                = dtrain,\n",
        "                          evals                 = [(dvalid,'valid')],\n",
        "                          custom_metric         = xgboost_amex_metric_mod,\n",
        "                          num_boost_round       = 10000,\n",
        "                          early_stopping_rounds = 200,\n",
        "                          verbose_eval          = 500)\n",
        "        \n",
        "        # Save model\n",
        "        #model.save_model(f'{model_dir}/freq_1_fold_{fold}.xgb')\n",
        "                \n",
        "        # Validation - Infer out-of-fold\n",
        "        preds     = model.predict(dvalid, iteration_range=(0, model.best_iteration + 1))\n",
        "        df        = pd.DataFrame(data=preds, index=valid_idx, columns=['oof'])\n",
        "        oof_model = pd.concat([oof_model, df], axis = 0)\n",
        "\n",
        "        # Kaggle metric\n",
        "        kag_mets.append(amex_metric_mod(y_valid.get(), preds))\n",
        "        curr_best = np.max([oof[f'fold_{fold}'].max(), kag_mets[-1]])\n",
        "        print(f'Metric = {kag_mets[-1]}, Best = {curr_best}', '\\n')\n",
        "        \n",
        "        # Skip if no significant improvment\n",
        "        if kag_mets[-1] + 0.015 < curr_best: break\n",
        "        \n",
        "        # Permutation importance\n",
        "        premu_imp[f'grid_{model_num}_fold_{fold}'] = permutation_importance(train, valid_idx, train.columns[:-1], model, kag_mets[-1])\n",
        "        \n",
        "        # Clean RAM & GPU RAM\n",
        "        del y_train, x_train, y_valid, x_valid, dtrain, dvalid, train_idx, valid_idx\n",
        "        mempool.free_all_blocks(), pinned_mempool.free_all_blocks(), gc.collect()\n",
        "  \n",
        "    # Skip if fold not compleat\n",
        "    if len(kag_mets) != 5: continue\n",
        "\n",
        "    # Metrics\n",
        "    kag_mets.append(np.mean(kag_mets))\n",
        "    kag_mets.append(amex_metric_mod(train.target.values, oof_model.sort_index().oof.values))\n",
        "    oof.loc[model_num] = kag_mets\n",
        "    print(f'avg: {kag_mets[-2]}, Max: {oof.avg.max()}')\n",
        "    print(f'oof: {kag_mets[-1]}, Max: {oof.oof.max()}', '\\n', '\\n', '\\n')\n",
        "\n",
        "# Average over folds\n",
        "premu_imp['mean'] = premu_imp.mean(axis=1)"
      ]
    },
    {
      "cell_type": "code",
      "execution_count": null,
      "metadata": {
        "colab": {
          "base_uri": "https://localhost:8080/"
        },
        "id": "mLEol5nWONZR",
        "outputId": "ebd4b38a-e3ef-4f1f-f69d-ba32b351df5e"
      },
      "outputs": [
        {
          "data": {
            "text/plain": [
              "0.7931844627660678"
            ]
          },
          "execution_count": 9,
          "metadata": {},
          "output_type": "execute_result"
        }
      ],
      "source": [
        "# 13 & not 13\n",
        "model_metric"
      ]
    },
    {
      "cell_type": "code",
      "execution_count": null,
      "metadata": {
        "id": "tKhAcT4_N8a5"
      },
      "outputs": [],
      "source": [
        "params = pd.DataFrame.from_dict(xgb_grid[0], orient='index')\n",
        "params.to_csv(f'{model_dir}/parameters.csv')"
      ]
    },
    {
      "cell_type": "markdown",
      "metadata": {
        "id": "OPVVjUz5Byxx"
      },
      "source": [
        "# Feature Importance"
      ]
    },
    {
      "cell_type": "markdown",
      "metadata": {
        "id": "yzD_A0XoJxaT"
      },
      "source": [
        "https://towardsdatascience.com/be-careful-when-interpreting-your-features-importance-in-xgboost-6e16132588e7\n",
        "\n",
        "Gain - The relative contribution of the corresponding feature to the model. This is calculated by taking each feature’s contribution for each tree in the model. A higher value of this metric when compared to another feature implies it is more important for generating a prediction.\n",
        "\n",
        "Coverage - The relative number of observations related to this feature. For example, if you have 100 observations, 4 features and 3 trees, and suppose feature1 is used to decide the leaf node for 10, 5, and 2 observations in tree1, tree2 and tree3 respectively; then the metric will count cover for this feature as 10+5+2 = 17 observations. This will be calculated for all the 4 features and the cover will be 17 expressed as a percentage for all features’ cover metrics.\n",
        "\n",
        "Weight - The percentage representing the relative number of times a particular feature occurs in the trees of the model. In the above example, if feature1 occurred in 2 splits, 1 split and 3 splits in each of tree1, tree2 and tree3; then the weight for feature1 will be 2+1+3 = 6. The frequency for feature1 is calculated as its percentage weight over weights of all features."
      ]
    },
    {
      "cell_type": "code",
      "execution_count": null,
      "metadata": {
        "id": "n3ByAb_HGhUQ"
      },
      "outputs": [],
      "source": [
        "importance_types = ['cover', 'gain', 'weight', 'total_gain', 'total_cover']"
      ]
    },
    {
      "cell_type": "code",
      "execution_count": null,
      "metadata": {
        "id": "ipDndrnyLw3R"
      },
      "outputs": [],
      "source": [
        "df = model.get_score(importance_type='cover')\n",
        "df = pd.DataFrame.from_dict(df, orient='index', columns = ['cover'])"
      ]
    },
    {
      "cell_type": "code",
      "execution_count": null,
      "metadata": {
        "id": "ZHAbQxOOOdV3"
      },
      "outputs": [],
      "source": [
        "df = model.get_score(importance_type='gain')\n",
        "df = pd.DataFrame.from_dict(df, orient='index', columns = ['gain'])"
      ]
    }
  ],
  "metadata": {
    "accelerator": "GPU",
    "colab": {
      "collapsed_sections": [
        "0_Lz0gyTjumy",
        "juv-r73KS3a_",
        "8rX6N4YTs4-U",
        "5SUQzkh5jWbl",
        "-c9vREEVYrxt"
      ],
      "machine_shape": "hm",
      "name": "Train/Test.ipynb",
      "provenance": [],
      "include_colab_link": true
    },
    "gpuClass": "standard",
    "kernelspec": {
      "display_name": "Python 3",
      "language": "python",
      "name": "python3"
    },
    "language_info": {
      "codemirror_mode": {
        "name": "ipython",
        "version": 3
      },
      "file_extension": ".py",
      "mimetype": "text/x-python",
      "name": "python",
      "nbconvert_exporter": "python",
      "pygments_lexer": "ipython3",
      "version": "3.6.4"
    }
  },
  "nbformat": 4,
  "nbformat_minor": 0
}