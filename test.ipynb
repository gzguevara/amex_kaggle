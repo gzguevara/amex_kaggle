{
 "cells": [
  {
   "cell_type": "markdown",
   "metadata": {},
   "source": [
    "# Imports"
   ]
  },
  {
   "cell_type": "code",
   "execution_count": 35,
   "metadata": {},
   "outputs": [],
   "source": [
    "import pandas as pd\n",
    "\n",
    "testdir    = '/Users/erichganz/Documents/Code/Kaggle/AmericanExpress/data/raw/train_labels.csv'\n",
    "\n",
    "df         = pd.read_parquet('/Users/erichganz/Documents/Code/Kaggle/AmericanExpress/data/parquets/train.parquet', engine='pyarrow')\n",
    "testLables = pd.read_csv(testdir)\n",
    "\n",
    "testLables['ID'] = testLables.index.values"
   ]
  },
  {
   "cell_type": "code",
   "execution_count": 36,
   "metadata": {},
   "outputs": [],
   "source": [
    "# Shorten cus_ids\n",
    "assignment     = dict(zip(testLables.customer_ID.values, testLables.index.values))\n",
    "df.customer_ID = df.customer_ID.apply(lambda x: assignment[x]).astype('int32')\n",
    "\n",
    "# getting datetime\n",
    "df.S_2 = pd.to_datetime(df.S_2)"
   ]
  },
  {
   "cell_type": "markdown",
   "metadata": {},
   "source": [
    "# Analysis"
   ]
  },
  {
   "cell_type": "markdown",
   "metadata": {},
   "source": [
    "### Changing default rate by length of time period"
   ]
  },
  {
   "cell_type": "code",
   "execution_count": 87,
   "metadata": {},
   "outputs": [
    {
     "data": {
      "text/plain": [
       "13    386034\n",
       "12     10623\n",
       "10      6721\n",
       "9       6411\n",
       "8       6110\n",
       "2       6098\n",
       "11      5961\n",
       "3       5778\n",
       "6       5515\n",
       "7       5198\n",
       "1       5120\n",
       "4       4673\n",
       "5       4671\n",
       "Name: customer_ID, dtype: int64"
      ]
     },
     "execution_count": 87,
     "metadata": {},
     "output_type": "execute_result"
    }
   ],
   "source": [
    "df.customer_ID.value_counts().value_counts()"
   ]
  },
  {
   "cell_type": "code",
   "execution_count": 89,
   "metadata": {},
   "outputs": [
    {
     "name": "stdout",
     "output_type": "stream",
     "text": [
      "13 0.231787873606988\n",
      "12 0.38934387649439894\n",
      "11 0.44673712464351617\n",
      "10 0.4622823984526112\n",
      "9 0.45016378100140386\n",
      "8 0.4472995090016367\n",
      "7 0.41843016544824935\n",
      "6 0.3876699909338169\n",
      "5 0.3926354099764504\n",
      "4 0.4162208431414509\n",
      "3 0.35860159224645205\n",
      "2 0.3184650705149229\n",
      "1 0.3357421875\n"
     ]
    }
   ],
   "source": [
    "comp_to_timelength          = pd.DataFrame()\n",
    "comp_to_timelength['ID']    = df.customer_ID.value_counts().index.values\n",
    "comp_to_timelength['group'] = df.customer_ID.value_counts().values\n",
    "\n",
    "for group in comp_to_timelength.group.unique():\n",
    "\n",
    "    print(group, testLables.loc[testLables.ID.isin(comp_to_timelength.loc[comp_to_timelength.group == group, 'ID'].unique()), 'target'].mean())"
   ]
  },
  {
   "cell_type": "markdown",
   "metadata": {},
   "source": [
    "### Concate"
   ]
  },
  {
   "cell_type": "code",
   "execution_count": 94,
   "metadata": {},
   "outputs": [],
   "source": [
    "# FEATURE ENGINEERING FROM \n",
    "# https://www.kaggle.com/code/huseyincot/amex-agg-data-how-it-created\n",
    "\n",
    "all_cols     = [c for c in list(df.columns) if c not in ['customer_ID','S_2']]\n",
    "cat_features = [\"B_30\", 'B_31', \"B_38\",\"D_114\",\"D_116\",\"D_117\",\"D_120\",\"D_126\",\"D_63\",\"D_64\",\"D_66\",\"D_68\"]\n",
    "num_features = [col for col in all_cols if col not in cat_features]\n",
    "\n",
    "test_num_agg = df.groupby(\"customer_ID\")[num_features].agg(['mean', 'std', 'min', 'max', 'last'])\n",
    "test_num_agg.columns = ['_'.join(x) for x in test_num_agg.columns]\n",
    "\n",
    "test_cat_agg = df.groupby(\"customer_ID\")[cat_features].agg(['count', 'last', 'nunique'])\n",
    "test_cat_agg.columns = ['_'.join(x) for x in test_cat_agg.columns]\n",
    "\n",
    "df_test = pd.concat([test_num_agg, test_cat_agg], axis=1)\n",
    "    \n",
    "  "
   ]
  }
 ],
 "metadata": {
  "kernelspec": {
   "display_name": "Python 3.8.9 64-bit",
   "language": "python",
   "name": "python3"
  },
  "language_info": {
   "codemirror_mode": {
    "name": "ipython",
    "version": 3
   },
   "file_extension": ".py",
   "mimetype": "text/x-python",
   "name": "python",
   "nbconvert_exporter": "python",
   "pygments_lexer": "ipython3",
   "version": "3.8.9"
  },
  "orig_nbformat": 4,
  "vscode": {
   "interpreter": {
    "hash": "31f2aee4e71d21fbe5cf8b01ff0e069b9275f58929596ceb00d14d90e3e16cd6"
   }
  }
 },
 "nbformat": 4,
 "nbformat_minor": 2
}
